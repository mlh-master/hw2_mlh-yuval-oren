{
 "cells": [
  {
   "cell_type": "markdown",
   "metadata": {},
   "source": [
    "HW2 - Detecting Type 1 Diabetes\n"
   ]
  },
  {
   "cell_type": "markdown",
   "metadata": {},
   "source": [
    "We will begin by answering the theoretical questions at the beginning of the assignment.\n",
    "\n",
    "Q1: Accuracy is defined as TP+TN/TP+TN+FN+FP. This representation is not very accurate because lets say for example we have 100 patients and 90 do not have the disease, therefore, a model which will predict that everyone has the disease will be 90 percent accurate. This is of course a terrible model. Performance refers to several parameters such as specificity, sensitivity, F1 score and more. These parameters are much more effective because they display an accurate representation of our model. Specificity will allow us to know the percentage of false negatives, Sensitivity false positives, and the F1 score is a mix of the two which gives a more realistic evaluation metric of the model. Our previous example will have a very low F1 score (which is the correct evaluation).\n",
    "\n",
    "Q2: Using multiple features for your model is good because it has a lot of information. However, if there are features which are not really correlated with the disease or features which are redundant, this will hurt the model. In the example given, income (I) is completely irrelevant and will not tell us anything about the disease. Therefore I would use the two-feature model because it is more relevant and will be faster as it requires less computational power.\n",
    "\n",
    "Q3: If the different groups are not seperable to the human eye I would use a nonlinear SVM. This is because perhaps in a different domain the different groups will be seperable and the model will be more successful.\n",
    "\n",
    "Q4: The differences between linear regression and linear svm are as follows. Linear regression only has one hyperparameter lamda. This parameter is the regularization parameter. Linear SVM on the other hand has 2 hyperparameters, C which gives a punishment for misclassifications and gamma which determines how far the model reaches the training data (high gamma=close, low gamma=far). Another difference between linear regression and linear svm is the outputs. Linear regression's output is a discrete variable in which there is the probability that each observation will belong to a certain group. Linear SVM's output is a plane or a line which seperates between two groups.\n",
    "\n",
    "Let's begin. First we will import relevant packages and load our data."
   ]
  },
  {
   "cell_type": "code",
   "execution_count": 1,
   "metadata": {},
   "outputs": [
    {
     "name": "stdout",
     "output_type": "stream",
     "text": [
      "hello\n"
     ]
    }
   ],
   "source": [
    "import pandas as pd \n",
    "import numpy as np\n",
    "from pathlib import Path\n",
    "import random\n",
    "file = Path.cwd().joinpath('HW2_data.csv')\n",
    "Data=pd.read_csv(file)\n",
    "print('hello')"
   ]
  },
  {
   "cell_type": "markdown",
   "metadata": {},
   "source": [
    "We will replace the empyty cells with values that are according to the distribution of that particular column. This way we dont disrupt the data and we dont lose any data."
   ]
  },
  {
   "cell_type": "code",
   "execution_count": 2,
   "metadata": {},
   "outputs": [],
   "source": [
    "# X=fill_empties(Data)\n",
    "nullContainingFeatures = Data.columns[Data.isnull().any()]\n",
    "numYesAnswers = Data[nullContainingFeatures].__eq__('Yes').sum()\n",
    "numNoAnswers = Data[nullContainingFeatures].__eq__('No').sum()\n",
    "sumAnswers = numYesAnswers+numNoAnswers\n",
    "X = Data\n",
    "for n in nullContainingFeatures:\n",
    "    X[n] = X[n].fillna(np.random.choice([\"Yes\", \"No\"],p=[numYesAnswers[n]/sumAnswers[n],numNoAnswers[n]/sumAnswers[n]]))"
   ]
  },
  {
   "cell_type": "code",
   "execution_count": 3,
   "metadata": {},
   "outputs": [],
   "source": [
    "from sklearn import metrics\n",
    "from sklearn.model_selection import train_test_split\n",
    "from sklearn.linear_model import LogisticRegression\n",
    "import matplotlib.pyplot as plt\n",
    "y = X['Diagnosis']\n",
    "X.drop(columns='Diagnosis', inplace=True)\n",
    "#we will change the 1s and 0s in Family history to be yes and no like the rest of the features\n",
    "X['Family History']=X['Family History'].replace({1:'Yes'})\n",
    "X['Family History']=X['Family History'].replace({0:'No'})\n",
    "#X = np.concatenate((np.ones((len(y), 1)), X), axis=1) # add bias term\n",
    "X_train, x_test, Y_train, y_test = train_test_split(X, y, test_size=0.2, random_state=0, stratify=y)"
   ]
  },
  {
   "cell_type": "markdown",
   "metadata": {},
   "source": [
    "Now we will do some data exploration. We will begin by showing that our positive data is divided equally between the train and the test set."
   ]
  },
  {
   "cell_type": "code",
   "execution_count": 4,
   "metadata": {},
   "outputs": [
    {
     "name": "stdout",
     "output_type": "stream",
     "text": [
      "                         Test%     Train%    Delta%\n",
      "Increased Urination  48.672566  48.230088  0.442478\n",
      "Increased Thirst     38.053097  44.026549 -5.973451\n",
      "Sudden Weight Loss   45.132743  39.159292  5.973451\n",
      "Weakness             60.176991  56.415929  3.761062\n",
      "Increased Hunger     41.592920  44.026549 -2.433628\n",
      "Genital Thrush       29.203540  22.787611  6.415929\n",
      "Visual Blurring      41.592920  45.796460 -4.203540\n",
      "Itching              46.017699  50.221239 -4.203540\n",
      "Irritability         25.663717  23.008850  2.654867\n",
      "Delayed Healing      43.362832  46.902655 -3.539823\n",
      "Partial Paresis      42.477876  42.699115 -0.221239\n",
      "Muscle Stiffness     36.283186  35.619469  0.663717\n",
      "Hair Loss            41.592920  34.292035  7.300885\n",
      "Obesity              14.159292  17.477876 -3.318584\n",
      "Family History       52.212389  50.221239  1.991150\n"
     ]
    },
    {
     "data": {
      "image/png": "[encoded data removed]",
      "text/plain": [
       "<Figure size 432x288 with 1 Axes>"
      ]
     },
     "metadata": {
      "needs_background": "light"
     },
     "output_type": "display_data"
    }
   ],
   "source": [
    "percent_positive_test=pd.DataFrame()\n",
    "percent_positive_train=pd.DataFrame()\n",
    "\n",
    "#first we will remove the features which are not binary\n",
    "X_train_new=X_train.drop('Age',axis=1)\n",
    "X_train_new=X_train_new.drop('Gender',axis=1)\n",
    "X_test_new=x_test.drop('Age',axis=1)\n",
    "X_test_new=X_test_new.drop('Gender',axis=1)\n",
    "\n",
    "#now we will find the percentage of positive values for each feature for the train and test set\n",
    "for column in X_train_new:\n",
    "    X_train_positive=(X_train_new[column]=='Yes')\n",
    "    percent_positive_train[column]=X_train_positive.value_counts(normalize=True)\n",
    "\n",
    "for column in X_test_new:\n",
    "    X_test_positive=(X_test_new[column]=='Yes')\n",
    "    percent_positive_test[column]=X_test_positive.value_counts(normalize=True)\n",
    "\n",
    "data_tag_test=percent_positive_test.drop([0,0])\n",
    "data_tag_test=data_tag_test.transpose()\n",
    "data_tag_train=percent_positive_train.drop([0,0])\n",
    "data_tag_train=data_tag_train.transpose()\n",
    "data_tag_train['Test%']=data_tag_test*100\n",
    "data_tag_train['Train%']=percent_positive_train.drop([0,0]).transpose()*100\n",
    "\n",
    "data_tag_train['Delta%']=(data_tag_train['Test%']-data_tag_train['Train%'])\n",
    "print(data_tag_train[['Test%','Train%','Delta%']])\n",
    "\n",
    "# justify dropping age feature\n",
    "agePositive = X[\"Age\"][y=='Positive']\n",
    "ageNegative = X[\"Age\"][y=='Negative']\n",
    "\n",
    "fig = plt.figure()\n",
    "ax = fig.add_subplot()\n",
    "ax.hist(agePositive,density=True)\n",
    "ax.hist(ageNegative,density=True,ec='red',fc='none')\n",
    "ax.set_xlabel('Age')\n",
    "ax.set_ylabel('Probability')\n",
    "ax.set_title('Distribution of diagnosis by age')\n",
    "ax.legend((\"Positive\", \"Negative\"))\n",
    "plt.show()\n"
   ]
  },
  {
   "cell_type": "markdown",
   "metadata": {},
   "source": [
    "As we can see from the bar graph above, the age is not correlated with the disease, the distribution of positive and negative outcomes across different ages is very similar therefore we will remove this feature when creating our models."
   ]
  },
  {
   "cell_type": "code",
   "execution_count": 5,
   "metadata": {},
   "outputs": [],
   "source": [
    "def plot_features(X,y,feature):\n",
    "    import matplotlib.pyplot as plt\n",
    "    y=np.array(y)\n",
    "    temp=pd.DataFrame(X[feature])\n",
    "    idx_positive=np.where(y=='Positive')\n",
    "    idx_negative=np.where(y=='Negative')\n",
    "    first_y=temp.loc[idx_positive].value_counts().sort_index(ascending=False)\n",
    "    second_y=temp.loc[idx_negative].value_counts().sort_index(ascending=False)\n",
    "    labels=['Positive', 'Negative']\n",
    "\n",
    "    x = np.arange(2)\n",
    "    fig = plt.figure()\n",
    "    ax = fig.add_axes([0,0,1,1])\n",
    "    ax.bar(x + 0.00, first_y, color = 'b', width = 0.25)\n",
    "    ax.bar(x + 0.25, second_y, color = 'g', width = 0.25)\n",
    "    ax.set_ylabel(\"counts\")\n",
    "    ax.set_xticks(x+0.125)\n",
    "    if feature=='Gender':\n",
    "        ax.set_xticklabels(['Male','Female'])\n",
    "    else:\n",
    "        ax.set_xticklabels(['Yes','No'])\n",
    "    \n",
    "    ax.set_title('Positive/Negative of {:}'.format(feature))\n",
    "    ax.legend(labels)\n",
    "    plt.show()"
   ]
  },
  {
   "cell_type": "code",
   "execution_count": 6,
   "metadata": {},
   "outputs": [
    {
     "data": {
      "image/png": "[encoded data removed]",
      "text/plain": [
       "<Figure size 432x288 with 1 Axes>"
      ]
     },
     "metadata": {
      "needs_background": "light"
     },
     "output_type": "display_data"
    },
    {
     "data": {
      "image/png": "[encoded data removed]",
      "text/plain": [
       "<Figure size 432x288 with 1 Axes>"
      ]
     },
     "metadata": {
      "needs_background": "light"
     },
     "output_type": "display_data"
    },
    {
     "data": {
      "image/png": "[encoded data removed]",
      "text/plain": [
       "<Figure size 432x288 with 1 Axes>"
      ]
     },
     "metadata": {
      "needs_background": "light"
     },
     "output_type": "display_data"
    },
    {
     "data": {
      "image/png": "[encoded data removed]",
      "text/plain": [
       "<Figure size 432x288 with 1 Axes>"
      ]
     },
     "metadata": {
      "needs_background": "light"
     },
     "output_type": "display_data"
    },
    {
     "data": {
      "image/png": "[encoded data removed]",
      "text/plain": [
       "<Figure size 432x288 with 1 Axes>"
      ]
     },
     "metadata": {
      "needs_background": "light"
     },
     "output_type": "display_data"
    },
    {
     "data": {
      "image/png": "[encoded data removed]",
      "text/plain": [
       "<Figure size 432x288 with 1 Axes>"
      ]
     },
     "metadata": {
      "needs_background": "light"
     },
     "output_type": "display_data"
    },
    {
     "data": {
      "image/png": "[encoded data removed]",
      "text/plain": [
       "<Figure size 432x288 with 1 Axes>"
      ]
     },
     "metadata": {
      "needs_background": "light"
     },
     "output_type": "display_data"
    },
    {
     "data": {
      "image/png": "[encoded data removed]",
      "text/plain": [
       "<Figure size 432x288 with 1 Axes>"
      ]
     },
     "metadata": {
      "needs_background": "light"
     },
     "output_type": "display_data"
    },
    {
     "data": {
      "image/png": "[encoded data removed]",
      "text/plain": [
       "<Figure size 432x288 with 1 Axes>"
      ]
     },
     "metadata": {
      "needs_background": "light"
     },
     "output_type": "display_data"
    },
    {
     "data": {
      "image/png": "[encoded data removed]",
      "text/plain": [
       "<Figure size 432x288 with 1 Axes>"
      ]
     },
     "metadata": {
      "needs_background": "light"
     },
     "output_type": "display_data"
    },
    {
     "data": {
      "image/png": "[encoded data removed]",
      "text/plain": [
       "<Figure size 432x288 with 1 Axes>"
      ]
     },
     "metadata": {
      "needs_background": "light"
     },
     "output_type": "display_data"
    },
    {
     "data": {
      "image/png": "[encoded data removed]",
      "text/plain": [
       "<Figure size 432x288 with 1 Axes>"
      ]
     },
     "metadata": {
      "needs_background": "light"
     },
     "output_type": "display_data"
    },
    {
     "data": {
      "image/png": "[encoded data removed]",
      "text/plain": [
       "<Figure size 432x288 with 1 Axes>"
      ]
     },
     "metadata": {
      "needs_background": "light"
     },
     "output_type": "display_data"
    },
    {
     "data": {
      "image/png": "[encoded data removed]",
      "text/plain": [
       "<Figure size 432x288 with 1 Axes>"
      ]
     },
     "metadata": {
      "needs_background": "light"
     },
     "output_type": "display_data"
    },
    {
     "data": {
      "image/png": "[encoded data removed]",
      "text/plain": [
       "<Figure size 432x288 with 1 Axes>"
      ]
     },
     "metadata": {
      "needs_background": "light"
     },
     "output_type": "display_data"
    }
   ],
   "source": [
    "plot_features(X,y,'Gender')\n",
    "plot_features(X,y,'Increased Urination')\n",
    "plot_features(X,y,'Obesity')\n",
    "plot_features(X,y,'Increased Thirst')\n",
    "plot_features(X,y,'Weakness')\n",
    "plot_features(X,y,'Sudden Weight Loss')\n",
    "plot_features(X,y,'Increased Hunger')\n",
    "plot_features(X,y,'Genital Thrush')\n",
    "plot_features(X,y,'Visual Blurring')\n",
    "plot_features(X,y,'Itching')\n",
    "plot_features(X,y,'Irritability')\n",
    "plot_features(X,y,'Delayed Healing')\n",
    "plot_features(X,y,'Partial Paresis')\n",
    "plot_features(X,y,'Muscle Stiffness')\n",
    "plot_features(X,y,'Hair Loss')"
   ]
  },
  {
   "cell_type": "markdown",
   "metadata": {},
   "source": [
    "If we examine the above graphs we see that Increased Thirst and Increased Urination are important features. In these features if the answer is yes, the probability that the person has the disease is very high and also if he doesnt have these features (the answer is no) the probability is higher that he is healthy. Other important features could be Sudden Weight Loss and Partial Paresis. \n",
    "An unexpected finding is that most females have the disease. This is probably just an unbalanced sample of people, rather than a characteristic of the disease\n",
    "\n",
    "Now we will continue and encode our data as one hot vectors"
   ]
  },
  {
   "cell_type": "code",
   "execution_count": 7,
   "metadata": {},
   "outputs": [],
   "source": [
    "def encoding_data(X):\n",
    "    from sklearn.preprocessing import LabelEncoder\n",
    "    from sklearn.preprocessing import OneHotEncoder\n",
    "\n",
    "    label_encoder = LabelEncoder()\n",
    "    onehot_encoder = OneHotEncoder(sparse=False)\n",
    "    if X.size > len(X):\n",
    "        X_encoded=X.drop('Age',axis=1)\n",
    "        for column in X_encoded:\n",
    "            integer_encoded = label_encoder.fit_transform(X_encoded[column])\n",
    "            integer_encoded = integer_encoded.reshape(len(integer_encoded), 1)\n",
    "            onehot_encoded = onehot_encoder.fit_transform(integer_encoded)\n",
    "            X_encoded[column]=onehot_encoded\n",
    "\n",
    "        final=X_encoded\n",
    "\n",
    "    else:\n",
    "        X_encoded = pd.DataFrame(X)\n",
    "        X_encoded = X_encoded.replace({'Positive':1})\n",
    "        X_encoded = X_encoded.replace({'Negative':0})\n",
    "        final=X_encoded\n",
    "        \n",
    "    return final\n"
   ]
  },
  {
   "cell_type": "code",
   "execution_count": 8,
   "metadata": {},
   "outputs": [
    {
     "name": "stdout",
     "output_type": "stream",
     "text": [
      "     Diagnosis\n",
      "6            0\n",
      "404          0\n",
      "359          0\n",
      "322          1\n",
      "97           1\n",
      "..         ...\n",
      "271          0\n",
      "147          1\n",
      "24           0\n",
      "269          0\n",
      "547          0\n",
      "\n",
      "[452 rows x 1 columns]\n"
     ]
    }
   ],
   "source": [
    "encoded_X_train=encoding_data(X_train)\n",
    "encoded_X_test=encoding_data(x_test)\n",
    "encoded_y_train=encoding_data(Y_train)\n",
    "encoded_y_test=encoding_data(y_test)\n",
    "\n",
    "#We will print encoded_y_train just to see that indeed there are only ones and zeros:\n",
    "print(encoded_y_train)"
   ]
  },
  {
   "cell_type": "code",
   "execution_count": 9,
   "metadata": {},
   "outputs": [],
   "source": [
    "#We will define vectors which are the test and train vectors of X with the two most important features. We will use this later in section 7\n",
    "X_train_2feat=encoded_X_train[['Increased Thirst','Increased Urination']]\n",
    "X_test_2feat=encoded_X_test[['Increased Thirst','Increased Urination']]"
   ]
  },
  {
   "cell_type": "markdown",
   "metadata": {},
   "source": [
    "Now we will run our linear machine learning model with 5k folds"
   ]
  },
  {
   "cell_type": "code",
   "execution_count": 10,
   "metadata": {},
   "outputs": [
    {
     "name": "stdout",
     "output_type": "stream",
     "text": [
      "Fitting 5 folds for each of 12 candidates, totalling 60 fits\n",
      "[CV] logistic__C=100.0, logistic__penalty=l1 .........................\n",
      "[CV]  logistic__C=100.0, logistic__penalty=l1, accuracy=(train=0.945, test=0.901), f1=(train=0.954, test=0.917), precision=(train=0.963, test=0.926), recall=(train=0.945, test=0.909), roc_auc=(train=0.988, test=0.962), total=   0.0s\n",
      "[CV] logistic__C=100.0, logistic__penalty=l1 .........................\n",
      "[CV]  logistic__C=100.0, logistic__penalty=l1, accuracy=(train=0.936, test=0.923), f1=(train=0.947, test=0.935), precision=(train=0.958, test=0.962), recall=(train=0.936, test=0.909), roc_auc=(train=0.983, test=0.976), total=   0.0s\n",
      "[CV] logistic__C=100.0, logistic__penalty=l1 .........................\n",
      "[CV]  logistic__C=100.0, logistic__penalty=l1, accuracy=(train=0.953, test=0.911), f1=(train=0.961, test=0.925), precision=(train=0.977, test=0.942), recall=(train=0.945, test=0.907), roc_auc=(train=0.980, test=0.975), total=   0.0s\n",
      "[CV] logistic__C=100.0, logistic__penalty=l1 .........................\n",
      "[CV]  logistic__C=100.0, logistic__penalty=l1, accuracy=(train=0.931, test=0.933), f1=(train=0.943, test=0.946), precision=(train=0.949, test=0.930), recall=(train=0.936, test=0.964), roc_auc=(train=0.981, test=0.973), total=   0.0s\n",
      "[CV] logistic__C=100.0, logistic__penalty=l1 .........................\n",
      "[CV]  logistic__C=100.0, logistic__penalty=l1, accuracy=(train=0.931, test=0.922), f1=(train=0.943, test=0.939), precision=(train=0.949, test=0.900), recall=(train=0.936, test=0.982), roc_auc=(train=0.982, test=0.972), total=   0.0s\n",
      "[CV] logistic__C=100.0, logistic__penalty=l2 .........................\n",
      "[CV]  logistic__C=100.0, logistic__penalty=l2, accuracy=(train=0.945, test=0.901), f1=(train=0.954, test=0.917), precision=(train=0.963, test=0.926), recall=(train=0.945, test=0.909), roc_auc=(train=0.988, test=0.962), total=   0.0s\n",
      "[CV] logistic__C=100.0, logistic__penalty=l2 .........................\n"
     ]
    },
    {
     "name": "stderr",
     "output_type": "stream",
     "text": [
      "[Parallel(n_jobs=1)]: Using backend SequentialBackend with 1 concurrent workers.\n",
      "[Parallel(n_jobs=1)]: Done   1 out of   1 | elapsed:    0.0s remaining:    0.0s\n",
      "[Parallel(n_jobs=1)]: Done   2 out of   2 | elapsed:    0.0s remaining:    0.0s\n"
     ]
    },
    {
     "name": "stdout",
     "output_type": "stream",
     "text": [
      "[CV]  logistic__C=100.0, logistic__penalty=l2, accuracy=(train=0.936, test=0.923), f1=(train=0.947, test=0.935), precision=(train=0.958, test=0.962), recall=(train=0.936, test=0.909), roc_auc=(train=0.983, test=0.976), total=   0.0s\n",
      "[CV] logistic__C=100.0, logistic__penalty=l2 .........................\n",
      "[CV]  logistic__C=100.0, logistic__penalty=l2, accuracy=(train=0.953, test=0.911), f1=(train=0.961, test=0.925), precision=(train=0.977, test=0.942), recall=(train=0.945, test=0.907), roc_auc=(train=0.980, test=0.975), total=   0.0s\n",
      "[CV] logistic__C=100.0, logistic__penalty=l2 .........................\n",
      "[CV]  logistic__C=100.0, logistic__penalty=l2, accuracy=(train=0.931, test=0.933), f1=(train=0.943, test=0.946), precision=(train=0.949, test=0.930), recall=(train=0.936, test=0.964), roc_auc=(train=0.981, test=0.973), total=   0.0s\n",
      "[CV] logistic__C=100.0, logistic__penalty=l2 .........................\n",
      "[CV]  logistic__C=100.0, logistic__penalty=l2, accuracy=(train=0.931, test=0.922), f1=(train=0.943, test=0.939), precision=(train=0.949, test=0.900), recall=(train=0.936, test=0.982), roc_auc=(train=0.982, test=0.972), total=   0.0s\n",
      "[CV] logistic__C=100.0, logistic__penalty=l1 .........................\n",
      "[CV]  logistic__C=100.0, logistic__penalty=l1, accuracy=(train=0.945, test=0.901), f1=(train=0.954, test=0.917), precision=(train=0.963, test=0.926), recall=(train=0.945, test=0.909), roc_auc=(train=0.988, test=0.962), total=   0.0s\n",
      "[CV] logistic__C=100.0, logistic__penalty=l1 .........................\n",
      "[CV]  logistic__C=100.0, logistic__penalty=l1, accuracy=(train=0.936, test=0.923), f1=(train=0.947, test=0.935), precision=(train=0.958, test=0.962), recall=(train=0.936, test=0.909), roc_auc=(train=0.983, test=0.976), total=   0.0s\n",
      "[CV] logistic__C=100.0, logistic__penalty=l1 .........................\n",
      "[CV]  logistic__C=100.0, logistic__penalty=l1, accuracy=(train=0.953, test=0.911), f1=(train=0.961, test=0.925), precision=(train=0.977, test=0.942), recall=(train=0.945, test=0.907), roc_auc=(train=0.980, test=0.975), total=   0.0s\n",
      "[CV] logistic__C=100.0, logistic__penalty=l1 .........................\n",
      "[CV]  logistic__C=100.0, logistic__penalty=l1, accuracy=(train=0.931, test=0.933), f1=(train=0.943, test=0.946), precision=(train=0.949, test=0.930), recall=(train=0.936, test=0.964), roc_auc=(train=0.981, test=0.973), total=   0.0s\n",
      "[CV] logistic__C=100.0, logistic__penalty=l1 .........................\n",
      "[CV]  logistic__C=100.0, logistic__penalty=l1, accuracy=(train=0.931, test=0.922), f1=(train=0.943, test=0.939), precision=(train=0.949, test=0.900), recall=(train=0.936, test=0.982), roc_auc=(train=0.982, test=0.972), total=   0.0s\n",
      "[CV] logistic__C=100.0, logistic__penalty=l2 .........................\n",
      "[CV]  logistic__C=100.0, logistic__penalty=l2, accuracy=(train=0.945, test=0.901), f1=(train=0.954, test=0.917), precision=(train=0.963, test=0.926), recall=(train=0.945, test=0.909), roc_auc=(train=0.988, test=0.962), total=   0.0s\n",
      "[CV] logistic__C=100.0, logistic__penalty=l2 .........................\n",
      "[CV]  logistic__C=100.0, logistic__penalty=l2, accuracy=(train=0.936, test=0.923), f1=(train=0.947, test=0.935), precision=(train=0.958, test=0.962), recall=(train=0.936, test=0.909), roc_auc=(train=0.983, test=0.976), total=   0.0s\n",
      "[CV] logistic__C=100.0, logistic__penalty=l2 .........................\n",
      "[CV]  logistic__C=100.0, logistic__penalty=l2, accuracy=(train=0.953, test=0.911), f1=(train=0.961, test=0.925), precision=(train=0.977, test=0.942), recall=(train=0.945, test=0.907), roc_auc=(train=0.980, test=0.975), total=   0.0s\n",
      "[CV] logistic__C=100.0, logistic__penalty=l2 .........................\n",
      "[CV]  logistic__C=100.0, logistic__penalty=l2, accuracy=(train=0.931, test=0.933), f1=(train=0.943, test=0.946), precision=(train=0.949, test=0.930), recall=(train=0.936, test=0.964), roc_auc=(train=0.981, test=0.973), total=   0.0s\n",
      "[CV] logistic__C=100.0, logistic__penalty=l2 .........................\n",
      "[CV]  logistic__C=100.0, logistic__penalty=l2, accuracy=(train=0.931, test=0.922), f1=(train=0.943, test=0.939), precision=(train=0.949, test=0.900), recall=(train=0.936, test=0.982), roc_auc=(train=0.982, test=0.972), total=   0.0s\n",
      "[CV] logistic__C=1.0, logistic__penalty=l1 ...........................\n",
      "[CV]  logistic__C=1.0, logistic__penalty=l1, accuracy=(train=0.939, test=0.890), f1=(train=0.949, test=0.909), precision=(train=0.958, test=0.909), recall=(train=0.941, test=0.909), roc_auc=(train=0.987, test=0.964), total=   0.0s\n",
      "[CV] logistic__C=1.0, logistic__penalty=l1 ...........................\n",
      "[CV]  logistic__C=1.0, logistic__penalty=l1, accuracy=(train=0.936, test=0.923), f1=(train=0.947, test=0.935), precision=(train=0.958, test=0.962), recall=(train=0.936, test=0.909), roc_auc=(train=0.983, test=0.975), total=   0.0s\n",
      "[CV] logistic__C=1.0, logistic__penalty=l1 ...........................\n",
      "[CV]  logistic__C=1.0, logistic__penalty=l1, accuracy=(train=0.948, test=0.900), f1=(train=0.956, test=0.914), precision=(train=0.972, test=0.941), recall=(train=0.941, test=0.889), roc_auc=(train=0.981, test=0.975), total=   0.0s\n",
      "[CV] logistic__C=1.0, logistic__penalty=l1 ...........................\n",
      "[CV]  logistic__C=1.0, logistic__penalty=l1, accuracy=(train=0.934, test=0.944), f1=(train=0.945, test=0.955), precision=(train=0.949, test=0.946), recall=(train=0.941, test=0.964), roc_auc=(train=0.981, test=0.973), total=   0.0s\n",
      "[CV] logistic__C=1.0, logistic__penalty=l1 ...........................\n",
      "[CV]  logistic__C=1.0, logistic__penalty=l1, accuracy=(train=0.928, test=0.922), f1=(train=0.941, test=0.939), precision=(train=0.941, test=0.900), recall=(train=0.941, test=0.982), roc_auc=(train=0.981, test=0.971), total=   0.0s\n",
      "[CV] logistic__C=1.0, logistic__penalty=l2 ...........................\n",
      "[CV]  logistic__C=1.0, logistic__penalty=l2, accuracy=(train=0.942, test=0.901), f1=(train=0.952, test=0.917), precision=(train=0.958, test=0.926), recall=(train=0.945, test=0.909), roc_auc=(train=0.986, test=0.963), total=   0.0s\n",
      "[CV] logistic__C=1.0, logistic__penalty=l2 ...........................\n",
      "[CV]  logistic__C=1.0, logistic__penalty=l2, accuracy=(train=0.936, test=0.923), f1=(train=0.947, test=0.935), precision=(train=0.958, test=0.962), recall=(train=0.936, test=0.909), roc_auc=(train=0.984, test=0.974), total=   0.0s\n",
      "[CV] logistic__C=1.0, logistic__penalty=l2 ...........................\n",
      "[CV]  logistic__C=1.0, logistic__penalty=l2, accuracy=(train=0.953, test=0.900), f1=(train=0.961, test=0.914), precision=(train=0.977, test=0.941), recall=(train=0.945, test=0.889), roc_auc=(train=0.981, test=0.976), total=   0.0s\n",
      "[CV] logistic__C=1.0, logistic__penalty=l2 ...........................\n",
      "[CV]  logistic__C=1.0, logistic__penalty=l2, accuracy=(train=0.925, test=0.922), f1=(train=0.938, test=0.938), precision=(train=0.936, test=0.914), recall=(train=0.941, test=0.964), roc_auc=(train=0.981, test=0.970), total=   0.0s\n",
      "[CV] logistic__C=1.0, logistic__penalty=l2 ...........................\n",
      "[CV]  logistic__C=1.0, logistic__penalty=l2, accuracy=(train=0.928, test=0.922), f1=(train=0.941, test=0.939), precision=(train=0.941, test=0.900), recall=(train=0.941, test=0.982), roc_auc=(train=0.980, test=0.971), total=   0.0s\n",
      "[CV] logistic__C=0.1, logistic__penalty=l1 ...........................\n",
      "[CV]  logistic__C=0.1, logistic__penalty=l1, accuracy=(train=0.900, test=0.879), f1=(train=0.916, test=0.897), precision=(train=0.938, test=0.923), recall=(train=0.895, test=0.873), roc_auc=(train=0.977, test=0.959), total=   0.0s\n",
      "[CV] logistic__C=0.1, logistic__penalty=l1 ...........................\n",
      "[CV]  logistic__C=0.1, logistic__penalty=l1, accuracy=(train=0.909, test=0.879), f1=(train=0.923, test=0.895), precision=(train=0.947, test=0.940), recall=(train=0.900, test=0.855), roc_auc=(train=0.976, test=0.977), total=   0.0s\n",
      "[CV] logistic__C=0.1, logistic__penalty=l1 ...........................\n",
      "[CV]  logistic__C=0.1, logistic__penalty=l1, accuracy=(train=0.903, test=0.878), f1=(train=0.918, test=0.889), precision=(train=0.951, test=0.978), recall=(train=0.886, test=0.815), roc_auc=(train=0.973, test=0.972), total=   0.0s\n",
      "[CV] logistic__C=0.1, logistic__penalty=l1 ...........................\n",
      "[CV]  logistic__C=0.1, logistic__penalty=l1, accuracy=(train=0.901, test=0.956), f1=(train=0.917, test=0.964), precision=(train=0.930, test=0.964), recall=(train=0.904, test=0.964), roc_auc=(train=0.974, test=0.979), total=   0.0s\n",
      "[CV] logistic__C=0.1, logistic__penalty=l1 ...........................\n",
      "[CV]  logistic__C=0.1, logistic__penalty=l1, accuracy=(train=0.903, test=0.878), f1=(train=0.917, test=0.901), precision=(train=0.951, test=0.893), recall=(train=0.886, test=0.909), roc_auc=(train=0.976, test=0.952), total=   0.0s\n",
      "[CV] logistic__C=0.1, logistic__penalty=l2 ...........................\n",
      "[CV]  logistic__C=0.1, logistic__penalty=l2, accuracy=(train=0.922, test=0.890), f1=(train=0.935, test=0.907), precision=(train=0.953, test=0.925), recall=(train=0.918, test=0.891), roc_auc=(train=0.983, test=0.968), total=   0.0s\n",
      "[CV] logistic__C=0.1, logistic__penalty=l2 ...........................\n",
      "[CV]  logistic__C=0.1, logistic__penalty=l2, accuracy=(train=0.928, test=0.912), f1=(train=0.939, test=0.925), precision=(train=0.966, test=0.961), recall=(train=0.913, test=0.891), roc_auc=(train=0.982, test=0.976), total=   0.0s\n",
      "[CV] logistic__C=0.1, logistic__penalty=l2 ...........................\n",
      "[CV]  logistic__C=0.1, logistic__penalty=l2, accuracy=(train=0.936, test=0.911), f1=(train=0.946, test=0.922), precision=(train=0.980, test=0.979), recall=(train=0.914, test=0.870), roc_auc=(train=0.978, test=0.972), total=   0.0s\n",
      "[CV] logistic__C=0.1, logistic__penalty=l2 ...........................\n",
      "[CV]  logistic__C=0.1, logistic__penalty=l2, accuracy=(train=0.917, test=0.911), f1=(train=0.931, test=0.927), precision=(train=0.944, test=0.927), recall=(train=0.918, test=0.927), roc_auc=(train=0.981, test=0.967), total=   0.0s\n",
      "[CV] logistic__C=0.1, logistic__penalty=l2 ...........................\n",
      "[CV]  logistic__C=0.1, logistic__penalty=l2, accuracy=(train=0.923, test=0.889), f1=(train=0.935, test=0.911), precision=(train=0.953, test=0.895), recall=(train=0.918, test=0.927), roc_auc=(train=0.978, test=0.973), total=   0.0s\n",
      "[CV] logistic__C=0.01, logistic__penalty=l1 ..........................\n",
      "[CV]  logistic__C=0.01, logistic__penalty=l1, accuracy=(train=0.834, test=0.802), f1=(train=0.848, test=0.816), precision=(train=0.954, test=0.930), recall=(train=0.763, test=0.727), roc_auc=(train=0.912, test=0.892), total=   0.0s\n",
      "[CV] logistic__C=0.01, logistic__penalty=l1 ..........................\n",
      "[CV]  logistic__C=0.01, logistic__penalty=l1, accuracy=(train=0.828, test=0.824), f1=(train=0.843, test=0.833), precision=(train=0.944, test=0.976), recall=(train=0.763, test=0.727), roc_auc=(train=0.908, test=0.912), total=   0.0s\n",
      "[CV] logistic__C=0.01, logistic__penalty=l1 ..........................\n",
      "[CV]  logistic__C=0.01, logistic__penalty=l1, accuracy=(train=0.820, test=0.733), f1=(train=0.830, test=0.733), precision=(train=0.975, test=0.917), recall=(train=0.723, test=0.611), roc_auc=(train=0.916, test=0.880), total=   0.0s\n",
      "[CV] logistic__C=0.01, logistic__penalty=l1 ..........................\n",
      "[CV]  logistic__C=0.01, logistic__penalty=l1, accuracy=(train=0.818, test=0.867), f1=(train=0.832, test=0.880), precision=(train=0.942, test=0.978), recall=(train=0.744, test=0.800), roc_auc=(train=0.900, test=0.943), total=   0.0s\n",
      "[CV] logistic__C=0.01, logistic__penalty=l1 ..........................\n",
      "[CV]  logistic__C=0.01, logistic__penalty=l1, accuracy=(train=0.834, test=0.800), f1=(train=0.845, test=0.827), precision=(train=0.970, test=0.878), recall=(train=0.749, test=0.782), roc_auc=(train=0.857, test=0.805), total=   0.0s\n",
      "[CV] logistic__C=0.01, logistic__penalty=l2 ..........................\n",
      "[CV]  logistic__C=0.01, logistic__penalty=l2, accuracy=(train=0.886, test=0.868), f1=(train=0.900, test=0.882), precision=(train=0.964, test=0.957), recall=(train=0.845, test=0.818), roc_auc=(train=0.972, test=0.951), total=   0.0s\n",
      "[CV] logistic__C=0.01, logistic__penalty=l2 ..........................\n",
      "[CV]  logistic__C=0.01, logistic__penalty=l2, accuracy=(train=0.900, test=0.890), f1=(train=0.913, test=0.902), precision=(train=0.974, test=0.979), recall=(train=0.858, test=0.836), roc_auc=(train=0.972, test=0.978), total=   0.0s\n",
      "[CV] logistic__C=0.01, logistic__penalty=l2 ..........................\n",
      "[CV]  logistic__C=0.01, logistic__penalty=l2, accuracy=(train=0.914, test=0.844), f1=(train=0.925, test=0.854), precision=(train=0.990, test=0.976), recall=(train=0.868, test=0.759), roc_auc=(train=0.974, test=0.959), total=   0.0s\n",
      "[CV] logistic__C=0.01, logistic__penalty=l2 ..........................\n",
      "[CV]  logistic__C=0.01, logistic__penalty=l2, accuracy=(train=0.892, test=0.900), f1=(train=0.905, test=0.916), precision=(train=0.969, test=0.942), recall=(train=0.849, test=0.891), roc_auc=(train=0.977, test=0.967), total=   0.0s\n",
      "[CV] logistic__C=0.01, logistic__penalty=l2 ..........................\n",
      "[CV]  logistic__C=0.01, logistic__penalty=l2, accuracy=(train=0.887, test=0.889), f1=(train=0.900, test=0.909), precision=(train=0.964, test=0.909), recall=(train=0.845, test=0.909), roc_auc=(train=0.972, test=0.974), total=   0.0s\n",
      "[CV] logistic__C=0.001, logistic__penalty=l1 .........................\n",
      "[CV]  logistic__C=0.001, logistic__penalty=l1, accuracy=(train=0.393, test=0.396), f1=(train=0.000, test=0.000), precision=(train=0.000, test=0.000), recall=(train=0.000, test=0.000), roc_auc=(train=0.500, test=0.500), total=   0.0s\n",
      "[CV] logistic__C=0.001, logistic__penalty=l1 .........................\n",
      "[CV]  logistic__C=0.001, logistic__penalty=l1, accuracy=(train=0.393, test=0.396), f1=(train=0.000, test=0.000), precision=(train=0.000, test=0.000), recall=(train=0.000, test=0.000), roc_auc=(train=0.500, test=0.500), total=   0.0s\n",
      "[CV] logistic__C=0.001, logistic__penalty=l1 .........................\n",
      "[CV]  logistic__C=0.001, logistic__penalty=l1, accuracy=(train=0.392, test=0.400), f1=(train=0.000, test=0.000), precision=(train=0.000, test=0.000), recall=(train=0.000, test=0.000), roc_auc=(train=0.500, test=0.500), total=   0.0s\n",
      "[CV] logistic__C=0.001, logistic__penalty=l1 .........................\n",
      "[CV]  logistic__C=0.001, logistic__penalty=l1, accuracy=(train=0.395, test=0.389), f1=(train=0.000, test=0.000), precision=(train=0.000, test=0.000), recall=(train=0.000, test=0.000), roc_auc=(train=0.500, test=0.500), total=   0.0s\n",
      "[CV] logistic__C=0.001, logistic__penalty=l1 .........................\n",
      "[CV]  logistic__C=0.001, logistic__penalty=l1, accuracy=(train=0.395, test=0.389), f1=(train=0.000, test=0.000), precision=(train=0.000, test=0.000), recall=(train=0.000, test=0.000), roc_auc=(train=0.500, test=0.500), total=   0.0s\n",
      "[CV] logistic__C=0.001, logistic__penalty=l2 .........................\n",
      "[CV]  logistic__C=0.001, logistic__penalty=l2, accuracy=(train=0.853, test=0.791), f1=(train=0.867, test=0.800), precision=(train=0.961, test=0.950), recall=(train=0.790, test=0.691), roc_auc=(train=0.957, test=0.926), total=   0.0s\n",
      "[CV] logistic__C=0.001, logistic__penalty=l2 .........................\n"
     ]
    },
    {
     "name": "stderr",
     "output_type": "stream",
     "text": [
      "C:\\Users\\USER\\anaconda3\\envs\\bm-336546\\lib\\site-packages\\sklearn\\metrics\\_classification.py:1221: UndefinedMetricWarning: Precision is ill-defined and being set to 0.0 due to no predicted samples. Use `zero_division` parameter to control this behavior.\n",
      "  _warn_prf(average, modifier, msg_start, len(result))\n",
      "C:\\Users\\USER\\anaconda3\\envs\\bm-336546\\lib\\site-packages\\sklearn\\metrics\\_classification.py:1221: UndefinedMetricWarning: Precision is ill-defined and being set to 0.0 due to no predicted samples. Use `zero_division` parameter to control this behavior.\n",
      "  _warn_prf(average, modifier, msg_start, len(result))\n",
      "C:\\Users\\USER\\anaconda3\\envs\\bm-336546\\lib\\site-packages\\sklearn\\metrics\\_classification.py:1221: UndefinedMetricWarning: Precision is ill-defined and being set to 0.0 due to no predicted samples. Use `zero_division` parameter to control this behavior.\n",
      "  _warn_prf(average, modifier, msg_start, len(result))\n",
      "C:\\Users\\USER\\anaconda3\\envs\\bm-336546\\lib\\site-packages\\sklearn\\metrics\\_classification.py:1221: UndefinedMetricWarning: Precision is ill-defined and being set to 0.0 due to no predicted samples. Use `zero_division` parameter to control this behavior.\n",
      "  _warn_prf(average, modifier, msg_start, len(result))\n",
      "C:\\Users\\USER\\anaconda3\\envs\\bm-336546\\lib\\site-packages\\sklearn\\metrics\\_classification.py:1221: UndefinedMetricWarning: Precision is ill-defined and being set to 0.0 due to no predicted samples. Use `zero_division` parameter to control this behavior.\n",
      "  _warn_prf(average, modifier, msg_start, len(result))\n",
      "C:\\Users\\USER\\anaconda3\\envs\\bm-336546\\lib\\site-packages\\sklearn\\metrics\\_classification.py:1221: UndefinedMetricWarning: Precision is ill-defined and being set to 0.0 due to no predicted samples. Use `zero_division` parameter to control this behavior.\n",
      "  _warn_prf(average, modifier, msg_start, len(result))\n",
      "C:\\Users\\USER\\anaconda3\\envs\\bm-336546\\lib\\site-packages\\sklearn\\metrics\\_classification.py:1221: UndefinedMetricWarning: Precision is ill-defined and being set to 0.0 due to no predicted samples. Use `zero_division` parameter to control this behavior.\n",
      "  _warn_prf(average, modifier, msg_start, len(result))\n",
      "C:\\Users\\USER\\anaconda3\\envs\\bm-336546\\lib\\site-packages\\sklearn\\metrics\\_classification.py:1221: UndefinedMetricWarning: Precision is ill-defined and being set to 0.0 due to no predicted samples. Use `zero_division` parameter to control this behavior.\n",
      "  _warn_prf(average, modifier, msg_start, len(result))\n",
      "C:\\Users\\USER\\anaconda3\\envs\\bm-336546\\lib\\site-packages\\sklearn\\metrics\\_classification.py:1221: UndefinedMetricWarning: Precision is ill-defined and being set to 0.0 due to no predicted samples. Use `zero_division` parameter to control this behavior.\n",
      "  _warn_prf(average, modifier, msg_start, len(result))\n",
      "C:\\Users\\USER\\anaconda3\\envs\\bm-336546\\lib\\site-packages\\sklearn\\metrics\\_classification.py:1221: UndefinedMetricWarning: Precision is ill-defined and being set to 0.0 due to no predicted samples. Use `zero_division` parameter to control this behavior.\n",
      "  _warn_prf(average, modifier, msg_start, len(result))\n"
     ]
    },
    {
     "name": "stdout",
     "output_type": "stream",
     "text": [
      "[CV]  logistic__C=0.001, logistic__penalty=l2, accuracy=(train=0.853, test=0.868), f1=(train=0.868, test=0.880), precision=(train=0.956, test=0.978), recall=(train=0.795, test=0.800), roc_auc=(train=0.956, test=0.972), total=   0.0s\n",
      "[CV] logistic__C=0.001, logistic__penalty=l2 .........................\n",
      "[CV]  logistic__C=0.001, logistic__penalty=l2, accuracy=(train=0.854, test=0.811), f1=(train=0.868, test=0.817), precision=(train=0.956, test=0.974), recall=(train=0.795, test=0.704), roc_auc=(train=0.959, test=0.932), total=   0.0s\n",
      "[CV] logistic__C=0.001, logistic__penalty=l2 .........................\n",
      "[CV]  logistic__C=0.001, logistic__penalty=l2, accuracy=(train=0.856, test=0.900), f1=(train=0.867, test=0.913), precision=(train=0.983, test=0.979), recall=(train=0.776, test=0.855), roc_auc=(train=0.959, test=0.962), total=   0.0s\n",
      "[CV] logistic__C=0.001, logistic__penalty=l2 .........................\n",
      "[CV]  logistic__C=0.001, logistic__penalty=l2, accuracy=(train=0.862, test=0.878), f1=(train=0.874, test=0.897), precision=(train=0.972, test=0.923), recall=(train=0.795, test=0.873), roc_auc=(train=0.956, test=0.957), total=   0.0s\n"
     ]
    },
    {
     "name": "stderr",
     "output_type": "stream",
     "text": [
      "[Parallel(n_jobs=1)]: Done  60 out of  60 | elapsed:    1.6s finished\n"
     ]
    },
    {
     "data": {
      "text/plain": [
       "{'logistic__C': 1.0, 'logistic__penalty': 'l1'}"
      ]
     },
     "execution_count": 10,
     "metadata": {},
     "output_type": "execute_result"
    }
   ],
   "source": [
    "from sklearn.model_selection import GridSearchCV\n",
    "from sklearn.linear_model import LogisticRegression\n",
    "from sklearn.model_selection import StratifiedKFold\n",
    "from sklearn.preprocessing import StandardScaler\n",
    "from tqdm import tqdm\n",
    "from sklearn.metrics import log_loss\n",
    "from sklearn.pipeline import Pipeline\n",
    "max_iter=2000\n",
    "n_splits=5\n",
    "solver = 'liblinear'\n",
    "skf = StratifiedKFold(n_splits=n_splits, random_state=10, shuffle=True)\n",
    "log_reg = LogisticRegression(random_state=5, max_iter=max_iter,solver=solver)\n",
    "lmbda = np.array([0.01, 0.01, 1, 10, 100, 1000])\n",
    "pipe = Pipeline(steps=[('scale', StandardScaler()), ('logistic', log_reg)])\n",
    "clf = GridSearchCV(estimator=pipe, param_grid={'logistic__C': 1/lmbda, 'logistic__penalty': ['l1','l2']},\n",
    "                   scoring=['accuracy','f1','precision','recall','roc_auc'], cv=skf,\n",
    "                   refit='roc_auc', verbose=3, return_train_score=True)\n",
    "clf.fit(encoded_X_train, np.ravel(encoded_y_train))\n",
    "clf.best_params_"
   ]
  },
  {
   "cell_type": "code",
   "execution_count": 11,
   "metadata": {},
   "outputs": [],
   "source": [
    "def calc_evalmetrics(encoded_X_test,encoded_X_train, encoded_y_test, encoded_y_train,clf):\n",
    "\n",
    "    from sklearn.metrics import confusion_matrix\n",
    "    from sklearn.metrics import log_loss\n",
    "    from sklearn.metrics import plot_confusion_matrix, roc_auc_score,plot_roc_curve\n",
    "\n",
    "    calc_TN = lambda y_true, y_pred: confusion_matrix(y_true, y_pred)[0, 0]\n",
    "    calc_FP = lambda y_true, y_pred: confusion_matrix(y_true, y_pred)[0, 1]\n",
    "    calc_FN = lambda y_true, y_pred: confusion_matrix(y_true, y_pred)[1, 0]\n",
    "    calc_TP = lambda y_true, y_pred: confusion_matrix(y_true, y_pred)[1, 1]\n",
    "\n",
    "    chosen_clf = clf.best_estimator_\n",
    "    y_pred_test = chosen_clf.predict(encoded_X_test) \n",
    "    y_pred_train = chosen_clf.predict(encoded_X_train) \n",
    "\n",
    "    y_pred_proba_test = chosen_clf.predict_proba(encoded_X_test)\n",
    "    y_pred_proba_train = chosen_clf.predict_proba(encoded_X_train)\n",
    "\n",
    "    TN = calc_TN(encoded_y_test, y_pred_test)\n",
    "    FP = calc_FP(encoded_y_test, y_pred_test)\n",
    "    FN = calc_FN(encoded_y_test, y_pred_test)\n",
    "    TP = calc_TP(encoded_y_test, y_pred_test)\n",
    "    TN_train = calc_TN(encoded_y_train, y_pred_train)\n",
    "    FP_train = calc_FP(encoded_y_train, y_pred_train)\n",
    "    FN_train = calc_FN(encoded_y_train, y_pred_train)\n",
    "    TP_train = calc_TP(encoded_y_train, y_pred_train)\n",
    "    Se = TP/(TP+FN)\n",
    "    Sp = TN/(TN+FP)\n",
    "    PPV = TP/(TP+FP)\n",
    "    NPV = TN/(TN+FN)\n",
    "    Acc = (TP+TN)/(TP+TN+FP+FN)\n",
    "    F1 = (2*Se*PPV)/(Se+PPV)\n",
    "    Se_train = TP_train/(TP_train+FN_train)\n",
    "    Sp_train = TN_train/(TN_train+FP_train)\n",
    "    PPV_train = TP_train/(TP_train+FP_train)\n",
    "    NPV_train = TN_train/(TN_train+FN_train)\n",
    "    Acc_train = (TP_train+TN_train)/(TP_train+TN_train+FP_train+FN_train)\n",
    "    F1_train = (2*Se_train*PPV_train)/(Se_train+PPV_train)\n",
    "    print(\"Train loss is {:.2f}\".format(log_loss(encoded_y_train,y_pred_proba_train)))\n",
    "    print(\"Test loss is {:.2f}\".format(log_loss(encoded_y_test,y_pred_proba_test)))\n",
    "    print('Test Sensitivity is {:.2f} \\nTest Specificity is {:.2f} \\nTest PPV is {:.2f} \\nTest NPV is {:.2f} \\nTest Accuracy is {:.2f} \\nTest F1 is {:.2f} '.format(Se,Sp,PPV,NPV,Acc,F1))\n",
    "    print('Test AUROC is {:.2f}'.format(roc_auc_score(encoded_y_test, y_pred_proba_test[:,1])))\n",
    "    print('Train Sensitivity is {:.2f} \\nTrain Specificity is {:.2f} \\nTrain PPV is {:.2f} \\nTrain NPV is {:.2f} \\nTrain Accuracy is {:.2f} \\nTrain F1 is {:.2f} '.format(Se_train,Sp_train,PPV_train,NPV_train,Acc_train,F1_train))\n",
    "    print('Train AUROC is {:.2f}'.format(roc_auc_score(encoded_y_train, y_pred_proba_train[:,1])))"
   ]
  },
  {
   "cell_type": "code",
   "execution_count": 12,
   "metadata": {},
   "outputs": [
    {
     "name": "stdout",
     "output_type": "stream",
     "text": [
      "Train loss is 0.17\n",
      "Test loss is 0.23\n",
      "Test Sensitivity is 0.94 \n",
      "Test Specificity is 0.84 \n",
      "Test PPV is 0.90 \n",
      "Test NPV is 0.90 \n",
      "Test Accuracy is 0.90 \n",
      "Test F1 is 0.92 \n",
      "Test AUROC is 0.97\n",
      "Train Sensitivity is 0.94 \n",
      "Train Specificity is 0.93 \n",
      "Train PPV is 0.95 \n",
      "Train NPV is 0.91 \n",
      "Train Accuracy is 0.93 \n",
      "Train F1 is 0.94 \n",
      "Train AUROC is 0.98\n"
     ]
    }
   ],
   "source": [
    "calc_evalmetrics(encoded_X_test,encoded_X_train,encoded_y_test,encoded_y_train,clf)"
   ]
  },
  {
   "cell_type": "code",
   "execution_count": 13,
   "metadata": {},
   "outputs": [
    {
     "data": {
      "image/png": "[encoded data removed]",
      "text/plain": [
       "<Figure size 432x288 with 2 Axes>"
      ]
     },
     "metadata": {
      "needs_background": "light"
     },
     "output_type": "display_data"
    }
   ],
   "source": [
    "scaler=StandardScaler()\n",
    "from sklearn.metrics import confusion_matrix\n",
    "from sklearn.metrics import log_loss\n",
    "from sklearn.metrics import plot_confusion_matrix, roc_auc_score,plot_roc_curve\n",
    "import matplotlib.pyplot as plt\n",
    "x_tr = scaler.fit_transform(encoded_X_train)\n",
    "x_tst = scaler.transform(encoded_X_test)\n",
    "log_reg.fit(x_tr, np.ravel(encoded_y_train))\n",
    "y_pred_test = log_reg.predict(x_tst)\n",
    "y_pred_proba_test = log_reg.predict_proba(x_tst)\n",
    "plot_confusion_matrix(log_reg, x_tst, encoded_y_test, cmap=plt.cm.Blues)\n",
    "plt.grid(False)"
   ]
  },
  {
   "cell_type": "markdown",
   "metadata": {},
   "source": [
    "Now we will train our data using a nonlinear classifier SVM"
   ]
  },
  {
   "cell_type": "code",
   "execution_count": 14,
   "metadata": {},
   "outputs": [
    {
     "name": "stdout",
     "output_type": "stream",
     "text": [
      "Fitting 5 folds for each of 16 candidates, totalling 80 fits\n",
      "[CV] svm__C=0.1, svm__degree=3, svm__gamma=auto, svm__kernel=rbf .....\n",
      "[CV]  svm__C=0.1, svm__degree=3, svm__gamma=auto, svm__kernel=rbf, accuracy=(train=0.928, test=0.912), f1=(train=0.942, test=0.930), precision=(train=0.914, test=0.898), recall=(train=0.973, test=0.964), roc_auc=(train=0.987, test=0.977), total=   0.1s\n",
      "[CV] svm__C=0.1, svm__degree=3, svm__gamma=auto, svm__kernel=rbf .....\n",
      "[CV]  svm__C=0.1, svm__degree=3, svm__gamma=auto, svm__kernel=rbf, accuracy=(train=0.925, test=0.945), f1=(train=0.940, test=0.956), precision=(train=0.917, test=0.931), recall=(train=0.963, test=0.982), roc_auc=(train=0.986, test=0.993), total=   0.0s\n",
      "[CV] svm__C=0.1, svm__degree=3, svm__gamma=auto, svm__kernel=rbf .....\n",
      "[CV]  svm__C=0.1, svm__degree=3, svm__gamma=auto, svm__kernel=rbf, accuracy=(train=0.945, test=0.922), f1=(train=0.955, test=0.935), precision=(train=0.942, test=0.943), recall=(train=0.968, test=0.926), roc_auc=(train=0.987, test=0.968), total=   0.0s\n",
      "[CV] svm__C=0.1, svm__degree=3, svm__gamma=auto, svm__kernel=rbf .....\n"
     ]
    },
    {
     "name": "stderr",
     "output_type": "stream",
     "text": [
      "[Parallel(n_jobs=1)]: Using backend SequentialBackend with 1 concurrent workers.\n",
      "[Parallel(n_jobs=1)]: Done   1 out of   1 | elapsed:    0.0s remaining:    0.0s\n",
      "[Parallel(n_jobs=1)]: Done   2 out of   2 | elapsed:    0.0s remaining:    0.0s\n"
     ]
    },
    {
     "name": "stdout",
     "output_type": "stream",
     "text": [
      "[CV]  svm__C=0.1, svm__degree=3, svm__gamma=auto, svm__kernel=rbf, accuracy=(train=0.942, test=0.900), f1=(train=0.953, test=0.922), precision=(train=0.934, test=0.883), recall=(train=0.973, test=0.964), roc_auc=(train=0.988, test=0.976), total=   0.0s\n",
      "[CV] svm__C=0.1, svm__degree=3, svm__gamma=auto, svm__kernel=rbf .....\n",
      "[CV]  svm__C=0.1, svm__degree=3, svm__gamma=auto, svm__kernel=rbf, accuracy=(train=0.936, test=0.900), f1=(train=0.949, test=0.922), precision=(train=0.930, test=0.883), recall=(train=0.968, test=0.964), roc_auc=(train=0.986, test=0.986), total=   0.0s\n",
      "[CV] svm__C=0.1, svm__degree=3, svm__gamma=auto, svm__kernel=poly ....\n",
      "[CV]  svm__C=0.1, svm__degree=3, svm__gamma=auto, svm__kernel=poly, accuracy=(train=0.947, test=0.945), f1=(train=0.957, test=0.953), precision=(train=0.959, test=0.981), recall=(train=0.954, test=0.927), roc_auc=(train=0.992, test=0.988), total=   0.0s\n",
      "[CV] svm__C=0.1, svm__degree=3, svm__gamma=auto, svm__kernel=poly ....\n",
      "[CV]  svm__C=0.1, svm__degree=3, svm__gamma=auto, svm__kernel=poly, accuracy=(train=0.961, test=0.945), f1=(train=0.968, test=0.954), precision=(train=0.977, test=0.963), recall=(train=0.959, test=0.945), roc_auc=(train=0.993, test=0.992), total=   0.0s\n",
      "[CV] svm__C=0.1, svm__degree=3, svm__gamma=auto, svm__kernel=poly ....\n",
      "[CV]  svm__C=0.1, svm__degree=3, svm__gamma=auto, svm__kernel=poly, accuracy=(train=0.959, test=0.867), f1=(train=0.966, test=0.889), precision=(train=0.972, test=0.889), recall=(train=0.959, test=0.889), roc_auc=(train=0.995, test=0.971), total=   0.0s\n",
      "[CV] svm__C=0.1, svm__degree=3, svm__gamma=auto, svm__kernel=poly ....\n",
      "[CV]  svm__C=0.1, svm__degree=3, svm__gamma=auto, svm__kernel=poly, accuracy=(train=0.961, test=0.922), f1=(train=0.968, test=0.937), precision=(train=0.972, test=0.929), recall=(train=0.963, test=0.945), roc_auc=(train=0.994, test=0.985), total=   0.0s\n",
      "[CV] svm__C=0.1, svm__degree=3, svm__gamma=auto, svm__kernel=poly ....\n",
      "[CV]  svm__C=0.1, svm__degree=3, svm__gamma=auto, svm__kernel=poly, accuracy=(train=0.956, test=0.944), f1=(train=0.963, test=0.954), precision=(train=0.968, test=0.963), recall=(train=0.959, test=0.945), roc_auc=(train=0.993, test=0.988), total=   0.0s\n",
      "[CV] svm__C=0.1, svm__degree=3, svm__gamma=scale, svm__kernel=rbf ....\n",
      "[CV]  svm__C=0.1, svm__degree=3, svm__gamma=scale, svm__kernel=rbf, accuracy=(train=0.928, test=0.912), f1=(train=0.942, test=0.930), precision=(train=0.914, test=0.898), recall=(train=0.973, test=0.964), roc_auc=(train=0.987, test=0.977), total=   0.0s\n",
      "[CV] svm__C=0.1, svm__degree=3, svm__gamma=scale, svm__kernel=rbf ....\n",
      "[CV]  svm__C=0.1, svm__degree=3, svm__gamma=scale, svm__kernel=rbf, accuracy=(train=0.925, test=0.945), f1=(train=0.940, test=0.956), precision=(train=0.917, test=0.931), recall=(train=0.963, test=0.982), roc_auc=(train=0.986, test=0.993), total=   0.0s\n",
      "[CV] svm__C=0.1, svm__degree=3, svm__gamma=scale, svm__kernel=rbf ....\n",
      "[CV]  svm__C=0.1, svm__degree=3, svm__gamma=scale, svm__kernel=rbf, accuracy=(train=0.945, test=0.922), f1=(train=0.955, test=0.935), precision=(train=0.942, test=0.943), recall=(train=0.968, test=0.926), roc_auc=(train=0.987, test=0.968), total=   0.0s\n",
      "[CV] svm__C=0.1, svm__degree=3, svm__gamma=scale, svm__kernel=rbf ....\n",
      "[CV]  svm__C=0.1, svm__degree=3, svm__gamma=scale, svm__kernel=rbf, accuracy=(train=0.942, test=0.900), f1=(train=0.953, test=0.922), precision=(train=0.934, test=0.883), recall=(train=0.973, test=0.964), roc_auc=(train=0.988, test=0.976), total=   0.0s\n",
      "[CV] svm__C=0.1, svm__degree=3, svm__gamma=scale, svm__kernel=rbf ....\n",
      "[CV]  svm__C=0.1, svm__degree=3, svm__gamma=scale, svm__kernel=rbf, accuracy=(train=0.936, test=0.900), f1=(train=0.949, test=0.922), precision=(train=0.930, test=0.883), recall=(train=0.968, test=0.964), roc_auc=(train=0.986, test=0.986), total=   0.0s\n",
      "[CV] svm__C=0.1, svm__degree=3, svm__gamma=scale, svm__kernel=poly ...\n",
      "[CV]  svm__C=0.1, svm__degree=3, svm__gamma=scale, svm__kernel=poly, accuracy=(train=0.947, test=0.945), f1=(train=0.957, test=0.953), precision=(train=0.959, test=0.981), recall=(train=0.954, test=0.927), roc_auc=(train=0.992, test=0.988), total=   0.0s\n",
      "[CV] svm__C=0.1, svm__degree=3, svm__gamma=scale, svm__kernel=poly ...\n",
      "[CV]  svm__C=0.1, svm__degree=3, svm__gamma=scale, svm__kernel=poly, accuracy=(train=0.961, test=0.945), f1=(train=0.968, test=0.954), precision=(train=0.977, test=0.963), recall=(train=0.959, test=0.945), roc_auc=(train=0.993, test=0.992), total=   0.0s\n",
      "[CV] svm__C=0.1, svm__degree=3, svm__gamma=scale, svm__kernel=poly ...\n",
      "[CV]  svm__C=0.1, svm__degree=3, svm__gamma=scale, svm__kernel=poly, accuracy=(train=0.959, test=0.867), f1=(train=0.966, test=0.889), precision=(train=0.972, test=0.889), recall=(train=0.959, test=0.889), roc_auc=(train=0.995, test=0.971), total=   0.0s\n",
      "[CV] svm__C=0.1, svm__degree=3, svm__gamma=scale, svm__kernel=poly ...\n",
      "[CV]  svm__C=0.1, svm__degree=3, svm__gamma=scale, svm__kernel=poly, accuracy=(train=0.961, test=0.922), f1=(train=0.968, test=0.937), precision=(train=0.972, test=0.929), recall=(train=0.963, test=0.945), roc_auc=(train=0.994, test=0.985), total=   0.0s\n",
      "[CV] svm__C=0.1, svm__degree=3, svm__gamma=scale, svm__kernel=poly ...\n",
      "[CV]  svm__C=0.1, svm__degree=3, svm__gamma=scale, svm__kernel=poly, accuracy=(train=0.956, test=0.944), f1=(train=0.963, test=0.954), precision=(train=0.968, test=0.963), recall=(train=0.959, test=0.945), roc_auc=(train=0.993, test=0.988), total=   0.0s\n",
      "[CV] svm__C=1.0, svm__degree=3, svm__gamma=auto, svm__kernel=rbf .....\n",
      "[CV]  svm__C=1.0, svm__degree=3, svm__gamma=auto, svm__kernel=rbf, accuracy=(train=0.992, test=0.967), f1=(train=0.993, test=0.972), precision=(train=0.991, test=0.981), recall=(train=0.995, test=0.964), roc_auc=(train=0.997, test=0.985), total=   0.0s\n",
      "[CV] svm__C=1.0, svm__degree=3, svm__gamma=auto, svm__kernel=rbf .....\n",
      "[CV]  svm__C=1.0, svm__degree=3, svm__gamma=auto, svm__kernel=rbf, accuracy=(train=0.989, test=0.956), f1=(train=0.991, test=0.964), precision=(train=0.991, test=0.964), recall=(train=0.991, test=0.964), roc_auc=(train=0.999, test=0.993), total=   0.0s\n",
      "[CV] svm__C=1.0, svm__degree=3, svm__gamma=auto, svm__kernel=rbf .....\n",
      "[CV]  svm__C=1.0, svm__degree=3, svm__gamma=auto, svm__kernel=rbf, accuracy=(train=0.989, test=0.911), f1=(train=0.991, test=0.925), precision=(train=0.991, test=0.942), recall=(train=0.991, test=0.907), roc_auc=(train=0.999, test=0.988), total=   0.0s\n",
      "[CV] svm__C=1.0, svm__degree=3, svm__gamma=auto, svm__kernel=rbf .....\n",
      "[CV]  svm__C=1.0, svm__degree=3, svm__gamma=auto, svm__kernel=rbf, accuracy=(train=0.989, test=0.967), f1=(train=0.991, test=0.972), precision=(train=0.986, test=0.981), recall=(train=0.995, test=0.964), roc_auc=(train=0.999, test=0.996), total=   0.0s\n",
      "[CV] svm__C=1.0, svm__degree=3, svm__gamma=auto, svm__kernel=rbf .....\n",
      "[CV]  svm__C=1.0, svm__degree=3, svm__gamma=auto, svm__kernel=rbf, accuracy=(train=0.989, test=0.967), f1=(train=0.991, test=0.973), precision=(train=0.991, test=0.964), recall=(train=0.991, test=0.982), roc_auc=(train=0.999, test=0.999), total=   0.0s\n",
      "[CV] svm__C=1.0, svm__degree=3, svm__gamma=auto, svm__kernel=poly ....\n",
      "[CV]  svm__C=1.0, svm__degree=3, svm__gamma=auto, svm__kernel=poly, accuracy=(train=0.994, test=0.956), f1=(train=0.995, test=0.963), precision=(train=0.995, test=0.981), recall=(train=0.995, test=0.945), roc_auc=(train=1.000, test=0.993), total=   0.0s\n",
      "[CV] svm__C=1.0, svm__degree=3, svm__gamma=auto, svm__kernel=poly ....\n",
      "[CV]  svm__C=1.0, svm__degree=3, svm__gamma=auto, svm__kernel=poly, accuracy=(train=0.989, test=0.956), f1=(train=0.991, test=0.964), precision=(train=0.991, test=0.964), recall=(train=0.991, test=0.964), roc_auc=(train=0.999, test=0.992), total=   0.0s\n",
      "[CV] svm__C=1.0, svm__degree=3, svm__gamma=auto, svm__kernel=poly ....\n",
      "[CV]  svm__C=1.0, svm__degree=3, svm__gamma=auto, svm__kernel=poly, accuracy=(train=0.997, test=0.944), f1=(train=0.998, test=0.953), precision=(train=0.995, test=0.962), recall=(train=1.000, test=0.944), roc_auc=(train=1.000, test=0.989), total=   0.0s\n",
      "[CV] svm__C=1.0, svm__degree=3, svm__gamma=auto, svm__kernel=poly ....\n",
      "[CV]  svm__C=1.0, svm__degree=3, svm__gamma=auto, svm__kernel=poly, accuracy=(train=0.992, test=0.956), f1=(train=0.993, test=0.964), precision=(train=0.991, test=0.964), recall=(train=0.995, test=0.964), roc_auc=(train=1.000, test=0.996), total=   0.0s\n",
      "[CV] svm__C=1.0, svm__degree=3, svm__gamma=auto, svm__kernel=poly ....\n",
      "[CV]  svm__C=1.0, svm__degree=3, svm__gamma=auto, svm__kernel=poly, accuracy=(train=0.989, test=0.978), f1=(train=0.991, test=0.982), precision=(train=0.991, test=0.982), recall=(train=0.991, test=0.982), roc_auc=(train=1.000, test=0.997), total=   0.0s\n",
      "[CV] svm__C=1.0, svm__degree=3, svm__gamma=scale, svm__kernel=rbf ....\n",
      "[CV]  svm__C=1.0, svm__degree=3, svm__gamma=scale, svm__kernel=rbf, accuracy=(train=0.992, test=0.967), f1=(train=0.993, test=0.972), precision=(train=0.991, test=0.981), recall=(train=0.995, test=0.964), roc_auc=(train=0.997, test=0.985), total=   0.0s\n",
      "[CV] svm__C=1.0, svm__degree=3, svm__gamma=scale, svm__kernel=rbf ....\n",
      "[CV]  svm__C=1.0, svm__degree=3, svm__gamma=scale, svm__kernel=rbf, accuracy=(train=0.989, test=0.956), f1=(train=0.991, test=0.964), precision=(train=0.991, test=0.964), recall=(train=0.991, test=0.964), roc_auc=(train=0.999, test=0.993), total=   0.0s\n",
      "[CV] svm__C=1.0, svm__degree=3, svm__gamma=scale, svm__kernel=rbf ....\n",
      "[CV]  svm__C=1.0, svm__degree=3, svm__gamma=scale, svm__kernel=rbf, accuracy=(train=0.989, test=0.911), f1=(train=0.991, test=0.925), precision=(train=0.991, test=0.942), recall=(train=0.991, test=0.907), roc_auc=(train=0.999, test=0.988), total=   0.0s\n",
      "[CV] svm__C=1.0, svm__degree=3, svm__gamma=scale, svm__kernel=rbf ....\n",
      "[CV]  svm__C=1.0, svm__degree=3, svm__gamma=scale, svm__kernel=rbf, accuracy=(train=0.989, test=0.967), f1=(train=0.991, test=0.972), precision=(train=0.986, test=0.981), recall=(train=0.995, test=0.964), roc_auc=(train=0.999, test=0.996), total=   0.0s\n",
      "[CV] svm__C=1.0, svm__degree=3, svm__gamma=scale, svm__kernel=rbf ....\n",
      "[CV]  svm__C=1.0, svm__degree=3, svm__gamma=scale, svm__kernel=rbf, accuracy=(train=0.989, test=0.967), f1=(train=0.991, test=0.973), precision=(train=0.991, test=0.964), recall=(train=0.991, test=0.982), roc_auc=(train=0.999, test=0.999), total=   0.0s\n",
      "[CV] svm__C=1.0, svm__degree=3, svm__gamma=scale, svm__kernel=poly ...\n",
      "[CV]  svm__C=1.0, svm__degree=3, svm__gamma=scale, svm__kernel=poly, accuracy=(train=0.994, test=0.956), f1=(train=0.995, test=0.963), precision=(train=0.995, test=0.981), recall=(train=0.995, test=0.945), roc_auc=(train=1.000, test=0.993), total=   0.0s\n",
      "[CV] svm__C=1.0, svm__degree=3, svm__gamma=scale, svm__kernel=poly ...\n",
      "[CV]  svm__C=1.0, svm__degree=3, svm__gamma=scale, svm__kernel=poly, accuracy=(train=0.989, test=0.956), f1=(train=0.991, test=0.964), precision=(train=0.991, test=0.964), recall=(train=0.991, test=0.964), roc_auc=(train=0.999, test=0.992), total=   0.0s\n",
      "[CV] svm__C=1.0, svm__degree=3, svm__gamma=scale, svm__kernel=poly ...\n",
      "[CV]  svm__C=1.0, svm__degree=3, svm__gamma=scale, svm__kernel=poly, accuracy=(train=0.997, test=0.944), f1=(train=0.998, test=0.953), precision=(train=0.995, test=0.962), recall=(train=1.000, test=0.944), roc_auc=(train=1.000, test=0.989), total=   0.0s\n",
      "[CV] svm__C=1.0, svm__degree=3, svm__gamma=scale, svm__kernel=poly ...\n",
      "[CV]  svm__C=1.0, svm__degree=3, svm__gamma=scale, svm__kernel=poly, accuracy=(train=0.992, test=0.956), f1=(train=0.993, test=0.964), precision=(train=0.991, test=0.964), recall=(train=0.995, test=0.964), roc_auc=(train=1.000, test=0.996), total=   0.0s\n",
      "[CV] svm__C=1.0, svm__degree=3, svm__gamma=scale, svm__kernel=poly ...\n",
      "[CV]  svm__C=1.0, svm__degree=3, svm__gamma=scale, svm__kernel=poly, accuracy=(train=0.989, test=0.978), f1=(train=0.991, test=0.982), precision=(train=0.991, test=0.982), recall=(train=0.991, test=0.982), roc_auc=(train=1.000, test=0.997), total=   0.0s\n",
      "[CV] svm__C=100.0, svm__degree=3, svm__gamma=auto, svm__kernel=rbf ...\n",
      "[CV]  svm__C=100.0, svm__degree=3, svm__gamma=auto, svm__kernel=rbf, accuracy=(train=0.997, test=0.967), f1=(train=0.998, test=0.972), precision=(train=0.995, test=0.981), recall=(train=1.000, test=0.964), roc_auc=(train=0.999, test=0.987), total=   0.0s\n",
      "[CV] svm__C=100.0, svm__degree=3, svm__gamma=auto, svm__kernel=rbf ...\n",
      "[CV]  svm__C=100.0, svm__degree=3, svm__gamma=auto, svm__kernel=rbf, accuracy=(train=0.994, test=0.956), f1=(train=0.995, test=0.964), precision=(train=0.991, test=0.964), recall=(train=1.000, test=0.964), roc_auc=(train=0.997, test=0.993), total=   0.0s\n",
      "[CV] svm__C=100.0, svm__degree=3, svm__gamma=auto, svm__kernel=rbf ...\n",
      "[CV]  svm__C=100.0, svm__degree=3, svm__gamma=auto, svm__kernel=rbf, accuracy=(train=0.997, test=0.944), f1=(train=0.998, test=0.952), precision=(train=0.995, test=0.980), recall=(train=1.000, test=0.926), roc_auc=(train=0.998, test=0.991), total=   0.0s\n",
      "[CV] svm__C=100.0, svm__degree=3, svm__gamma=auto, svm__kernel=rbf ...\n",
      "[CV]  svm__C=100.0, svm__degree=3, svm__gamma=auto, svm__kernel=rbf, accuracy=(train=0.994, test=0.978), f1=(train=0.995, test=0.982), precision=(train=0.991, test=0.982), recall=(train=1.000, test=0.982), roc_auc=(train=0.999, test=0.999), total=   0.0s\n",
      "[CV] svm__C=100.0, svm__degree=3, svm__gamma=auto, svm__kernel=rbf ...\n",
      "[CV]  svm__C=100.0, svm__degree=3, svm__gamma=auto, svm__kernel=rbf, accuracy=(train=0.994, test=0.978), f1=(train=0.995, test=0.982), precision=(train=0.991, test=0.982), recall=(train=1.000, test=0.982), roc_auc=(train=0.999, test=0.997), total=   0.0s\n",
      "[CV] svm__C=100.0, svm__degree=3, svm__gamma=auto, svm__kernel=poly ..\n",
      "[CV]  svm__C=100.0, svm__degree=3, svm__gamma=auto, svm__kernel=poly, accuracy=(train=0.997, test=0.967), f1=(train=0.998, test=0.972), precision=(train=0.995, test=0.981), recall=(train=1.000, test=0.964), roc_auc=(train=0.997, test=0.989), total=   0.0s\n",
      "[CV] svm__C=100.0, svm__degree=3, svm__gamma=auto, svm__kernel=poly ..\n",
      "[CV]  svm__C=100.0, svm__degree=3, svm__gamma=auto, svm__kernel=poly, accuracy=(train=0.994, test=0.956), f1=(train=0.995, test=0.964), precision=(train=0.991, test=0.964), recall=(train=1.000, test=0.964), roc_auc=(train=0.995, test=0.993), total=   0.0s\n",
      "[CV] svm__C=100.0, svm__degree=3, svm__gamma=auto, svm__kernel=poly ..\n",
      "[CV]  svm__C=100.0, svm__degree=3, svm__gamma=auto, svm__kernel=poly, accuracy=(train=0.997, test=0.967), f1=(train=0.998, test=0.972), precision=(train=0.995, test=0.981), recall=(train=1.000, test=0.963), roc_auc=(train=0.997, test=0.988), total=   0.0s\n",
      "[CV] svm__C=100.0, svm__degree=3, svm__gamma=auto, svm__kernel=poly ..\n",
      "[CV]  svm__C=100.0, svm__degree=3, svm__gamma=auto, svm__kernel=poly, accuracy=(train=0.994, test=0.978), f1=(train=0.995, test=0.982), precision=(train=0.991, test=0.982), recall=(train=1.000, test=0.982), roc_auc=(train=0.998, test=0.998), total=   0.0s\n",
      "[CV] svm__C=100.0, svm__degree=3, svm__gamma=auto, svm__kernel=poly ..\n",
      "[CV]  svm__C=100.0, svm__degree=3, svm__gamma=auto, svm__kernel=poly, accuracy=(train=0.994, test=0.978), f1=(train=0.995, test=0.982), precision=(train=0.991, test=0.982), recall=(train=1.000, test=0.982), roc_auc=(train=0.995, test=0.996), total=   0.0s\n",
      "[CV] svm__C=100.0, svm__degree=3, svm__gamma=scale, svm__kernel=rbf ..\n",
      "[CV]  svm__C=100.0, svm__degree=3, svm__gamma=scale, svm__kernel=rbf, accuracy=(train=0.997, test=0.967), f1=(train=0.998, test=0.972), precision=(train=0.995, test=0.981), recall=(train=1.000, test=0.964), roc_auc=(train=0.999, test=0.987), total=   0.0s\n",
      "[CV] svm__C=100.0, svm__degree=3, svm__gamma=scale, svm__kernel=rbf ..\n",
      "[CV]  svm__C=100.0, svm__degree=3, svm__gamma=scale, svm__kernel=rbf, accuracy=(train=0.994, test=0.956), f1=(train=0.995, test=0.964), precision=(train=0.991, test=0.964), recall=(train=1.000, test=0.964), roc_auc=(train=0.997, test=0.993), total=   0.0s\n",
      "[CV] svm__C=100.0, svm__degree=3, svm__gamma=scale, svm__kernel=rbf ..\n",
      "[CV]  svm__C=100.0, svm__degree=3, svm__gamma=scale, svm__kernel=rbf, accuracy=(train=0.997, test=0.944), f1=(train=0.998, test=0.952), precision=(train=0.995, test=0.980), recall=(train=1.000, test=0.926), roc_auc=(train=0.998, test=0.991), total=   0.0s\n",
      "[CV] svm__C=100.0, svm__degree=3, svm__gamma=scale, svm__kernel=rbf ..\n",
      "[CV]  svm__C=100.0, svm__degree=3, svm__gamma=scale, svm__kernel=rbf, accuracy=(train=0.994, test=0.978), f1=(train=0.995, test=0.982), precision=(train=0.991, test=0.982), recall=(train=1.000, test=0.982), roc_auc=(train=0.999, test=0.999), total=   0.0s\n",
      "[CV] svm__C=100.0, svm__degree=3, svm__gamma=scale, svm__kernel=rbf ..\n",
      "[CV]  svm__C=100.0, svm__degree=3, svm__gamma=scale, svm__kernel=rbf, accuracy=(train=0.994, test=0.978), f1=(train=0.995, test=0.982), precision=(train=0.991, test=0.982), recall=(train=1.000, test=0.982), roc_auc=(train=0.999, test=0.997), total=   0.0s\n",
      "[CV] svm__C=100.0, svm__degree=3, svm__gamma=scale, svm__kernel=poly .\n",
      "[CV]  svm__C=100.0, svm__degree=3, svm__gamma=scale, svm__kernel=poly, accuracy=(train=0.997, test=0.967), f1=(train=0.998, test=0.972), precision=(train=0.995, test=0.981), recall=(train=1.000, test=0.964), roc_auc=(train=0.997, test=0.989), total=   0.0s\n",
      "[CV] svm__C=100.0, svm__degree=3, svm__gamma=scale, svm__kernel=poly .\n",
      "[CV]  svm__C=100.0, svm__degree=3, svm__gamma=scale, svm__kernel=poly, accuracy=(train=0.994, test=0.956), f1=(train=0.995, test=0.964), precision=(train=0.991, test=0.964), recall=(train=1.000, test=0.964), roc_auc=(train=0.995, test=0.993), total=   0.0s\n",
      "[CV] svm__C=100.0, svm__degree=3, svm__gamma=scale, svm__kernel=poly .\n",
      "[CV]  svm__C=100.0, svm__degree=3, svm__gamma=scale, svm__kernel=poly, accuracy=(train=0.997, test=0.967), f1=(train=0.998, test=0.972), precision=(train=0.995, test=0.981), recall=(train=1.000, test=0.963), roc_auc=(train=0.997, test=0.988), total=   0.0s\n",
      "[CV] svm__C=100.0, svm__degree=3, svm__gamma=scale, svm__kernel=poly .\n",
      "[CV]  svm__C=100.0, svm__degree=3, svm__gamma=scale, svm__kernel=poly, accuracy=(train=0.994, test=0.978), f1=(train=0.995, test=0.982), precision=(train=0.991, test=0.982), recall=(train=1.000, test=0.982), roc_auc=(train=0.998, test=0.998), total=   0.0s\n",
      "[CV] svm__C=100.0, svm__degree=3, svm__gamma=scale, svm__kernel=poly .\n",
      "[CV]  svm__C=100.0, svm__degree=3, svm__gamma=scale, svm__kernel=poly, accuracy=(train=0.994, test=0.978), f1=(train=0.995, test=0.982), precision=(train=0.991, test=0.982), recall=(train=1.000, test=0.982), roc_auc=(train=0.995, test=0.996), total=   0.0s\n",
      "[CV] svm__C=1000.0, svm__degree=3, svm__gamma=auto, svm__kernel=rbf ..\n",
      "[CV]  svm__C=1000.0, svm__degree=3, svm__gamma=auto, svm__kernel=rbf, accuracy=(train=0.997, test=0.967), f1=(train=0.998, test=0.972), precision=(train=0.995, test=0.981), recall=(train=1.000, test=0.964), roc_auc=(train=0.999, test=0.987), total=   0.0s\n",
      "[CV] svm__C=1000.0, svm__degree=3, svm__gamma=auto, svm__kernel=rbf ..\n",
      "[CV]  svm__C=1000.0, svm__degree=3, svm__gamma=auto, svm__kernel=rbf, accuracy=(train=0.994, test=0.956), f1=(train=0.995, test=0.964), precision=(train=0.991, test=0.964), recall=(train=1.000, test=0.964), roc_auc=(train=0.997, test=0.993), total=   0.0s\n",
      "[CV] svm__C=1000.0, svm__degree=3, svm__gamma=auto, svm__kernel=rbf ..\n",
      "[CV]  svm__C=1000.0, svm__degree=3, svm__gamma=auto, svm__kernel=rbf, accuracy=(train=0.997, test=0.944), f1=(train=0.998, test=0.952), precision=(train=0.995, test=0.980), recall=(train=1.000, test=0.926), roc_auc=(train=0.998, test=0.991), total=   0.0s\n",
      "[CV] svm__C=1000.0, svm__degree=3, svm__gamma=auto, svm__kernel=rbf ..\n",
      "[CV]  svm__C=1000.0, svm__degree=3, svm__gamma=auto, svm__kernel=rbf, accuracy=(train=0.994, test=0.978), f1=(train=0.995, test=0.982), precision=(train=0.991, test=0.982), recall=(train=1.000, test=0.982), roc_auc=(train=0.999, test=0.999), total=   0.0s\n",
      "[CV] svm__C=1000.0, svm__degree=3, svm__gamma=auto, svm__kernel=rbf ..\n",
      "[CV]  svm__C=1000.0, svm__degree=3, svm__gamma=auto, svm__kernel=rbf, accuracy=(train=0.994, test=0.978), f1=(train=0.995, test=0.982), precision=(train=0.991, test=0.982), recall=(train=1.000, test=0.982), roc_auc=(train=0.999, test=0.997), total=   0.0s\n",
      "[CV] svm__C=1000.0, svm__degree=3, svm__gamma=auto, svm__kernel=poly .\n",
      "[CV]  svm__C=1000.0, svm__degree=3, svm__gamma=auto, svm__kernel=poly, accuracy=(train=0.997, test=0.967), f1=(train=0.998, test=0.972), precision=(train=0.995, test=0.981), recall=(train=1.000, test=0.964), roc_auc=(train=0.997, test=0.989), total=   0.0s\n",
      "[CV] svm__C=1000.0, svm__degree=3, svm__gamma=auto, svm__kernel=poly .\n",
      "[CV]  svm__C=1000.0, svm__degree=3, svm__gamma=auto, svm__kernel=poly, accuracy=(train=0.994, test=0.956), f1=(train=0.995, test=0.964), precision=(train=0.991, test=0.964), recall=(train=1.000, test=0.964), roc_auc=(train=0.995, test=0.993), total=   0.0s\n",
      "[CV] svm__C=1000.0, svm__degree=3, svm__gamma=auto, svm__kernel=poly .\n",
      "[CV]  svm__C=1000.0, svm__degree=3, svm__gamma=auto, svm__kernel=poly, accuracy=(train=0.997, test=0.967), f1=(train=0.998, test=0.972), precision=(train=0.995, test=0.981), recall=(train=1.000, test=0.963), roc_auc=(train=0.997, test=0.988), total=   0.0s\n",
      "[CV] svm__C=1000.0, svm__degree=3, svm__gamma=auto, svm__kernel=poly .\n",
      "[CV]  svm__C=1000.0, svm__degree=3, svm__gamma=auto, svm__kernel=poly, accuracy=(train=0.994, test=0.978), f1=(train=0.995, test=0.982), precision=(train=0.991, test=0.982), recall=(train=1.000, test=0.982), roc_auc=(train=0.998, test=0.998), total=   0.0s\n",
      "[CV] svm__C=1000.0, svm__degree=3, svm__gamma=auto, svm__kernel=poly .\n",
      "[CV]  svm__C=1000.0, svm__degree=3, svm__gamma=auto, svm__kernel=poly, accuracy=(train=0.994, test=0.978), f1=(train=0.995, test=0.982), precision=(train=0.991, test=0.982), recall=(train=1.000, test=0.982), roc_auc=(train=0.995, test=0.996), total=   0.0s\n",
      "[CV] svm__C=1000.0, svm__degree=3, svm__gamma=scale, svm__kernel=rbf .\n",
      "[CV]  svm__C=1000.0, svm__degree=3, svm__gamma=scale, svm__kernel=rbf, accuracy=(train=0.997, test=0.967), f1=(train=0.998, test=0.972), precision=(train=0.995, test=0.981), recall=(train=1.000, test=0.964), roc_auc=(train=0.999, test=0.987), total=   0.0s\n",
      "[CV] svm__C=1000.0, svm__degree=3, svm__gamma=scale, svm__kernel=rbf .\n",
      "[CV]  svm__C=1000.0, svm__degree=3, svm__gamma=scale, svm__kernel=rbf, accuracy=(train=0.994, test=0.956), f1=(train=0.995, test=0.964), precision=(train=0.991, test=0.964), recall=(train=1.000, test=0.964), roc_auc=(train=0.997, test=0.993), total=   0.0s\n",
      "[CV] svm__C=1000.0, svm__degree=3, svm__gamma=scale, svm__kernel=rbf .\n",
      "[CV]  svm__C=1000.0, svm__degree=3, svm__gamma=scale, svm__kernel=rbf, accuracy=(train=0.997, test=0.944), f1=(train=0.998, test=0.952), precision=(train=0.995, test=0.980), recall=(train=1.000, test=0.926), roc_auc=(train=0.998, test=0.991), total=   0.0s\n",
      "[CV] svm__C=1000.0, svm__degree=3, svm__gamma=scale, svm__kernel=rbf .\n",
      "[CV]  svm__C=1000.0, svm__degree=3, svm__gamma=scale, svm__kernel=rbf, accuracy=(train=0.994, test=0.978), f1=(train=0.995, test=0.982), precision=(train=0.991, test=0.982), recall=(train=1.000, test=0.982), roc_auc=(train=0.999, test=0.999), total=   0.0s\n",
      "[CV] svm__C=1000.0, svm__degree=3, svm__gamma=scale, svm__kernel=rbf .\n",
      "[CV]  svm__C=1000.0, svm__degree=3, svm__gamma=scale, svm__kernel=rbf, accuracy=(train=0.994, test=0.978), f1=(train=0.995, test=0.982), precision=(train=0.991, test=0.982), recall=(train=1.000, test=0.982), roc_auc=(train=0.999, test=0.997), total=   0.0s\n",
      "[CV] svm__C=1000.0, svm__degree=3, svm__gamma=scale, svm__kernel=poly \n",
      "[CV]  svm__C=1000.0, svm__degree=3, svm__gamma=scale, svm__kernel=poly, accuracy=(train=0.997, test=0.967), f1=(train=0.998, test=0.972), precision=(train=0.995, test=0.981), recall=(train=1.000, test=0.964), roc_auc=(train=0.997, test=0.989), total=   0.0s\n",
      "[CV] svm__C=1000.0, svm__degree=3, svm__gamma=scale, svm__kernel=poly \n",
      "[CV]  svm__C=1000.0, svm__degree=3, svm__gamma=scale, svm__kernel=poly, accuracy=(train=0.994, test=0.956), f1=(train=0.995, test=0.964), precision=(train=0.991, test=0.964), recall=(train=1.000, test=0.964), roc_auc=(train=0.995, test=0.993), total=   0.0s\n",
      "[CV] svm__C=1000.0, svm__degree=3, svm__gamma=scale, svm__kernel=poly \n",
      "[CV]  svm__C=1000.0, svm__degree=3, svm__gamma=scale, svm__kernel=poly, accuracy=(train=0.997, test=0.967), f1=(train=0.998, test=0.972), precision=(train=0.995, test=0.981), recall=(train=1.000, test=0.963), roc_auc=(train=0.997, test=0.988), total=   0.0s\n",
      "[CV] svm__C=1000.0, svm__degree=3, svm__gamma=scale, svm__kernel=poly \n",
      "[CV]  svm__C=1000.0, svm__degree=3, svm__gamma=scale, svm__kernel=poly, accuracy=(train=0.994, test=0.978), f1=(train=0.995, test=0.982), precision=(train=0.991, test=0.982), recall=(train=1.000, test=0.982), roc_auc=(train=0.998, test=0.998), total=   0.0s\n",
      "[CV] svm__C=1000.0, svm__degree=3, svm__gamma=scale, svm__kernel=poly \n",
      "[CV]  svm__C=1000.0, svm__degree=3, svm__gamma=scale, svm__kernel=poly, accuracy=(train=0.994, test=0.978), f1=(train=0.995, test=0.982), precision=(train=0.991, test=0.982), recall=(train=1.000, test=0.982), roc_auc=(train=0.995, test=0.996), total=   0.0s\n"
     ]
    },
    {
     "name": "stderr",
     "output_type": "stream",
     "text": [
      "[Parallel(n_jobs=1)]: Done  80 out of  80 | elapsed:    3.6s finished\n"
     ]
    },
    {
     "data": {
      "text/plain": [
       "GridSearchCV(cv=StratifiedKFold(n_splits=5, random_state=10, shuffle=True),\n",
       "             estimator=Pipeline(steps=[('scale', StandardScaler()),\n",
       "                                       ('svm', SVC(probability=True))]),\n",
       "             param_grid={'svm__C': array([1.e-01, 1.e+00, 1.e+02, 1.e+03]),\n",
       "                         'svm__degree': [3], 'svm__gamma': ['auto', 'scale'],\n",
       "                         'svm__kernel': ['rbf', 'poly']},\n",
       "             refit='roc_auc', return_train_score=True,\n",
       "             scoring=['accuracy', 'f1', 'precision', 'recall', 'roc_auc'],\n",
       "             verbose=3)"
      ]
     },
     "execution_count": 14,
     "metadata": {},
     "output_type": "execute_result"
    }
   ],
   "source": [
    "n_splits = 5\n",
    "skf = StratifiedKFold(n_splits=n_splits, random_state=10, shuffle=True)\n",
    "from sklearn.svm import SVC\n",
    "svc = SVC(probability=True)\n",
    "C = np.array([0.1, 1, 100, 1000])#, 10, 100, 1000])\n",
    "\n",
    "pipe = Pipeline(steps=[('scale', StandardScaler()), ('svm', svc)])\n",
    "svm_nonlin = GridSearchCV(estimator=pipe,\n",
    "             param_grid={'svm__kernel':['rbf', 'poly'], 'svm__degree':[3],'svm__gamma':['auto','scale'],'svm__C':C},\n",
    "             scoring=['accuracy','f1','precision','recall','roc_auc'], \n",
    "             cv=skf, refit='roc_auc', verbose=3, return_train_score=True)\n",
    "svm_nonlin.fit(encoded_X_train, np.ravel(encoded_y_train))"
   ]
  },
  {
   "cell_type": "code",
   "execution_count": 15,
   "metadata": {},
   "outputs": [
    {
     "name": "stdout",
     "output_type": "stream",
     "text": [
      "Train loss is 0.03\n",
      "Test loss is 0.17\n",
      "Test Sensitivity is 0.97 \n",
      "Test Specificity is 0.91 \n",
      "Test PPV is 0.94 \n",
      "Test NPV is 0.95 \n",
      "Test Accuracy is 0.95 \n",
      "Test F1 is 0.96 \n",
      "Test AUROC is 0.98\n",
      "Train Sensitivity is 1.00 \n",
      "Train Specificity is 0.99 \n",
      "Train PPV is 0.99 \n",
      "Train NPV is 1.00 \n",
      "Train Accuracy is 1.00 \n",
      "Train F1 is 1.00 \n",
      "Train AUROC is 1.00\n"
     ]
    }
   ],
   "source": [
    "calc_evalmetrics(encoded_X_test,encoded_X_train,encoded_y_test,encoded_y_train,svm_nonlin)"
   ]
  },
  {
   "cell_type": "markdown",
   "metadata": {},
   "source": [
    "As we can see from the parameters above, we recieved higher numbers in all parameters for the non-linear model therefore we can conclude that the nonlinear model is a better fit."
   ]
  },
  {
   "cell_type": "markdown",
   "metadata": {},
   "source": [
    "Now we will train a random forest classifier on our data:"
   ]
  },
  {
   "cell_type": "code",
   "execution_count": 16,
   "metadata": {},
   "outputs": [],
   "source": [
    "def norm_standard(CTG_features, mode='none'):\n",
    "    \"\"\"\n",
    "\n",
    "    :param CTG_features: Pandas series of CTG features\n",
    "    :param selected_feat: A two elements tuple of strings of the features for comparison\n",
    "    :param mode: A string determining the mode according to the notebook\n",
    "    :param flag: A boolean determining whether or not plot a histogram\n",
    "    :return: Dataframe of the normalized/standardazied features called nsd_res\n",
    "    \"\"\"\n",
    "    nsd_res = {} #CTG_features\n",
    "    if mode=='none':\n",
    "        nsd_res=CTG_features\n",
    "        \n",
    "    if mode == 'standard':\n",
    "        mean = ()\n",
    "        std = ()\n",
    "        for column in CTG_features:\n",
    "            mean = CTG_features.loc[:,column].mean()\n",
    "            std = CTG_features.loc[:,column].std()\n",
    "            nsd_res[column] = (CTG_features.loc[:,column] - mean) / std\n",
    "    if mode == 'mean':\n",
    "        mean = ()\n",
    "        xmax = ()\n",
    "        xmin = ()\n",
    "        for column in CTG_features:\n",
    "            mean = CTG_features.loc[:,column].mean()\n",
    "            xmax = CTG_features.loc[:,column].max()\n",
    "            xmin = CTG_features.loc[:,column].min()\n",
    "            nsd_res[column] = (CTG_features.loc[:,column] - mean) / (xmax - xmin)\n",
    "    if mode == 'MinMax':\n",
    "        xmin = ()\n",
    "        xmax = ()\n",
    "        for column in CTG_features:\n",
    "            xmax = CTG_features.loc[:,column].max()\n",
    "            xmin = CTG_features.loc[:,column].min()\n",
    "            nsd_res[column] = (CTG_features.loc[:,column] - xmin) / (xmax - xmin)\n",
    "\n",
    "    return pd.DataFrame(nsd_res)"
   ]
  },
  {
   "cell_type": "code",
   "execution_count": 17,
   "metadata": {},
   "outputs": [
    {
     "name": "stdout",
     "output_type": "stream",
     "text": [
      "                     importance\n",
      "Increased Urination    0.292132\n",
      "Increased Thirst       0.132466\n",
      "Gender                 0.115388\n",
      "Partial Paresis        0.085197\n",
      "Itching                0.058230\n",
      "Hair Loss              0.049616\n",
      "Delayed Healing        0.042559\n",
      "Sudden Weight Loss     0.040165\n",
      "Irritability           0.034834\n",
      "Increased Hunger       0.031455\n",
      "Genital Thrush         0.026949\n",
      "Visual Blurring        0.022650\n",
      "Weakness               0.021947\n",
      "Obesity                0.020936\n",
      "Muscle Stiffness       0.015647\n",
      "Family History         0.009830\n"
     ]
    }
   ],
   "source": [
    "from sklearn.ensemble import RandomForestClassifier as rfc\n",
    "mode =  'standard'\n",
    "clf_RF = rfc(n_estimators=10)\n",
    "clf_RF.fit(norm_standard(encoded_X_train, mode=mode), np.ravel(encoded_y_train))\n",
    "y_pred = clf_RF.predict(norm_standard(encoded_X_test, mode=mode))\n",
    "feature_importances = pd.DataFrame(clf_RF.feature_importances_, index=encoded_X_train.columns, columns=['importance']).sort_values('importance',ascending=False)\n",
    "print(feature_importances)"
   ]
  },
  {
   "cell_type": "markdown",
   "metadata": {},
   "source": [
    "As we can see, increased thirst and increased urination are the most important features according to the random forest classifier. If we look back at the graphs we displayed for each feature, these features are indeed very correlated with the disease. Meaning, if the answer is yes for these features, very high probability that this person has the disease."
   ]
  },
  {
   "cell_type": "markdown",
   "metadata": {},
   "source": [
    "Now we will use pca to perform dimensionality reduction on our data"
   ]
  },
  {
   "cell_type": "code",
   "execution_count": 18,
   "metadata": {},
   "outputs": [],
   "source": [
    "def plt_2d_pca(X_pca,y):\n",
    "    fig = plt.figure(figsize=(8, 8))\n",
    "    ax = fig.add_subplot(111, aspect='equal')\n",
    "    ax.scatter(X_pca[y==0, 0], X_pca[y==0, 1], color='b')\n",
    "    ax.scatter(X_pca[y==1, 0], X_pca[y==1, 1], color='r')\n",
    "    ax.legend(('Positive','Negative'))\n",
    "    ax.plot([0], [0], \"ko\")\n",
    "    ax.arrow(0, 0, 0, 1, head_width=0.05, length_includes_head=True, head_length=0.1, fc='k', ec='k')\n",
    "    ax.arrow(0, 0, 1, 0, head_width=0.05, length_includes_head=True, head_length=0.1, fc='k', ec='k')\n",
    "    ax.set_xlabel('$U_1$')\n",
    "    ax.set_ylabel('$U_2$')\n",
    "    ax.set_title('2D PCA')"
   ]
  },
  {
   "cell_type": "code",
   "execution_count": 19,
   "metadata": {},
   "outputs": [
    {
     "data": {
      "image/png": "[encoded data removed]",
      "text/plain": [
       "<Figure size 576x576 with 1 Axes>"
      ]
     },
     "metadata": {},
     "output_type": "display_data"
    }
   ],
   "source": [
    "import itertools\n",
    "from tqdm import tqdm\n",
    "import sys\n",
    "import matplotlib as mpl\n",
    "import seaborn as sns\n",
    "mpl.style.use(['ggplot']) \n",
    "plt.rcParams['axes.labelsize'] = 14\n",
    "plt.rcParams['xtick.labelsize'] = 12\n",
    "plt.rcParams['ytick.labelsize'] = 12\n",
    "from IPython.display import display, clear_output\n",
    "from sklearn.datasets import fetch_lfw_people\n",
    "from sklearn.decomposition import PCA\n",
    "\n",
    "n_components=2\n",
    "pca = PCA(n_components=n_components, whiten=True)\n",
    "scaler = StandardScaler()\n",
    "X_train = scaler.fit_transform(encoded_X_train)\n",
    "X_test = scaler.transform(encoded_X_test)\n",
    "X_train_pca = pca.fit_transform(X_train)\n",
    "X_test_pca = pca.transform(X_test)\n",
    "\n",
    "plt_2d_pca(X_test_pca,np.ravel(encoded_y_test))"
   ]
  },
  {
   "cell_type": "markdown",
   "metadata": {},
   "source": [
    "The data is sort of seperable using just two features but there would be a lot of mistakes, I would not recommend using just two features as the false positives would be very large (you can see from the graph that you can run a diagonal between the blue and the red but there will be a lot of reds on the blue side)."
   ]
  },
  {
   "cell_type": "markdown",
   "metadata": {},
   "source": [
    "Now we will train our linear and nonlinear model using the dimensionality reduced data:"
   ]
  },
  {
   "cell_type": "code",
   "execution_count": 20,
   "metadata": {},
   "outputs": [
    {
     "name": "stdout",
     "output_type": "stream",
     "text": [
      "Fitting 5 folds for each of 12 candidates, totalling 60 fits\n",
      "[CV] logistic__C=100.0, logistic__penalty=l1 .........................\n",
      "[CV]  logistic__C=100.0, logistic__penalty=l1, accuracy=(train=0.856, test=0.813), f1=(train=0.880, test=0.844), precision=(train=0.892, test=0.852), recall=(train=0.868, test=0.836), roc_auc=(train=0.943, test=0.916), total=   0.0s\n",
      "[CV] logistic__C=100.0, logistic__penalty=l1 .........................\n",
      "[CV]  logistic__C=100.0, logistic__penalty=l1, accuracy=(train=0.853, test=0.868), f1=(train=0.876, test=0.891), precision=(train=0.895, test=0.891), recall=(train=0.858, test=0.891), roc_auc=(train=0.930, test=0.970), total=   0.0s\n",
      "[CV] logistic__C=100.0, logistic__penalty=l1 .........................\n",
      "[CV]  logistic__C=100.0, logistic__penalty=l1, accuracy=(train=0.873, test=0.789), f1=(train=0.894, test=0.816), precision=(train=0.907, test=0.857), recall=(train=0.882, test=0.778), roc_auc=(train=0.948, test=0.894), total=   0.0s\n",
      "[CV] logistic__C=100.0, logistic__penalty=l1 .........................\n",
      "[CV]  logistic__C=100.0, logistic__penalty=l1, accuracy=(train=0.845, test=0.900), f1=(train=0.870, test=0.916), precision=(train=0.883, test=0.942), recall=(train=0.858, test=0.891), roc_auc=(train=0.937, test=0.941), total=   0.0s\n",
      "[CV] logistic__C=100.0, logistic__penalty=l1 .........................\n",
      "[CV]  logistic__C=100.0, logistic__penalty=l1, accuracy=(train=0.823, test=0.867), f1=(train=0.855, test=0.893), precision=(train=0.851, test=0.877), recall=(train=0.858, test=0.909), roc_auc=(train=0.931, test=0.964), total=   0.0s\n",
      "[CV] logistic__C=100.0, logistic__penalty=l2 .........................\n",
      "[CV]  logistic__C=100.0, logistic__penalty=l2, accuracy=(train=0.856, test=0.813), f1=(train=0.880, test=0.844), precision=(train=0.892, test=0.852), recall=(train=0.868, test=0.836), roc_auc=(train=0.943, test=0.916), total=   0.0s\n",
      "[CV] logistic__C=100.0, logistic__penalty=l2 .........................\n",
      "[CV]  logistic__C=100.0, logistic__penalty=l2, accuracy=(train=0.853, test=0.868), f1=(train=0.876, test=0.891), precision=(train=0.895, test=0.891), recall=(train=0.858, test=0.891), roc_auc=(train=0.930, test=0.970), total=   0.0s\n",
      "[CV] logistic__C=100.0, logistic__penalty=l2 .........................\n",
      "[CV]  logistic__C=100.0, logistic__penalty=l2, accuracy=(train=0.873, test=0.789), f1=(train=0.894, test=0.816), precision=(train=0.907, test=0.857), recall=(train=0.882, test=0.778), roc_auc=(train=0.948, test=0.894), total=   0.0s\n",
      "[CV] logistic__C=100.0, logistic__penalty=l2 .........................\n",
      "[CV]  logistic__C=100.0, logistic__penalty=l2, accuracy=(train=0.845, test=0.900), f1=(train=0.870, test=0.916), precision=(train=0.883, test=0.942), recall=(train=0.858, test=0.891), roc_auc=(train=0.937, test=0.941), total=   0.0s\n",
      "[CV] logistic__C=100.0, logistic__penalty=l2 .........................\n",
      "[CV]  logistic__C=100.0, logistic__penalty=l2, accuracy=(train=0.823, test=0.867), f1=(train=0.855, test=0.893), precision=(train=0.851, test=0.877), recall=(train=0.858, test=0.909), roc_auc=(train=0.931, test=0.964), total=   0.0s\n",
      "[CV] logistic__C=100.0, logistic__penalty=l1 .........................\n",
      "[CV]  logistic__C=100.0, logistic__penalty=l1, accuracy=(train=0.856, test=0.813), f1=(train=0.880, test=0.844), precision=(train=0.892, test=0.852), recall=(train=0.868, test=0.836), roc_auc=(train=0.943, test=0.916), total=   0.0s\n",
      "[CV] logistic__C=100.0, logistic__penalty=l1 .........................\n"
     ]
    },
    {
     "name": "stderr",
     "output_type": "stream",
     "text": [
      "[Parallel(n_jobs=1)]: Using backend SequentialBackend with 1 concurrent workers.\n",
      "[Parallel(n_jobs=1)]: Done   1 out of   1 | elapsed:    0.0s remaining:    0.0s\n",
      "[Parallel(n_jobs=1)]: Done   2 out of   2 | elapsed:    0.0s remaining:    0.0s\n"
     ]
    },
    {
     "name": "stdout",
     "output_type": "stream",
     "text": [
      "[CV]  logistic__C=100.0, logistic__penalty=l1, accuracy=(train=0.853, test=0.868), f1=(train=0.876, test=0.891), precision=(train=0.895, test=0.891), recall=(train=0.858, test=0.891), roc_auc=(train=0.930, test=0.970), total=   0.0s\n",
      "[CV] logistic__C=100.0, logistic__penalty=l1 .........................\n",
      "[CV]  logistic__C=100.0, logistic__penalty=l1, accuracy=(train=0.873, test=0.789), f1=(train=0.894, test=0.816), precision=(train=0.907, test=0.857), recall=(train=0.882, test=0.778), roc_auc=(train=0.948, test=0.894), total=   0.0s\n",
      "[CV] logistic__C=100.0, logistic__penalty=l1 .........................\n",
      "[CV]  logistic__C=100.0, logistic__penalty=l1, accuracy=(train=0.845, test=0.900), f1=(train=0.870, test=0.916), precision=(train=0.883, test=0.942), recall=(train=0.858, test=0.891), roc_auc=(train=0.937, test=0.941), total=   0.0s\n",
      "[CV] logistic__C=100.0, logistic__penalty=l1 .........................\n",
      "[CV]  logistic__C=100.0, logistic__penalty=l1, accuracy=(train=0.823, test=0.867), f1=(train=0.855, test=0.893), precision=(train=0.851, test=0.877), recall=(train=0.858, test=0.909), roc_auc=(train=0.931, test=0.964), total=   0.0s\n",
      "[CV] logistic__C=100.0, logistic__penalty=l2 .........................\n",
      "[CV]  logistic__C=100.0, logistic__penalty=l2, accuracy=(train=0.856, test=0.813), f1=(train=0.880, test=0.844), precision=(train=0.892, test=0.852), recall=(train=0.868, test=0.836), roc_auc=(train=0.943, test=0.916), total=   0.0s\n",
      "[CV] logistic__C=100.0, logistic__penalty=l2 .........................\n",
      "[CV]  logistic__C=100.0, logistic__penalty=l2, accuracy=(train=0.853, test=0.868), f1=(train=0.876, test=0.891), precision=(train=0.895, test=0.891), recall=(train=0.858, test=0.891), roc_auc=(train=0.930, test=0.970), total=   0.0s\n",
      "[CV] logistic__C=100.0, logistic__penalty=l2 .........................\n",
      "[CV]  logistic__C=100.0, logistic__penalty=l2, accuracy=(train=0.873, test=0.789), f1=(train=0.894, test=0.816), precision=(train=0.907, test=0.857), recall=(train=0.882, test=0.778), roc_auc=(train=0.948, test=0.894), total=   0.0s\n",
      "[CV] logistic__C=100.0, logistic__penalty=l2 .........................\n",
      "[CV]  logistic__C=100.0, logistic__penalty=l2, accuracy=(train=0.845, test=0.900), f1=(train=0.870, test=0.916), precision=(train=0.883, test=0.942), recall=(train=0.858, test=0.891), roc_auc=(train=0.937, test=0.941), total=   0.0s\n",
      "[CV] logistic__C=100.0, logistic__penalty=l2 .........................\n",
      "[CV]  logistic__C=100.0, logistic__penalty=l2, accuracy=(train=0.823, test=0.867), f1=(train=0.855, test=0.893), precision=(train=0.851, test=0.877), recall=(train=0.858, test=0.909), roc_auc=(train=0.931, test=0.964), total=   0.0s\n",
      "[CV] logistic__C=1.0, logistic__penalty=l1 ...........................\n",
      "[CV]  logistic__C=1.0, logistic__penalty=l1, accuracy=(train=0.859, test=0.813), f1=(train=0.882, test=0.844), precision=(train=0.896, test=0.852), recall=(train=0.868, test=0.836), roc_auc=(train=0.943, test=0.917), total=   0.0s\n",
      "[CV] logistic__C=1.0, logistic__penalty=l1 ...........................\n",
      "[CV]  logistic__C=1.0, logistic__penalty=l1, accuracy=(train=0.853, test=0.868), f1=(train=0.876, test=0.891), precision=(train=0.899, test=0.891), recall=(train=0.854, test=0.891), roc_auc=(train=0.930, test=0.970), total=   0.0s\n",
      "[CV] logistic__C=1.0, logistic__penalty=l1 ...........................\n",
      "[CV]  logistic__C=1.0, logistic__penalty=l1, accuracy=(train=0.870, test=0.778), f1=(train=0.891, test=0.804), precision=(train=0.906, test=0.854), recall=(train=0.877, test=0.759), roc_auc=(train=0.948, test=0.894), total=   0.0s\n",
      "[CV] logistic__C=1.0, logistic__penalty=l1 ...........................\n",
      "[CV]  logistic__C=1.0, logistic__penalty=l1, accuracy=(train=0.845, test=0.900), f1=(train=0.870, test=0.916), precision=(train=0.886, test=0.942), recall=(train=0.854, test=0.891), roc_auc=(train=0.937, test=0.941), total=   0.0s\n",
      "[CV] logistic__C=1.0, logistic__penalty=l1 ...........................\n",
      "[CV]  logistic__C=1.0, logistic__penalty=l1, accuracy=(train=0.834, test=0.867), f1=(train=0.862, test=0.893), precision=(train=0.866, test=0.877), recall=(train=0.858, test=0.909), roc_auc=(train=0.931, test=0.964), total=   0.0s\n",
      "[CV] logistic__C=1.0, logistic__penalty=l2 ...........................\n",
      "[CV]  logistic__C=1.0, logistic__penalty=l2, accuracy=(train=0.870, test=0.813), f1=(train=0.890, test=0.844), precision=(train=0.913, test=0.852), recall=(train=0.868, test=0.836), roc_auc=(train=0.943, test=0.917), total=   0.0s\n",
      "[CV] logistic__C=1.0, logistic__penalty=l2 ...........................\n",
      "[CV]  logistic__C=1.0, logistic__penalty=l2, accuracy=(train=0.853, test=0.868), f1=(train=0.876, test=0.891), precision=(train=0.899, test=0.891), recall=(train=0.854, test=0.891), roc_auc=(train=0.930, test=0.970), total=   0.0s\n",
      "[CV] logistic__C=1.0, logistic__penalty=l2 ...........................\n",
      "[CV]  logistic__C=1.0, logistic__penalty=l2, accuracy=(train=0.870, test=0.778), f1=(train=0.891, test=0.804), precision=(train=0.906, test=0.854), recall=(train=0.877, test=0.759), roc_auc=(train=0.947, test=0.894), total=   0.0s\n",
      "[CV] logistic__C=1.0, logistic__penalty=l2 ...........................\n",
      "[CV]  logistic__C=1.0, logistic__penalty=l2, accuracy=(train=0.845, test=0.900), f1=(train=0.870, test=0.916), precision=(train=0.886, test=0.942), recall=(train=0.854, test=0.891), roc_auc=(train=0.937, test=0.941), total=   0.0s\n",
      "[CV] logistic__C=1.0, logistic__penalty=l2 ...........................\n",
      "[CV]  logistic__C=1.0, logistic__penalty=l2, accuracy=(train=0.834, test=0.867), f1=(train=0.862, test=0.893), precision=(train=0.866, test=0.877), recall=(train=0.858, test=0.909), roc_auc=(train=0.931, test=0.964), total=   0.0s\n",
      "[CV] logistic__C=0.1, logistic__penalty=l1 ...........................\n",
      "[CV]  logistic__C=0.1, logistic__penalty=l1, accuracy=(train=0.881, test=0.846), f1=(train=0.897, test=0.868), precision=(train=0.944, test=0.902), recall=(train=0.854, test=0.836), roc_auc=(train=0.943, test=0.913), total=   0.0s\n",
      "[CV] logistic__C=0.1, logistic__penalty=l1 ...........................\n",
      "[CV]  logistic__C=0.1, logistic__penalty=l1, accuracy=(train=0.861, test=0.912), f1=(train=0.880, test=0.925), precision=(train=0.929, test=0.961), recall=(train=0.836, test=0.891), roc_auc=(train=0.929, test=0.970), total=   0.0s\n",
      "[CV] logistic__C=0.1, logistic__penalty=l1 ...........................\n",
      "[CV]  logistic__C=0.1, logistic__penalty=l1, accuracy=(train=0.892, test=0.811), f1=(train=0.908, test=0.825), precision=(train=0.946, test=0.930), recall=(train=0.873, test=0.741), roc_auc=(train=0.946, test=0.903), total=   0.0s\n",
      "[CV] logistic__C=0.1, logistic__penalty=l1 ...........................\n",
      "[CV]  logistic__C=0.1, logistic__penalty=l1, accuracy=(train=0.865, test=0.900), f1=(train=0.882, test=0.914), precision=(train=0.929, test=0.960), recall=(train=0.840, test=0.873), roc_auc=(train=0.936, test=0.940), total=   0.0s\n",
      "[CV] logistic__C=0.1, logistic__penalty=l1 ...........................\n",
      "[CV]  logistic__C=0.1, logistic__penalty=l1, accuracy=(train=0.862, test=0.856), f1=(train=0.881, test=0.883), precision=(train=0.920, test=0.875), recall=(train=0.845, test=0.891), roc_auc=(train=0.932, test=0.962), total=   0.0s\n",
      "[CV] logistic__C=0.1, logistic__penalty=l2 ...........................\n",
      "[CV]  logistic__C=0.1, logistic__penalty=l2, accuracy=(train=0.875, test=0.857), f1=(train=0.893, test=0.876), precision=(train=0.935, test=0.920), recall=(train=0.854, test=0.836), roc_auc=(train=0.943, test=0.918), total=   0.0s\n",
      "[CV] logistic__C=0.1, logistic__penalty=l2 ...........................\n",
      "[CV]  logistic__C=0.1, logistic__penalty=l2, accuracy=(train=0.848, test=0.890), f1=(train=0.869, test=0.907), precision=(train=0.906, test=0.925), recall=(train=0.836, test=0.891), roc_auc=(train=0.930, test=0.970), total=   0.0s\n",
      "[CV] logistic__C=0.1, logistic__penalty=l2 ...........................\n",
      "[CV]  logistic__C=0.1, logistic__penalty=l2, accuracy=(train=0.884, test=0.811), f1=(train=0.901, test=0.825), precision=(train=0.932, test=0.930), recall=(train=0.873, test=0.741), roc_auc=(train=0.947, test=0.895), total=   0.0s\n",
      "[CV] logistic__C=0.1, logistic__penalty=l2 ...........................\n",
      "[CV]  logistic__C=0.1, logistic__penalty=l2, accuracy=(train=0.856, test=0.889), f1=(train=0.876, test=0.906), precision=(train=0.915, test=0.941), recall=(train=0.840, test=0.873), roc_auc=(train=0.936, test=0.941), total=   0.0s\n",
      "[CV] logistic__C=0.1, logistic__penalty=l2 ...........................\n",
      "[CV]  logistic__C=0.1, logistic__penalty=l2, accuracy=(train=0.862, test=0.867), f1=(train=0.881, test=0.891), precision=(train=0.920, test=0.891), recall=(train=0.845, test=0.891), roc_auc=(train=0.932, test=0.964), total=   0.0s\n",
      "[CV] logistic__C=0.01, logistic__penalty=l1 ..........................\n",
      "[CV]  logistic__C=0.01, logistic__penalty=l1, accuracy=(train=0.781, test=0.692), f1=(train=0.804, test=0.714), precision=(train=0.880, test=0.814), recall=(train=0.740, test=0.636), roc_auc=(train=0.901, test=0.812), total=   0.0s\n",
      "[CV] logistic__C=0.01, logistic__penalty=l1 ..........................\n",
      "[CV]  logistic__C=0.01, logistic__penalty=l1, accuracy=(train=0.751, test=0.813), f1=(train=0.774, test=0.835), precision=(train=0.860, test=0.896), recall=(train=0.703, test=0.782), roc_auc=(train=0.875, test=0.929), total=   0.0s\n",
      "[CV] logistic__C=0.01, logistic__penalty=l1 ..........................\n",
      "[CV]  logistic__C=0.01, logistic__penalty=l1, accuracy=(train=0.754, test=0.744), f1=(train=0.777, test=0.763), precision=(train=0.866, test=0.860), recall=(train=0.705, test=0.685), roc_auc=(train=0.890, test=0.868), total=   0.0s\n",
      "[CV] logistic__C=0.01, logistic__penalty=l1 ..........................\n",
      "[CV]  logistic__C=0.01, logistic__penalty=l1, accuracy=(train=0.754, test=0.767), f1=(train=0.778, test=0.784), precision=(train=0.857, test=0.905), recall=(train=0.712, test=0.691), roc_auc=(train=0.877, test=0.921), total=   0.0s\n",
      "[CV] logistic__C=0.01, logistic__penalty=l1 ..........................\n",
      "[CV]  logistic__C=0.01, logistic__penalty=l1, accuracy=(train=0.765, test=0.789), f1=(train=0.787, test=0.819), precision=(train=0.872, test=0.860), recall=(train=0.717, test=0.782), roc_auc=(train=0.885, test=0.891), total=   0.0s\n",
      "[CV] logistic__C=0.01, logistic__penalty=l2 ..........................\n",
      "[CV]  logistic__C=0.01, logistic__penalty=l2, accuracy=(train=0.886, test=0.857), f1=(train=0.901, test=0.874), precision=(train=0.959, test=0.938), recall=(train=0.849, test=0.818), roc_auc=(train=0.943, test=0.918), total=   0.0s\n",
      "[CV] logistic__C=0.01, logistic__penalty=l2 ..........................\n",
      "[CV]  logistic__C=0.01, logistic__penalty=l2, accuracy=(train=0.864, test=0.912), f1=(train=0.882, test=0.925), precision=(train=0.934, test=0.961), recall=(train=0.836, test=0.891), roc_auc=(train=0.930, test=0.970), total=   0.0s\n",
      "[CV] logistic__C=0.01, logistic__penalty=l2 ..........................\n",
      "[CV]  logistic__C=0.01, logistic__penalty=l2, accuracy=(train=0.898, test=0.833), f1=(train=0.912, test=0.842), precision=(train=0.955, test=0.976), recall=(train=0.873, test=0.741), roc_auc=(train=0.947, test=0.895), total=   0.0s\n",
      "[CV] logistic__C=0.01, logistic__penalty=l2 ..........................\n",
      "[CV]  logistic__C=0.01, logistic__penalty=l2, accuracy=(train=0.867, test=0.900), f1=(train=0.885, test=0.914), precision=(train=0.934, test=0.960), recall=(train=0.840, test=0.873), roc_auc=(train=0.937, test=0.941), total=   0.0s\n",
      "[CV] logistic__C=0.01, logistic__penalty=l2 ..........................\n",
      "[CV]  logistic__C=0.01, logistic__penalty=l2, accuracy=(train=0.873, test=0.878), f1=(train=0.888, test=0.899), precision=(train=0.948, test=0.907), recall=(train=0.836, test=0.891), roc_auc=(train=0.932, test=0.964), total=   0.0s\n",
      "[CV] logistic__C=0.001, logistic__penalty=l1 .........................\n",
      "[CV]  logistic__C=0.001, logistic__penalty=l1, accuracy=(train=0.393, test=0.396), f1=(train=0.000, test=0.000), precision=(train=0.000, test=0.000), recall=(train=0.000, test=0.000), roc_auc=(train=0.500, test=0.500), total=   0.0s\n",
      "[CV] logistic__C=0.001, logistic__penalty=l1 .........................\n",
      "[CV]  logistic__C=0.001, logistic__penalty=l1, accuracy=(train=0.393, test=0.396), f1=(train=0.000, test=0.000), precision=(train=0.000, test=0.000), recall=(train=0.000, test=0.000), roc_auc=(train=0.500, test=0.500), total=   0.0s\n",
      "[CV] logistic__C=0.001, logistic__penalty=l1 .........................\n",
      "[CV]  logistic__C=0.001, logistic__penalty=l1, accuracy=(train=0.392, test=0.400), f1=(train=0.000, test=0.000), precision=(train=0.000, test=0.000), recall=(train=0.000, test=0.000), roc_auc=(train=0.500, test=0.500), total=   0.0s\n",
      "[CV] logistic__C=0.001, logistic__penalty=l1 .........................\n",
      "[CV]  logistic__C=0.001, logistic__penalty=l1, accuracy=(train=0.395, test=0.389), f1=(train=0.000, test=0.000), precision=(train=0.000, test=0.000), recall=(train=0.000, test=0.000), roc_auc=(train=0.500, test=0.500), total=   0.0s\n",
      "[CV] logistic__C=0.001, logistic__penalty=l1 .........................\n",
      "[CV]  logistic__C=0.001, logistic__penalty=l1, accuracy=(train=0.395, test=0.389), f1=(train=0.000, test=0.000), precision=(train=0.000, test=0.000), recall=(train=0.000, test=0.000), roc_auc=(train=0.500, test=0.500), total=   0.0s\n",
      "[CV] logistic__C=0.001, logistic__penalty=l2 .........................\n",
      "[CV]  logistic__C=0.001, logistic__penalty=l2, accuracy=(train=0.886, test=0.857), f1=(train=0.901, test=0.874), precision=(train=0.959, test=0.938), recall=(train=0.849, test=0.818), roc_auc=(train=0.943, test=0.919), total=   0.0s\n",
      "[CV] logistic__C=0.001, logistic__penalty=l2 .........................\n",
      "[CV]  logistic__C=0.001, logistic__penalty=l2, accuracy=(train=0.867, test=0.912), f1=(train=0.884, test=0.925), precision=(train=0.938, test=0.961), recall=(train=0.836, test=0.891), roc_auc=(train=0.930, test=0.970), total=   0.0s\n",
      "[CV] logistic__C=0.001, logistic__penalty=l2 .........................\n",
      "[CV]  logistic__C=0.001, logistic__penalty=l2, accuracy=(train=0.895, test=0.833), f1=(train=0.910, test=0.842), precision=(train=0.955, test=0.976), recall=(train=0.868, test=0.741), roc_auc=(train=0.947, test=0.895), total=   0.0s\n",
      "[CV] logistic__C=0.001, logistic__penalty=l2 .........................\n",
      "[CV]  logistic__C=0.001, logistic__penalty=l2, accuracy=(train=0.870, test=0.911), f1=(train=0.887, test=0.923), precision=(train=0.939, test=0.980), recall=(train=0.840, test=0.873), roc_auc=(train=0.937, test=0.941), total=   0.0s\n",
      "[CV] logistic__C=0.001, logistic__penalty=l2 .........................\n",
      "[CV]  logistic__C=0.001, logistic__penalty=l2, accuracy=(train=0.876, test=0.878), f1=(train=0.891, test=0.899), precision=(train=0.953, test=0.907), recall=(train=0.836, test=0.891), roc_auc=(train=0.932, test=0.964), total=   0.0s\n"
     ]
    },
    {
     "name": "stderr",
     "output_type": "stream",
     "text": [
      "C:\\Users\\USER\\anaconda3\\envs\\bm-336546\\lib\\site-packages\\sklearn\\metrics\\_classification.py:1221: UndefinedMetricWarning: Precision is ill-defined and being set to 0.0 due to no predicted samples. Use `zero_division` parameter to control this behavior.\n",
      "  _warn_prf(average, modifier, msg_start, len(result))\n",
      "C:\\Users\\USER\\anaconda3\\envs\\bm-336546\\lib\\site-packages\\sklearn\\metrics\\_classification.py:1221: UndefinedMetricWarning: Precision is ill-defined and being set to 0.0 due to no predicted samples. Use `zero_division` parameter to control this behavior.\n",
      "  _warn_prf(average, modifier, msg_start, len(result))\n",
      "C:\\Users\\USER\\anaconda3\\envs\\bm-336546\\lib\\site-packages\\sklearn\\metrics\\_classification.py:1221: UndefinedMetricWarning: Precision is ill-defined and being set to 0.0 due to no predicted samples. Use `zero_division` parameter to control this behavior.\n",
      "  _warn_prf(average, modifier, msg_start, len(result))\n",
      "C:\\Users\\USER\\anaconda3\\envs\\bm-336546\\lib\\site-packages\\sklearn\\metrics\\_classification.py:1221: UndefinedMetricWarning: Precision is ill-defined and being set to 0.0 due to no predicted samples. Use `zero_division` parameter to control this behavior.\n",
      "  _warn_prf(average, modifier, msg_start, len(result))\n",
      "C:\\Users\\USER\\anaconda3\\envs\\bm-336546\\lib\\site-packages\\sklearn\\metrics\\_classification.py:1221: UndefinedMetricWarning: Precision is ill-defined and being set to 0.0 due to no predicted samples. Use `zero_division` parameter to control this behavior.\n",
      "  _warn_prf(average, modifier, msg_start, len(result))\n",
      "C:\\Users\\USER\\anaconda3\\envs\\bm-336546\\lib\\site-packages\\sklearn\\metrics\\_classification.py:1221: UndefinedMetricWarning: Precision is ill-defined and being set to 0.0 due to no predicted samples. Use `zero_division` parameter to control this behavior.\n",
      "  _warn_prf(average, modifier, msg_start, len(result))\n",
      "C:\\Users\\USER\\anaconda3\\envs\\bm-336546\\lib\\site-packages\\sklearn\\metrics\\_classification.py:1221: UndefinedMetricWarning: Precision is ill-defined and being set to 0.0 due to no predicted samples. Use `zero_division` parameter to control this behavior.\n",
      "  _warn_prf(average, modifier, msg_start, len(result))\n",
      "C:\\Users\\USER\\anaconda3\\envs\\bm-336546\\lib\\site-packages\\sklearn\\metrics\\_classification.py:1221: UndefinedMetricWarning: Precision is ill-defined and being set to 0.0 due to no predicted samples. Use `zero_division` parameter to control this behavior.\n",
      "  _warn_prf(average, modifier, msg_start, len(result))\n",
      "C:\\Users\\USER\\anaconda3\\envs\\bm-336546\\lib\\site-packages\\sklearn\\metrics\\_classification.py:1221: UndefinedMetricWarning: Precision is ill-defined and being set to 0.0 due to no predicted samples. Use `zero_division` parameter to control this behavior.\n",
      "  _warn_prf(average, modifier, msg_start, len(result))\n",
      "C:\\Users\\USER\\anaconda3\\envs\\bm-336546\\lib\\site-packages\\sklearn\\metrics\\_classification.py:1221: UndefinedMetricWarning: Precision is ill-defined and being set to 0.0 due to no predicted samples. Use `zero_division` parameter to control this behavior.\n",
      "  _warn_prf(average, modifier, msg_start, len(result))\n",
      "[Parallel(n_jobs=1)]: Done  60 out of  60 | elapsed:    0.8s finished\n"
     ]
    },
    {
     "data": {
      "text/plain": [
       "GridSearchCV(cv=StratifiedKFold(n_splits=5, random_state=10, shuffle=True),\n",
       "             estimator=Pipeline(steps=[('scale', StandardScaler()),\n",
       "                                       ('logistic',\n",
       "                                        LogisticRegression(max_iter=2000,\n",
       "                                                           random_state=5,\n",
       "                                                           solver='liblinear'))]),\n",
       "             param_grid={'logistic__C': array([1.e+02, 1.e+02, 1.e+00, 1.e-01, 1.e-02, 1.e-03]),\n",
       "                         'logistic__penalty': ['l1', 'l2']},\n",
       "             refit='roc_auc', return_train_score=True,\n",
       "             scoring=['accuracy', 'f1', 'precision', 'recall', 'roc_auc'],\n",
       "             verbose=3)"
      ]
     },
     "execution_count": 20,
     "metadata": {},
     "output_type": "execute_result"
    }
   ],
   "source": [
    "#linear with dimensionality reduced:\n",
    "clf.fit(X_train_pca, np.ravel(encoded_y_train))\n"
   ]
  },
  {
   "cell_type": "code",
   "execution_count": 21,
   "metadata": {},
   "outputs": [
    {
     "name": "stdout",
     "output_type": "stream",
     "text": [
      "Train loss is 0.64\n",
      "Test loss is 0.64\n",
      "Test Sensitivity is 0.83 \n",
      "Test Specificity is 0.84 \n",
      "Test PPV is 0.89 \n",
      "Test NPV is 0.76 \n",
      "Test Accuracy is 0.83 \n",
      "Test F1 is 0.86 \n",
      "Test AUROC is 0.92\n",
      "Train Sensitivity is 0.85 \n",
      "Train Specificity is 0.94 \n",
      "Train PPV is 0.95 \n",
      "Train NPV is 0.80 \n",
      "Train Accuracy is 0.88 \n",
      "Train F1 is 0.90 \n",
      "Train AUROC is 0.94\n"
     ]
    }
   ],
   "source": [
    "calc_evalmetrics(X_test_pca,X_train_pca,encoded_y_test,encoded_y_train,clf)"
   ]
  },
  {
   "cell_type": "code",
   "execution_count": 22,
   "metadata": {},
   "outputs": [
    {
     "name": "stdout",
     "output_type": "stream",
     "text": [
      "Fitting 5 folds for each of 16 candidates, totalling 80 fits\n",
      "[CV] svm__C=0.1, svm__degree=3, svm__gamma=auto, svm__kernel=rbf .....\n",
      "[CV]  svm__C=0.1, svm__degree=3, svm__gamma=auto, svm__kernel=rbf, accuracy=(train=0.875, test=0.901), f1=(train=0.895, test=0.913), precision=(train=0.918, test=0.979), recall=(train=0.872, test=0.855), roc_auc=(train=0.955, test=0.967), total=   0.0s\n",
      "[CV] svm__C=0.1, svm__degree=3, svm__gamma=auto, svm__kernel=rbf .....\n",
      "[CV]  svm__C=0.1, svm__degree=3, svm__gamma=auto, svm__kernel=rbf, accuracy=(train=0.898, test=0.923), f1=(train=0.913, test=0.936), precision=(train=0.938, test=0.944), recall=(train=0.890, test=0.927), roc_auc=(train=0.951, test=0.977), total=   0.0s\n",
      "[CV] svm__C=0.1, svm__degree=3, svm__gamma=auto, svm__kernel=rbf .....\n",
      "[CV]  svm__C=0.1, svm__degree=3, svm__gamma=auto, svm__kernel=rbf, accuracy=(train=0.909, test=0.767), f1=(train=0.922, test=0.796), precision=(train=0.961, test=0.837), recall=(train=0.886, test=0.759), roc_auc=(train=0.970, test=0.898), total=   0.0s\n",
      "[CV] svm__C=0.1, svm__degree=3, svm__gamma=auto, svm__kernel=rbf .....\n",
      "[CV]  svm__C=0.1, svm__degree=3, svm__gamma=auto, svm__kernel=rbf, accuracy=(train=0.892, test=0.933), f1=(train=0.909, test=0.945), precision=(train=0.929, test=0.945), recall=(train=0.890, test=0.945), roc_auc=(train=0.960, test=0.944), total=   0.0s\n",
      "[CV] svm__C=0.1, svm__degree=3, svm__gamma=auto, svm__kernel=rbf .....\n",
      "[CV]  svm__C=0.1, svm__degree=3, svm__gamma=auto, svm__kernel=rbf, accuracy=(train=0.895, test=0.900), f1=(train=0.912, test=0.917), precision=(train=0.921, test=0.926), recall=(train=0.904, test=0.909), roc_auc=(train=0.951, test=0.983), total=   0.0s\n",
      "[CV] svm__C=0.1, svm__degree=3, svm__gamma=auto, svm__kernel=poly ....\n",
      "[CV]  svm__C=0.1, svm__degree=3, svm__gamma=auto, svm__kernel=poly, accuracy=(train=0.886, test=0.890), f1=(train=0.910, test=0.912), precision=(train=0.874, test=0.881), recall=(train=0.950, test=0.945), roc_auc=(train=0.964, test=0.974), total=   0.0s"
     ]
    },
    {
     "name": "stderr",
     "output_type": "stream",
     "text": [
      "[Parallel(n_jobs=1)]: Using backend SequentialBackend with 1 concurrent workers.\n",
      "[Parallel(n_jobs=1)]: Done   1 out of   1 | elapsed:    0.0s remaining:    0.0s\n",
      "[Parallel(n_jobs=1)]: Done   2 out of   2 | elapsed:    0.0s remaining:    0.0s\n"
     ]
    },
    {
     "name": "stdout",
     "output_type": "stream",
     "text": [
      "\n",
      "[CV] svm__C=0.1, svm__degree=3, svm__gamma=auto, svm__kernel=poly ....\n",
      "[CV]  svm__C=0.1, svm__degree=3, svm__gamma=auto, svm__kernel=poly, accuracy=(train=0.889, test=0.901), f1=(train=0.912, test=0.922), precision=(train=0.881, test=0.883), recall=(train=0.945, test=0.964), roc_auc=(train=0.964, test=0.979), total=   0.0s\n",
      "[CV] svm__C=0.1, svm__degree=3, svm__gamma=auto, svm__kernel=poly ....\n",
      "[CV]  svm__C=0.1, svm__degree=3, svm__gamma=auto, svm__kernel=poly, accuracy=(train=0.901, test=0.856), f1=(train=0.921, test=0.883), precision=(train=0.893, test=0.860), recall=(train=0.950, test=0.907), roc_auc=(train=0.975, test=0.927), total=   0.0s\n",
      "[CV] svm__C=0.1, svm__degree=3, svm__gamma=auto, svm__kernel=poly ....\n",
      "[CV]  svm__C=0.1, svm__degree=3, svm__gamma=auto, svm__kernel=poly, accuracy=(train=0.890, test=0.878), f1=(train=0.913, test=0.904), precision=(train=0.874, test=0.867), recall=(train=0.954, test=0.945), roc_auc=(train=0.969, test=0.963), total=   0.0s\n",
      "[CV] svm__C=0.1, svm__degree=3, svm__gamma=auto, svm__kernel=poly ....\n",
      "[CV]  svm__C=0.1, svm__degree=3, svm__gamma=auto, svm__kernel=poly, accuracy=(train=0.878, test=0.922), f1=(train=0.904, test=0.938), precision=(train=0.866, test=0.914), recall=(train=0.945, test=0.964), roc_auc=(train=0.964, test=0.976), total=   0.0s\n",
      "[CV] svm__C=0.1, svm__degree=3, svm__gamma=scale, svm__kernel=rbf ....\n",
      "[CV]  svm__C=0.1, svm__degree=3, svm__gamma=scale, svm__kernel=rbf, accuracy=(train=0.875, test=0.901), f1=(train=0.895, test=0.913), precision=(train=0.918, test=0.979), recall=(train=0.872, test=0.855), roc_auc=(train=0.955, test=0.967), total=   0.0s\n",
      "[CV] svm__C=0.1, svm__degree=3, svm__gamma=scale, svm__kernel=rbf ....\n",
      "[CV]  svm__C=0.1, svm__degree=3, svm__gamma=scale, svm__kernel=rbf, accuracy=(train=0.898, test=0.923), f1=(train=0.913, test=0.936), precision=(train=0.938, test=0.944), recall=(train=0.890, test=0.927), roc_auc=(train=0.951, test=0.977), total=   0.0s\n",
      "[CV] svm__C=0.1, svm__degree=3, svm__gamma=scale, svm__kernel=rbf ....\n",
      "[CV]  svm__C=0.1, svm__degree=3, svm__gamma=scale, svm__kernel=rbf, accuracy=(train=0.909, test=0.767), f1=(train=0.922, test=0.796), precision=(train=0.961, test=0.837), recall=(train=0.886, test=0.759), roc_auc=(train=0.970, test=0.898), total=   0.0s\n",
      "[CV] svm__C=0.1, svm__degree=3, svm__gamma=scale, svm__kernel=rbf ....\n",
      "[CV]  svm__C=0.1, svm__degree=3, svm__gamma=scale, svm__kernel=rbf, accuracy=(train=0.892, test=0.933), f1=(train=0.909, test=0.945), precision=(train=0.929, test=0.945), recall=(train=0.890, test=0.945), roc_auc=(train=0.960, test=0.944), total=   0.0s\n",
      "[CV] svm__C=0.1, svm__degree=3, svm__gamma=scale, svm__kernel=rbf ....\n",
      "[CV]  svm__C=0.1, svm__degree=3, svm__gamma=scale, svm__kernel=rbf, accuracy=(train=0.895, test=0.900), f1=(train=0.912, test=0.917), precision=(train=0.921, test=0.926), recall=(train=0.904, test=0.909), roc_auc=(train=0.951, test=0.983), total=   0.0s\n",
      "[CV] svm__C=0.1, svm__degree=3, svm__gamma=scale, svm__kernel=poly ...\n",
      "[CV]  svm__C=0.1, svm__degree=3, svm__gamma=scale, svm__kernel=poly, accuracy=(train=0.886, test=0.890), f1=(train=0.910, test=0.912), precision=(train=0.874, test=0.881), recall=(train=0.950, test=0.945), roc_auc=(train=0.964, test=0.974), total=   0.0s\n",
      "[CV] svm__C=0.1, svm__degree=3, svm__gamma=scale, svm__kernel=poly ...\n",
      "[CV]  svm__C=0.1, svm__degree=3, svm__gamma=scale, svm__kernel=poly, accuracy=(train=0.889, test=0.901), f1=(train=0.912, test=0.922), precision=(train=0.881, test=0.883), recall=(train=0.945, test=0.964), roc_auc=(train=0.964, test=0.979), total=   0.0s\n",
      "[CV] svm__C=0.1, svm__degree=3, svm__gamma=scale, svm__kernel=poly ...\n",
      "[CV]  svm__C=0.1, svm__degree=3, svm__gamma=scale, svm__kernel=poly, accuracy=(train=0.901, test=0.856), f1=(train=0.921, test=0.883), precision=(train=0.893, test=0.860), recall=(train=0.950, test=0.907), roc_auc=(train=0.975, test=0.927), total=   0.0s\n",
      "[CV] svm__C=0.1, svm__degree=3, svm__gamma=scale, svm__kernel=poly ...\n",
      "[CV]  svm__C=0.1, svm__degree=3, svm__gamma=scale, svm__kernel=poly, accuracy=(train=0.890, test=0.878), f1=(train=0.913, test=0.904), precision=(train=0.874, test=0.867), recall=(train=0.954, test=0.945), roc_auc=(train=0.969, test=0.963), total=   0.0s\n",
      "[CV] svm__C=0.1, svm__degree=3, svm__gamma=scale, svm__kernel=poly ...\n",
      "[CV]  svm__C=0.1, svm__degree=3, svm__gamma=scale, svm__kernel=poly, accuracy=(train=0.878, test=0.922), f1=(train=0.904, test=0.938), precision=(train=0.866, test=0.914), recall=(train=0.945, test=0.964), roc_auc=(train=0.964, test=0.976), total=   0.0s\n",
      "[CV] svm__C=1.0, svm__degree=3, svm__gamma=auto, svm__kernel=rbf .....\n",
      "[CV]  svm__C=1.0, svm__degree=3, svm__gamma=auto, svm__kernel=rbf, accuracy=(train=0.900, test=0.923), f1=(train=0.919, test=0.936), precision=(train=0.910, test=0.944), recall=(train=0.927, test=0.927), roc_auc=(train=0.950, test=0.973), total=   0.0s\n",
      "[CV] svm__C=1.0, svm__degree=3, svm__gamma=auto, svm__kernel=rbf .....\n",
      "[CV]  svm__C=1.0, svm__degree=3, svm__gamma=auto, svm__kernel=rbf, accuracy=(train=0.898, test=0.912), f1=(train=0.916, test=0.927), precision=(train=0.914, test=0.927), recall=(train=0.918, test=0.927), roc_auc=(train=0.946, test=0.980), total=   0.0s\n",
      "[CV] svm__C=1.0, svm__degree=3, svm__gamma=auto, svm__kernel=rbf .....\n",
      "[CV]  svm__C=1.0, svm__degree=3, svm__gamma=auto, svm__kernel=rbf, accuracy=(train=0.931, test=0.811), f1=(train=0.942, test=0.841), precision=(train=0.958, test=0.849), recall=(train=0.927, test=0.833), roc_auc=(train=0.968, test=0.898), total=   0.0s\n",
      "[CV] svm__C=1.0, svm__degree=3, svm__gamma=auto, svm__kernel=rbf .....\n",
      "[CV]  svm__C=1.0, svm__degree=3, svm__gamma=auto, svm__kernel=rbf, accuracy=(train=0.906, test=0.922), f1=(train=0.923, test=0.937), precision=(train=0.915, test=0.929), recall=(train=0.932, test=0.945), roc_auc=(train=0.962, test=0.917), total=   0.0s\n",
      "[CV] svm__C=1.0, svm__degree=3, svm__gamma=auto, svm__kernel=rbf .....\n",
      "[CV]  svm__C=1.0, svm__degree=3, svm__gamma=auto, svm__kernel=rbf, accuracy=(train=0.912, test=0.922), f1=(train=0.928, test=0.937), precision=(train=0.916, test=0.929), recall=(train=0.941, test=0.945), roc_auc=(train=0.952, test=0.975), total=   0.0s\n",
      "[CV] svm__C=1.0, svm__degree=3, svm__gamma=auto, svm__kernel=poly ....\n",
      "[CV]  svm__C=1.0, svm__degree=3, svm__gamma=auto, svm__kernel=poly, accuracy=(train=0.898, test=0.890), f1=(train=0.918, test=0.911), precision=(train=0.896, test=0.895), recall=(train=0.941, test=0.927), roc_auc=(train=0.962, test=0.974), total=   0.0s\n",
      "[CV] svm__C=1.0, svm__degree=3, svm__gamma=auto, svm__kernel=poly ....\n",
      "[CV]  svm__C=1.0, svm__degree=3, svm__gamma=auto, svm__kernel=poly, accuracy=(train=0.895, test=0.901), f1=(train=0.916, test=0.919), precision=(train=0.892, test=0.911), recall=(train=0.941, test=0.927), roc_auc=(train=0.964, test=0.978), total=   0.0s\n",
      "[CV] svm__C=1.0, svm__degree=3, svm__gamma=auto, svm__kernel=poly ....\n",
      "[CV]  svm__C=1.0, svm__degree=3, svm__gamma=auto, svm__kernel=poly, accuracy=(train=0.917, test=0.856), f1=(train=0.933, test=0.883), precision=(train=0.920, test=0.860), recall=(train=0.945, test=0.907), roc_auc=(train=0.975, test=0.928), total=   0.0s\n",
      "[CV] svm__C=1.0, svm__degree=3, svm__gamma=auto, svm__kernel=poly ....\n",
      "[CV]  svm__C=1.0, svm__degree=3, svm__gamma=auto, svm__kernel=poly, accuracy=(train=0.898, test=0.889), f1=(train=0.918, test=0.912), precision=(train=0.896, test=0.881), recall=(train=0.941, test=0.945), roc_auc=(train=0.967, test=0.966), total=   0.0s\n",
      "[CV] svm__C=1.0, svm__degree=3, svm__gamma=auto, svm__kernel=poly ....\n",
      "[CV]  svm__C=1.0, svm__degree=3, svm__gamma=auto, svm__kernel=poly, accuracy=(train=0.890, test=0.933), f1=(train=0.911, test=0.946), precision=(train=0.887, test=0.930), recall=(train=0.936, test=0.964), roc_auc=(train=0.963, test=0.972), total=   0.0s\n",
      "[CV] svm__C=1.0, svm__degree=3, svm__gamma=scale, svm__kernel=rbf ....\n",
      "[CV]  svm__C=1.0, svm__degree=3, svm__gamma=scale, svm__kernel=rbf, accuracy=(train=0.900, test=0.923), f1=(train=0.919, test=0.936), precision=(train=0.910, test=0.944), recall=(train=0.927, test=0.927), roc_auc=(train=0.950, test=0.973), total=   0.0s\n",
      "[CV] svm__C=1.0, svm__degree=3, svm__gamma=scale, svm__kernel=rbf ....\n",
      "[CV]  svm__C=1.0, svm__degree=3, svm__gamma=scale, svm__kernel=rbf, accuracy=(train=0.898, test=0.912), f1=(train=0.916, test=0.927), precision=(train=0.914, test=0.927), recall=(train=0.918, test=0.927), roc_auc=(train=0.946, test=0.980), total=   0.0s\n",
      "[CV] svm__C=1.0, svm__degree=3, svm__gamma=scale, svm__kernel=rbf ....\n",
      "[CV]  svm__C=1.0, svm__degree=3, svm__gamma=scale, svm__kernel=rbf, accuracy=(train=0.931, test=0.811), f1=(train=0.942, test=0.841), precision=(train=0.958, test=0.849), recall=(train=0.927, test=0.833), roc_auc=(train=0.968, test=0.898), total=   0.0s\n",
      "[CV] svm__C=1.0, svm__degree=3, svm__gamma=scale, svm__kernel=rbf ....\n",
      "[CV]  svm__C=1.0, svm__degree=3, svm__gamma=scale, svm__kernel=rbf, accuracy=(train=0.906, test=0.922), f1=(train=0.923, test=0.937), precision=(train=0.915, test=0.929), recall=(train=0.932, test=0.945), roc_auc=(train=0.962, test=0.917), total=   0.0s\n",
      "[CV] svm__C=1.0, svm__degree=3, svm__gamma=scale, svm__kernel=rbf ....\n",
      "[CV]  svm__C=1.0, svm__degree=3, svm__gamma=scale, svm__kernel=rbf, accuracy=(train=0.912, test=0.922), f1=(train=0.928, test=0.937), precision=(train=0.916, test=0.929), recall=(train=0.941, test=0.945), roc_auc=(train=0.952, test=0.975), total=   0.0s\n",
      "[CV] svm__C=1.0, svm__degree=3, svm__gamma=scale, svm__kernel=poly ...\n",
      "[CV]  svm__C=1.0, svm__degree=3, svm__gamma=scale, svm__kernel=poly, accuracy=(train=0.898, test=0.890), f1=(train=0.918, test=0.911), precision=(train=0.896, test=0.895), recall=(train=0.941, test=0.927), roc_auc=(train=0.962, test=0.974), total=   0.0s\n",
      "[CV] svm__C=1.0, svm__degree=3, svm__gamma=scale, svm__kernel=poly ...\n",
      "[CV]  svm__C=1.0, svm__degree=3, svm__gamma=scale, svm__kernel=poly, accuracy=(train=0.895, test=0.901), f1=(train=0.916, test=0.919), precision=(train=0.892, test=0.911), recall=(train=0.941, test=0.927), roc_auc=(train=0.964, test=0.978), total=   0.0s\n",
      "[CV] svm__C=1.0, svm__degree=3, svm__gamma=scale, svm__kernel=poly ...\n",
      "[CV]  svm__C=1.0, svm__degree=3, svm__gamma=scale, svm__kernel=poly, accuracy=(train=0.917, test=0.856), f1=(train=0.933, test=0.883), precision=(train=0.920, test=0.860), recall=(train=0.945, test=0.907), roc_auc=(train=0.975, test=0.928), total=   0.0s\n",
      "[CV] svm__C=1.0, svm__degree=3, svm__gamma=scale, svm__kernel=poly ...\n",
      "[CV]  svm__C=1.0, svm__degree=3, svm__gamma=scale, svm__kernel=poly, accuracy=(train=0.898, test=0.889), f1=(train=0.918, test=0.912), precision=(train=0.896, test=0.881), recall=(train=0.941, test=0.945), roc_auc=(train=0.967, test=0.966), total=   0.0s\n",
      "[CV] svm__C=1.0, svm__degree=3, svm__gamma=scale, svm__kernel=poly ...\n",
      "[CV]  svm__C=1.0, svm__degree=3, svm__gamma=scale, svm__kernel=poly, accuracy=(train=0.890, test=0.933), f1=(train=0.911, test=0.946), precision=(train=0.887, test=0.930), recall=(train=0.936, test=0.964), roc_auc=(train=0.963, test=0.972), total=   0.0s\n",
      "[CV] svm__C=100.0, svm__degree=3, svm__gamma=auto, svm__kernel=rbf ...\n",
      "[CV]  svm__C=100.0, svm__degree=3, svm__gamma=auto, svm__kernel=rbf, accuracy=(train=0.925, test=0.934), f1=(train=0.938, test=0.944), precision=(train=0.940, test=0.962), recall=(train=0.936, test=0.927), roc_auc=(train=0.967, test=0.958), total=   0.0s\n",
      "[CV] svm__C=100.0, svm__degree=3, svm__gamma=auto, svm__kernel=rbf ...\n",
      "[CV]  svm__C=100.0, svm__degree=3, svm__gamma=auto, svm__kernel=rbf, accuracy=(train=0.906, test=0.912), f1=(train=0.923, test=0.927), precision=(train=0.911, test=0.927), recall=(train=0.936, test=0.927), roc_auc=(train=0.968, test=0.977), total=   0.0s\n",
      "[CV] svm__C=100.0, svm__degree=3, svm__gamma=auto, svm__kernel=rbf ...\n",
      "[CV]  svm__C=100.0, svm__degree=3, svm__gamma=auto, svm__kernel=rbf, accuracy=(train=0.931, test=0.833), f1=(train=0.942, test=0.862), precision=(train=0.962, test=0.855), recall=(train=0.923, test=0.870), roc_auc=(train=0.976, test=0.899), total=   0.0s\n",
      "[CV] svm__C=100.0, svm__degree=3, svm__gamma=auto, svm__kernel=rbf ...\n",
      "[CV]  svm__C=100.0, svm__degree=3, svm__gamma=auto, svm__kernel=rbf, accuracy=(train=0.934, test=0.911), f1=(train=0.944, test=0.927), precision=(train=0.958, test=0.927), recall=(train=0.932, test=0.927), roc_auc=(train=0.972, test=0.939), total=   0.0s\n",
      "[CV] svm__C=100.0, svm__degree=3, svm__gamma=auto, svm__kernel=rbf ...\n",
      "[CV]  svm__C=100.0, svm__degree=3, svm__gamma=auto, svm__kernel=rbf, accuracy=(train=0.936, test=0.922), f1=(train=0.947, test=0.937), precision=(train=0.958, test=0.929), recall=(train=0.936, test=0.945), roc_auc=(train=0.968, test=0.977), total=   0.0s\n",
      "[CV] svm__C=100.0, svm__degree=3, svm__gamma=auto, svm__kernel=poly ..\n",
      "[CV]  svm__C=100.0, svm__degree=3, svm__gamma=auto, svm__kernel=poly, accuracy=(train=0.895, test=0.901), f1=(train=0.915, test=0.919), precision=(train=0.899, test=0.911), recall=(train=0.932, test=0.927), roc_auc=(train=0.962, test=0.972), total=   0.0s\n",
      "[CV] svm__C=100.0, svm__degree=3, svm__gamma=auto, svm__kernel=poly ..\n",
      "[CV]  svm__C=100.0, svm__degree=3, svm__gamma=auto, svm__kernel=poly, accuracy=(train=0.903, test=0.901), f1=(train=0.921, test=0.919), precision=(train=0.907, test=0.911), recall=(train=0.936, test=0.927), roc_auc=(train=0.965, test=0.978), total=   0.0s\n",
      "[CV] svm__C=100.0, svm__degree=3, svm__gamma=auto, svm__kernel=poly ..\n",
      "[CV]  svm__C=100.0, svm__degree=3, svm__gamma=auto, svm__kernel=poly, accuracy=(train=0.923, test=0.844), f1=(train=0.937, test=0.873), precision=(train=0.932, test=0.857), recall=(train=0.941, test=0.889), roc_auc=(train=0.976, test=0.920), total=   0.0s\n",
      "[CV] svm__C=100.0, svm__degree=3, svm__gamma=auto, svm__kernel=poly ..\n",
      "[CV]  svm__C=100.0, svm__degree=3, svm__gamma=auto, svm__kernel=poly, accuracy=(train=0.898, test=0.889), f1=(train=0.918, test=0.912), precision=(train=0.896, test=0.881), recall=(train=0.941, test=0.945), roc_auc=(train=0.967, test=0.964), total=   0.0s\n",
      "[CV] svm__C=100.0, svm__degree=3, svm__gamma=auto, svm__kernel=poly ..\n",
      "[CV]  svm__C=100.0, svm__degree=3, svm__gamma=auto, svm__kernel=poly, accuracy=(train=0.895, test=0.933), f1=(train=0.915, test=0.946), precision=(train=0.895, test=0.930), recall=(train=0.936, test=0.964), roc_auc=(train=0.965, test=0.974), total=   0.0s\n",
      "[CV] svm__C=100.0, svm__degree=3, svm__gamma=scale, svm__kernel=rbf ..\n",
      "[CV]  svm__C=100.0, svm__degree=3, svm__gamma=scale, svm__kernel=rbf, accuracy=(train=0.925, test=0.934), f1=(train=0.938, test=0.944), precision=(train=0.940, test=0.962), recall=(train=0.936, test=0.927), roc_auc=(train=0.967, test=0.958), total=   0.0s\n",
      "[CV] svm__C=100.0, svm__degree=3, svm__gamma=scale, svm__kernel=rbf ..\n",
      "[CV]  svm__C=100.0, svm__degree=3, svm__gamma=scale, svm__kernel=rbf, accuracy=(train=0.906, test=0.912), f1=(train=0.923, test=0.927), precision=(train=0.911, test=0.927), recall=(train=0.936, test=0.927), roc_auc=(train=0.968, test=0.977), total=   0.0s\n",
      "[CV] svm__C=100.0, svm__degree=3, svm__gamma=scale, svm__kernel=rbf ..\n",
      "[CV]  svm__C=100.0, svm__degree=3, svm__gamma=scale, svm__kernel=rbf, accuracy=(train=0.931, test=0.833), f1=(train=0.942, test=0.862), precision=(train=0.962, test=0.855), recall=(train=0.923, test=0.870), roc_auc=(train=0.976, test=0.899), total=   0.0s\n",
      "[CV] svm__C=100.0, svm__degree=3, svm__gamma=scale, svm__kernel=rbf ..\n",
      "[CV]  svm__C=100.0, svm__degree=3, svm__gamma=scale, svm__kernel=rbf, accuracy=(train=0.934, test=0.911), f1=(train=0.944, test=0.927), precision=(train=0.958, test=0.927), recall=(train=0.932, test=0.927), roc_auc=(train=0.972, test=0.939), total=   0.0s\n",
      "[CV] svm__C=100.0, svm__degree=3, svm__gamma=scale, svm__kernel=rbf ..\n",
      "[CV]  svm__C=100.0, svm__degree=3, svm__gamma=scale, svm__kernel=rbf, accuracy=(train=0.936, test=0.922), f1=(train=0.947, test=0.937), precision=(train=0.958, test=0.929), recall=(train=0.936, test=0.945), roc_auc=(train=0.968, test=0.977), total=   0.0s\n",
      "[CV] svm__C=100.0, svm__degree=3, svm__gamma=scale, svm__kernel=poly .\n",
      "[CV]  svm__C=100.0, svm__degree=3, svm__gamma=scale, svm__kernel=poly, accuracy=(train=0.895, test=0.901), f1=(train=0.915, test=0.919), precision=(train=0.899, test=0.911), recall=(train=0.932, test=0.927), roc_auc=(train=0.962, test=0.972), total=   0.0s\n",
      "[CV] svm__C=100.0, svm__degree=3, svm__gamma=scale, svm__kernel=poly .\n",
      "[CV]  svm__C=100.0, svm__degree=3, svm__gamma=scale, svm__kernel=poly, accuracy=(train=0.903, test=0.901), f1=(train=0.921, test=0.919), precision=(train=0.907, test=0.911), recall=(train=0.936, test=0.927), roc_auc=(train=0.965, test=0.978), total=   0.0s\n",
      "[CV] svm__C=100.0, svm__degree=3, svm__gamma=scale, svm__kernel=poly .\n",
      "[CV]  svm__C=100.0, svm__degree=3, svm__gamma=scale, svm__kernel=poly, accuracy=(train=0.923, test=0.844), f1=(train=0.937, test=0.873), precision=(train=0.932, test=0.857), recall=(train=0.941, test=0.889), roc_auc=(train=0.976, test=0.920), total=   0.0s\n",
      "[CV] svm__C=100.0, svm__degree=3, svm__gamma=scale, svm__kernel=poly .\n",
      "[CV]  svm__C=100.0, svm__degree=3, svm__gamma=scale, svm__kernel=poly, accuracy=(train=0.898, test=0.889), f1=(train=0.918, test=0.912), precision=(train=0.896, test=0.881), recall=(train=0.941, test=0.945), roc_auc=(train=0.967, test=0.964), total=   0.1s\n",
      "[CV] svm__C=100.0, svm__degree=3, svm__gamma=scale, svm__kernel=poly .\n",
      "[CV]  svm__C=100.0, svm__degree=3, svm__gamma=scale, svm__kernel=poly, accuracy=(train=0.895, test=0.933), f1=(train=0.915, test=0.946), precision=(train=0.895, test=0.930), recall=(train=0.936, test=0.964), roc_auc=(train=0.965, test=0.974), total=   0.0s\n",
      "[CV] svm__C=1000.0, svm__degree=3, svm__gamma=auto, svm__kernel=rbf ..\n",
      "[CV]  svm__C=1000.0, svm__degree=3, svm__gamma=auto, svm__kernel=rbf, accuracy=(train=0.931, test=0.901), f1=(train=0.944, test=0.919), precision=(train=0.933, test=0.911), recall=(train=0.954, test=0.927), roc_auc=(train=0.974, test=0.967), total=   0.1s\n",
      "[CV] svm__C=1000.0, svm__degree=3, svm__gamma=auto, svm__kernel=rbf ..\n",
      "[CV]  svm__C=1000.0, svm__degree=3, svm__gamma=auto, svm__kernel=rbf, accuracy=(train=0.928, test=0.945), f1=(train=0.939, test=0.953), precision=(train=0.962, test=0.981), recall=(train=0.918, test=0.927), roc_auc=(train=0.970, test=0.983), total=   0.1s\n",
      "[CV] svm__C=1000.0, svm__degree=3, svm__gamma=auto, svm__kernel=rbf ..\n",
      "[CV]  svm__C=1000.0, svm__degree=3, svm__gamma=auto, svm__kernel=rbf, accuracy=(train=0.942, test=0.822), f1=(train=0.952, test=0.855), precision=(train=0.959, test=0.839), recall=(train=0.945, test=0.870), roc_auc=(train=0.980, test=0.919), total=   0.1s\n",
      "[CV] svm__C=1000.0, svm__degree=3, svm__gamma=auto, svm__kernel=rbf ..\n",
      "[CV]  svm__C=1000.0, svm__degree=3, svm__gamma=auto, svm__kernel=rbf, accuracy=(train=0.936, test=0.889), f1=(train=0.945, test=0.911), precision=(train=0.985, test=0.895), recall=(train=0.909, test=0.927), roc_auc=(train=0.975, test=0.941), total=   0.1s\n",
      "[CV] svm__C=1000.0, svm__degree=3, svm__gamma=auto, svm__kernel=rbf ..\n",
      "[CV]  svm__C=1000.0, svm__degree=3, svm__gamma=auto, svm__kernel=rbf, accuracy=(train=0.934, test=0.911), f1=(train=0.945, test=0.927), precision=(train=0.949, test=0.927), recall=(train=0.941, test=0.927), roc_auc=(train=0.971, test=0.961), total=   0.1s\n",
      "[CV] svm__C=1000.0, svm__degree=3, svm__gamma=auto, svm__kernel=poly .\n",
      "[CV]  svm__C=1000.0, svm__degree=3, svm__gamma=auto, svm__kernel=poly, accuracy=(train=0.895, test=0.901), f1=(train=0.915, test=0.919), precision=(train=0.899, test=0.911), recall=(train=0.932, test=0.927), roc_auc=(train=0.962, test=0.972), total=   0.2s\n",
      "[CV] svm__C=1000.0, svm__degree=3, svm__gamma=auto, svm__kernel=poly .\n",
      "[CV]  svm__C=1000.0, svm__degree=3, svm__gamma=auto, svm__kernel=poly, accuracy=(train=0.900, test=0.901), f1=(train=0.919, test=0.919), precision=(train=0.907, test=0.911), recall=(train=0.932, test=0.927), roc_auc=(train=0.965, test=0.978), total=   0.2s\n",
      "[CV] svm__C=1000.0, svm__degree=3, svm__gamma=auto, svm__kernel=poly .\n",
      "[CV]  svm__C=1000.0, svm__degree=3, svm__gamma=auto, svm__kernel=poly, accuracy=(train=0.923, test=0.844), f1=(train=0.937, test=0.873), precision=(train=0.932, test=0.857), recall=(train=0.941, test=0.889), roc_auc=(train=0.976, test=0.920), total=   0.2s\n",
      "[CV] svm__C=1000.0, svm__degree=3, svm__gamma=auto, svm__kernel=poly .\n",
      "[CV]  svm__C=1000.0, svm__degree=3, svm__gamma=auto, svm__kernel=poly, accuracy=(train=0.898, test=0.889), f1=(train=0.918, test=0.912), precision=(train=0.896, test=0.881), recall=(train=0.941, test=0.945), roc_auc=(train=0.967, test=0.964), total=   0.4s\n",
      "[CV] svm__C=1000.0, svm__degree=3, svm__gamma=auto, svm__kernel=poly .\n",
      "[CV]  svm__C=1000.0, svm__degree=3, svm__gamma=auto, svm__kernel=poly, accuracy=(train=0.895, test=0.933), f1=(train=0.915, test=0.946), precision=(train=0.895, test=0.930), recall=(train=0.936, test=0.964), roc_auc=(train=0.965, test=0.974), total=   0.2s\n",
      "[CV] svm__C=1000.0, svm__degree=3, svm__gamma=scale, svm__kernel=rbf .\n",
      "[CV]  svm__C=1000.0, svm__degree=3, svm__gamma=scale, svm__kernel=rbf, accuracy=(train=0.931, test=0.901), f1=(train=0.944, test=0.919), precision=(train=0.933, test=0.911), recall=(train=0.954, test=0.927), roc_auc=(train=0.974, test=0.967), total=   0.1s\n",
      "[CV] svm__C=1000.0, svm__degree=3, svm__gamma=scale, svm__kernel=rbf .\n",
      "[CV]  svm__C=1000.0, svm__degree=3, svm__gamma=scale, svm__kernel=rbf, accuracy=(train=0.928, test=0.945), f1=(train=0.939, test=0.953), precision=(train=0.962, test=0.981), recall=(train=0.918, test=0.927), roc_auc=(train=0.970, test=0.983), total=   0.1s\n",
      "[CV] svm__C=1000.0, svm__degree=3, svm__gamma=scale, svm__kernel=rbf .\n",
      "[CV]  svm__C=1000.0, svm__degree=3, svm__gamma=scale, svm__kernel=rbf, accuracy=(train=0.942, test=0.822), f1=(train=0.952, test=0.855), precision=(train=0.959, test=0.839), recall=(train=0.945, test=0.870), roc_auc=(train=0.980, test=0.919), total=   0.1s\n",
      "[CV] svm__C=1000.0, svm__degree=3, svm__gamma=scale, svm__kernel=rbf .\n",
      "[CV]  svm__C=1000.0, svm__degree=3, svm__gamma=scale, svm__kernel=rbf, accuracy=(train=0.936, test=0.889), f1=(train=0.945, test=0.911), precision=(train=0.985, test=0.895), recall=(train=0.909, test=0.927), roc_auc=(train=0.975, test=0.941), total=   0.1s\n",
      "[CV] svm__C=1000.0, svm__degree=3, svm__gamma=scale, svm__kernel=rbf .\n",
      "[CV]  svm__C=1000.0, svm__degree=3, svm__gamma=scale, svm__kernel=rbf, accuracy=(train=0.934, test=0.911), f1=(train=0.945, test=0.927), precision=(train=0.949, test=0.927), recall=(train=0.941, test=0.927), roc_auc=(train=0.971, test=0.961), total=   0.1s\n",
      "[CV] svm__C=1000.0, svm__degree=3, svm__gamma=scale, svm__kernel=poly \n",
      "[CV]  svm__C=1000.0, svm__degree=3, svm__gamma=scale, svm__kernel=poly, accuracy=(train=0.895, test=0.901), f1=(train=0.915, test=0.919), precision=(train=0.899, test=0.911), recall=(train=0.932, test=0.927), roc_auc=(train=0.962, test=0.972), total=   0.2s\n",
      "[CV] svm__C=1000.0, svm__degree=3, svm__gamma=scale, svm__kernel=poly \n",
      "[CV]  svm__C=1000.0, svm__degree=3, svm__gamma=scale, svm__kernel=poly, accuracy=(train=0.900, test=0.901), f1=(train=0.919, test=0.919), precision=(train=0.907, test=0.911), recall=(train=0.932, test=0.927), roc_auc=(train=0.965, test=0.978), total=   0.2s\n",
      "[CV] svm__C=1000.0, svm__degree=3, svm__gamma=scale, svm__kernel=poly \n",
      "[CV]  svm__C=1000.0, svm__degree=3, svm__gamma=scale, svm__kernel=poly, accuracy=(train=0.923, test=0.844), f1=(train=0.937, test=0.873), precision=(train=0.932, test=0.857), recall=(train=0.941, test=0.889), roc_auc=(train=0.976, test=0.920), total=   0.1s\n",
      "[CV] svm__C=1000.0, svm__degree=3, svm__gamma=scale, svm__kernel=poly \n",
      "[CV]  svm__C=1000.0, svm__degree=3, svm__gamma=scale, svm__kernel=poly, accuracy=(train=0.898, test=0.889), f1=(train=0.918, test=0.912), precision=(train=0.896, test=0.881), recall=(train=0.941, test=0.945), roc_auc=(train=0.967, test=0.964), total=   0.3s\n",
      "[CV] svm__C=1000.0, svm__degree=3, svm__gamma=scale, svm__kernel=poly \n",
      "[CV]  svm__C=1000.0, svm__degree=3, svm__gamma=scale, svm__kernel=poly, accuracy=(train=0.895, test=0.933), f1=(train=0.915, test=0.946), precision=(train=0.895, test=0.930), recall=(train=0.936, test=0.964), roc_auc=(train=0.965, test=0.974), total=   0.2s\n"
     ]
    },
    {
     "name": "stderr",
     "output_type": "stream",
     "text": [
      "[Parallel(n_jobs=1)]: Done  80 out of  80 | elapsed:    5.2s finished\n"
     ]
    },
    {
     "data": {
      "text/plain": [
       "GridSearchCV(cv=StratifiedKFold(n_splits=5, random_state=10, shuffle=True),\n",
       "             estimator=Pipeline(steps=[('scale', StandardScaler()),\n",
       "                                       ('svm', SVC(probability=True))]),\n",
       "             param_grid={'svm__C': array([1.e-01, 1.e+00, 1.e+02, 1.e+03]),\n",
       "                         'svm__degree': [3], 'svm__gamma': ['auto', 'scale'],\n",
       "                         'svm__kernel': ['rbf', 'poly']},\n",
       "             refit='roc_auc', return_train_score=True,\n",
       "             scoring=['accuracy', 'f1', 'precision', 'recall', 'roc_auc'],\n",
       "             verbose=3)"
      ]
     },
     "execution_count": 22,
     "metadata": {},
     "output_type": "execute_result"
    }
   ],
   "source": [
    "#nonlinear with dimensionality reduced\n",
    "svm_nonlin.fit(X_train_pca,np.ravel(encoded_y_train))"
   ]
  },
  {
   "cell_type": "code",
   "execution_count": 23,
   "metadata": {},
   "outputs": [
    {
     "name": "stdout",
     "output_type": "stream",
     "text": [
      "Train loss is 0.24\n",
      "Test loss is 0.32\n",
      "Test Sensitivity is 0.88 \n",
      "Test Specificity is 0.80 \n",
      "Test PPV is 0.87 \n",
      "Test NPV is 0.81 \n",
      "Test Accuracy is 0.85 \n",
      "Test F1 is 0.88 \n",
      "Test AUROC is 0.94\n",
      "Train Sensitivity is 0.94 \n",
      "Train Specificity is 0.83 \n",
      "Train PPV is 0.90 \n",
      "Train NPV is 0.90 \n",
      "Train Accuracy is 0.90 \n",
      "Train F1 is 0.92 \n",
      "Train AUROC is 0.97\n"
     ]
    }
   ],
   "source": [
    "calc_evalmetrics(X_test_pca,X_train_pca,encoded_y_test,encoded_y_train,svm_nonlin)"
   ]
  },
  {
   "cell_type": "code",
   "execution_count": 24,
   "metadata": {},
   "outputs": [
    {
     "name": "stdout",
     "output_type": "stream",
     "text": [
      "Fitting 5 folds for each of 12 candidates, totalling 60 fits\n",
      "[CV] logistic__C=100.0, logistic__penalty=l1 .........................\n",
      "[CV]  logistic__C=100.0, logistic__penalty=l1, accuracy=(train=0.875, test=0.868), f1=(train=0.894, test=0.885), precision=(train=0.926, test=0.939), recall=(train=0.863, test=0.836), roc_auc=(train=0.912, test=0.892), total=   0.0s\n",
      "[CV] logistic__C=100.0, logistic__penalty=l1 .........................\n",
      "[CV]  logistic__C=100.0, logistic__penalty=l1, accuracy=(train=0.870, test=0.890), f1=(train=0.889, test=0.902), precision=(train=0.917, test=0.979), recall=(train=0.863, test=0.836), roc_auc=(train=0.908, test=0.912), total=   0.0s\n",
      "[CV] logistic__C=100.0, logistic__penalty=l1 .........................\n",
      "[CV]  logistic__C=100.0, logistic__penalty=l1, accuracy=(train=0.878, test=0.856), f1=(train=0.897, test=0.871), precision=(train=0.927, test=0.936), recall=(train=0.868, test=0.815), roc_auc=(train=0.916, test=0.880), total=   0.0s"
     ]
    },
    {
     "name": "stderr",
     "output_type": "stream",
     "text": [
      "[Parallel(n_jobs=1)]: Using backend SequentialBackend with 1 concurrent workers.\n",
      "[Parallel(n_jobs=1)]: Done   1 out of   1 | elapsed:    0.0s remaining:    0.0s\n",
      "[Parallel(n_jobs=1)]: Done   2 out of   2 | elapsed:    0.0s remaining:    0.0s\n"
     ]
    },
    {
     "name": "stdout",
     "output_type": "stream",
     "text": [
      "\n",
      "[CV] logistic__C=100.0, logistic__penalty=l1 .........................\n",
      "[CV]  logistic__C=100.0, logistic__penalty=l1, accuracy=(train=0.865, test=0.911), f1=(train=0.883, test=0.926), precision=(train=0.925, test=0.943), recall=(train=0.845, test=0.909), roc_auc=(train=0.901, test=0.938), total=   0.0s\n",
      "[CV] logistic__C=100.0, logistic__penalty=l1 .........................\n",
      "[CV]  logistic__C=100.0, logistic__penalty=l1, accuracy=(train=0.881, test=0.844), f1=(train=0.896, test=0.875), precision=(train=0.949, test=0.860), recall=(train=0.849, test=0.891), roc_auc=(train=0.911, test=0.900), total=   0.0s\n",
      "[CV] logistic__C=100.0, logistic__penalty=l2 .........................\n",
      "[CV]  logistic__C=100.0, logistic__penalty=l2, accuracy=(train=0.875, test=0.868), f1=(train=0.894, test=0.885), precision=(train=0.926, test=0.939), recall=(train=0.863, test=0.836), roc_auc=(train=0.912, test=0.892), total=   0.0s\n",
      "[CV] logistic__C=100.0, logistic__penalty=l2 .........................\n",
      "[CV]  logistic__C=100.0, logistic__penalty=l2, accuracy=(train=0.870, test=0.890), f1=(train=0.889, test=0.902), precision=(train=0.917, test=0.979), recall=(train=0.863, test=0.836), roc_auc=(train=0.908, test=0.912), total=   0.0s\n",
      "[CV] logistic__C=100.0, logistic__penalty=l2 .........................\n",
      "[CV]  logistic__C=100.0, logistic__penalty=l2, accuracy=(train=0.878, test=0.856), f1=(train=0.897, test=0.871), precision=(train=0.927, test=0.936), recall=(train=0.868, test=0.815), roc_auc=(train=0.916, test=0.880), total=   0.0s\n",
      "[CV] logistic__C=100.0, logistic__penalty=l2 .........................\n",
      "[CV]  logistic__C=100.0, logistic__penalty=l2, accuracy=(train=0.865, test=0.911), f1=(train=0.883, test=0.926), precision=(train=0.925, test=0.943), recall=(train=0.845, test=0.909), roc_auc=(train=0.901, test=0.938), total=   0.0s\n",
      "[CV] logistic__C=100.0, logistic__penalty=l2 .........................\n",
      "[CV]  logistic__C=100.0, logistic__penalty=l2, accuracy=(train=0.881, test=0.844), f1=(train=0.896, test=0.875), precision=(train=0.949, test=0.860), recall=(train=0.849, test=0.891), roc_auc=(train=0.911, test=0.900), total=   0.0s\n",
      "[CV] logistic__C=100.0, logistic__penalty=l1 .........................\n",
      "[CV]  logistic__C=100.0, logistic__penalty=l1, accuracy=(train=0.875, test=0.868), f1=(train=0.894, test=0.885), precision=(train=0.926, test=0.939), recall=(train=0.863, test=0.836), roc_auc=(train=0.912, test=0.892), total=   0.0s\n",
      "[CV] logistic__C=100.0, logistic__penalty=l1 .........................\n",
      "[CV]  logistic__C=100.0, logistic__penalty=l1, accuracy=(train=0.870, test=0.890), f1=(train=0.889, test=0.902), precision=(train=0.917, test=0.979), recall=(train=0.863, test=0.836), roc_auc=(train=0.908, test=0.912), total=   0.0s\n",
      "[CV] logistic__C=100.0, logistic__penalty=l1 .........................\n",
      "[CV]  logistic__C=100.0, logistic__penalty=l1, accuracy=(train=0.878, test=0.856), f1=(train=0.897, test=0.871), precision=(train=0.927, test=0.936), recall=(train=0.868, test=0.815), roc_auc=(train=0.916, test=0.880), total=   0.0s\n",
      "[CV] logistic__C=100.0, logistic__penalty=l1 .........................\n",
      "[CV]  logistic__C=100.0, logistic__penalty=l1, accuracy=(train=0.865, test=0.911), f1=(train=0.883, test=0.926), precision=(train=0.925, test=0.943), recall=(train=0.845, test=0.909), roc_auc=(train=0.901, test=0.938), total=   0.0s\n",
      "[CV] logistic__C=100.0, logistic__penalty=l1 .........................\n",
      "[CV]  logistic__C=100.0, logistic__penalty=l1, accuracy=(train=0.881, test=0.844), f1=(train=0.896, test=0.875), precision=(train=0.949, test=0.860), recall=(train=0.849, test=0.891), roc_auc=(train=0.911, test=0.900), total=   0.0s\n",
      "[CV] logistic__C=100.0, logistic__penalty=l2 .........................\n",
      "[CV]  logistic__C=100.0, logistic__penalty=l2, accuracy=(train=0.875, test=0.868), f1=(train=0.894, test=0.885), precision=(train=0.926, test=0.939), recall=(train=0.863, test=0.836), roc_auc=(train=0.912, test=0.892), total=   0.0s\n",
      "[CV] logistic__C=100.0, logistic__penalty=l2 .........................\n",
      "[CV]  logistic__C=100.0, logistic__penalty=l2, accuracy=(train=0.870, test=0.890), f1=(train=0.889, test=0.902), precision=(train=0.917, test=0.979), recall=(train=0.863, test=0.836), roc_auc=(train=0.908, test=0.912), total=   0.0s\n",
      "[CV] logistic__C=100.0, logistic__penalty=l2 .........................\n",
      "[CV]  logistic__C=100.0, logistic__penalty=l2, accuracy=(train=0.878, test=0.856), f1=(train=0.897, test=0.871), precision=(train=0.927, test=0.936), recall=(train=0.868, test=0.815), roc_auc=(train=0.916, test=0.880), total=   0.0s\n",
      "[CV] logistic__C=100.0, logistic__penalty=l2 .........................\n",
      "[CV]  logistic__C=100.0, logistic__penalty=l2, accuracy=(train=0.865, test=0.911), f1=(train=0.883, test=0.926), precision=(train=0.925, test=0.943), recall=(train=0.845, test=0.909), roc_auc=(train=0.901, test=0.938), total=   0.0s\n",
      "[CV] logistic__C=100.0, logistic__penalty=l2 .........................\n",
      "[CV]  logistic__C=100.0, logistic__penalty=l2, accuracy=(train=0.881, test=0.844), f1=(train=0.896, test=0.875), precision=(train=0.949, test=0.860), recall=(train=0.849, test=0.891), roc_auc=(train=0.911, test=0.900), total=   0.0s\n",
      "[CV] logistic__C=1.0, logistic__penalty=l1 ...........................\n",
      "[CV]  logistic__C=1.0, logistic__penalty=l1, accuracy=(train=0.875, test=0.868), f1=(train=0.894, test=0.885), precision=(train=0.926, test=0.939), recall=(train=0.863, test=0.836), roc_auc=(train=0.912, test=0.892), total=   0.0s\n",
      "[CV] logistic__C=1.0, logistic__penalty=l1 ...........................\n",
      "[CV]  logistic__C=1.0, logistic__penalty=l1, accuracy=(train=0.870, test=0.890), f1=(train=0.889, test=0.902), precision=(train=0.917, test=0.979), recall=(train=0.863, test=0.836), roc_auc=(train=0.908, test=0.912), total=   0.0s\n",
      "[CV] logistic__C=1.0, logistic__penalty=l1 ...........................\n",
      "[CV]  logistic__C=1.0, logistic__penalty=l1, accuracy=(train=0.878, test=0.856), f1=(train=0.897, test=0.871), precision=(train=0.927, test=0.936), recall=(train=0.868, test=0.815), roc_auc=(train=0.916, test=0.880), total=   0.0s\n",
      "[CV] logistic__C=1.0, logistic__penalty=l1 ...........................\n",
      "[CV]  logistic__C=1.0, logistic__penalty=l1, accuracy=(train=0.865, test=0.911), f1=(train=0.883, test=0.926), precision=(train=0.925, test=0.943), recall=(train=0.845, test=0.909), roc_auc=(train=0.901, test=0.938), total=   0.0s\n",
      "[CV] logistic__C=1.0, logistic__penalty=l1 ...........................\n",
      "[CV]  logistic__C=1.0, logistic__penalty=l1, accuracy=(train=0.881, test=0.844), f1=(train=0.896, test=0.875), precision=(train=0.949, test=0.860), recall=(train=0.849, test=0.891), roc_auc=(train=0.911, test=0.900), total=   0.0s\n",
      "[CV] logistic__C=1.0, logistic__penalty=l2 ...........................\n",
      "[CV]  logistic__C=1.0, logistic__penalty=l2, accuracy=(train=0.875, test=0.868), f1=(train=0.894, test=0.885), precision=(train=0.926, test=0.939), recall=(train=0.863, test=0.836), roc_auc=(train=0.912, test=0.892), total=   0.0s\n",
      "[CV] logistic__C=1.0, logistic__penalty=l2 ...........................\n",
      "[CV]  logistic__C=1.0, logistic__penalty=l2, accuracy=(train=0.870, test=0.890), f1=(train=0.889, test=0.902), precision=(train=0.917, test=0.979), recall=(train=0.863, test=0.836), roc_auc=(train=0.908, test=0.912), total=   0.0s\n",
      "[CV] logistic__C=1.0, logistic__penalty=l2 ...........................\n",
      "[CV]  logistic__C=1.0, logistic__penalty=l2, accuracy=(train=0.878, test=0.856), f1=(train=0.897, test=0.871), precision=(train=0.927, test=0.936), recall=(train=0.868, test=0.815), roc_auc=(train=0.916, test=0.880), total=   0.0s\n",
      "[CV] logistic__C=1.0, logistic__penalty=l2 ...........................\n",
      "[CV]  logistic__C=1.0, logistic__penalty=l2, accuracy=(train=0.865, test=0.911), f1=(train=0.883, test=0.926), precision=(train=0.925, test=0.943), recall=(train=0.845, test=0.909), roc_auc=(train=0.901, test=0.938), total=   0.0s\n",
      "[CV] logistic__C=1.0, logistic__penalty=l2 ...........................\n",
      "[CV]  logistic__C=1.0, logistic__penalty=l2, accuracy=(train=0.881, test=0.844), f1=(train=0.896, test=0.875), precision=(train=0.949, test=0.860), recall=(train=0.849, test=0.891), roc_auc=(train=0.911, test=0.900), total=   0.0s\n",
      "[CV] logistic__C=0.1, logistic__penalty=l1 ...........................\n",
      "[CV]  logistic__C=0.1, logistic__penalty=l1, accuracy=(train=0.875, test=0.868), f1=(train=0.894, test=0.885), precision=(train=0.926, test=0.939), recall=(train=0.863, test=0.836), roc_auc=(train=0.912, test=0.892), total=   0.0s\n",
      "[CV] logistic__C=0.1, logistic__penalty=l1 ...........................\n",
      "[CV]  logistic__C=0.1, logistic__penalty=l1, accuracy=(train=0.870, test=0.890), f1=(train=0.889, test=0.902), precision=(train=0.917, test=0.979), recall=(train=0.863, test=0.836), roc_auc=(train=0.908, test=0.912), total=   0.0s\n",
      "[CV] logistic__C=0.1, logistic__penalty=l1 ...........................\n",
      "[CV]  logistic__C=0.1, logistic__penalty=l1, accuracy=(train=0.878, test=0.856), f1=(train=0.897, test=0.871), precision=(train=0.927, test=0.936), recall=(train=0.868, test=0.815), roc_auc=(train=0.916, test=0.880), total=   0.0s\n",
      "[CV] logistic__C=0.1, logistic__penalty=l1 ...........................\n",
      "[CV]  logistic__C=0.1, logistic__penalty=l1, accuracy=(train=0.865, test=0.911), f1=(train=0.883, test=0.926), precision=(train=0.925, test=0.943), recall=(train=0.845, test=0.909), roc_auc=(train=0.900, test=0.943), total=   0.0s\n",
      "[CV] logistic__C=0.1, logistic__penalty=l1 ...........................\n",
      "[CV]  logistic__C=0.1, logistic__penalty=l1, accuracy=(train=0.881, test=0.844), f1=(train=0.896, test=0.875), precision=(train=0.949, test=0.860), recall=(train=0.849, test=0.891), roc_auc=(train=0.911, test=0.900), total=   0.0s\n",
      "[CV] logistic__C=0.1, logistic__penalty=l2 ...........................\n",
      "[CV]  logistic__C=0.1, logistic__penalty=l2, accuracy=(train=0.875, test=0.868), f1=(train=0.894, test=0.885), precision=(train=0.926, test=0.939), recall=(train=0.863, test=0.836), roc_auc=(train=0.912, test=0.892), total=   0.0s\n",
      "[CV] logistic__C=0.1, logistic__penalty=l2 ...........................\n",
      "[CV]  logistic__C=0.1, logistic__penalty=l2, accuracy=(train=0.870, test=0.890), f1=(train=0.889, test=0.902), precision=(train=0.917, test=0.979), recall=(train=0.863, test=0.836), roc_auc=(train=0.908, test=0.912), total=   0.0s\n",
      "[CV] logistic__C=0.1, logistic__penalty=l2 ...........................\n",
      "[CV]  logistic__C=0.1, logistic__penalty=l2, accuracy=(train=0.878, test=0.856), f1=(train=0.897, test=0.871), precision=(train=0.927, test=0.936), recall=(train=0.868, test=0.815), roc_auc=(train=0.916, test=0.880), total=   0.0s\n",
      "[CV] logistic__C=0.1, logistic__penalty=l2 ...........................\n",
      "[CV]  logistic__C=0.1, logistic__penalty=l2, accuracy=(train=0.865, test=0.911), f1=(train=0.883, test=0.926), precision=(train=0.925, test=0.943), recall=(train=0.845, test=0.909), roc_auc=(train=0.901, test=0.938), total=   0.0s\n",
      "[CV] logistic__C=0.1, logistic__penalty=l2 ...........................\n",
      "[CV]  logistic__C=0.1, logistic__penalty=l2, accuracy=(train=0.881, test=0.844), f1=(train=0.896, test=0.875), precision=(train=0.949, test=0.860), recall=(train=0.849, test=0.891), roc_auc=(train=0.911, test=0.900), total=   0.0s\n",
      "[CV] logistic__C=0.01, logistic__penalty=l1 ..........................\n",
      "[CV]  logistic__C=0.01, logistic__penalty=l1, accuracy=(train=0.834, test=0.802), f1=(train=0.848, test=0.816), precision=(train=0.954, test=0.930), recall=(train=0.763, test=0.727), roc_auc=(train=0.912, test=0.892), total=   0.0s\n",
      "[CV] logistic__C=0.01, logistic__penalty=l1 ..........................\n",
      "[CV]  logistic__C=0.01, logistic__penalty=l1, accuracy=(train=0.828, test=0.824), f1=(train=0.843, test=0.833), precision=(train=0.944, test=0.976), recall=(train=0.763, test=0.727), roc_auc=(train=0.908, test=0.912), total=   0.0s\n",
      "[CV] logistic__C=0.01, logistic__penalty=l1 ..........................\n",
      "[CV]  logistic__C=0.01, logistic__penalty=l1, accuracy=(train=0.820, test=0.733), f1=(train=0.830, test=0.733), precision=(train=0.975, test=0.917), recall=(train=0.723, test=0.611), roc_auc=(train=0.916, test=0.880), total=   0.0s\n",
      "[CV] logistic__C=0.01, logistic__penalty=l1 ..........................\n",
      "[CV]  logistic__C=0.01, logistic__penalty=l1, accuracy=(train=0.818, test=0.867), f1=(train=0.832, test=0.880), precision=(train=0.942, test=0.978), recall=(train=0.744, test=0.800), roc_auc=(train=0.900, test=0.943), total=   0.0s\n",
      "[CV] logistic__C=0.01, logistic__penalty=l1 ..........................\n",
      "[CV]  logistic__C=0.01, logistic__penalty=l1, accuracy=(train=0.834, test=0.800), f1=(train=0.845, test=0.827), precision=(train=0.970, test=0.878), recall=(train=0.749, test=0.782), roc_auc=(train=0.857, test=0.805), total=   0.0s\n",
      "[CV] logistic__C=0.01, logistic__penalty=l2 ..........................\n",
      "[CV]  logistic__C=0.01, logistic__penalty=l2, accuracy=(train=0.875, test=0.868), f1=(train=0.894, test=0.885), precision=(train=0.926, test=0.939), recall=(train=0.863, test=0.836), roc_auc=(train=0.912, test=0.892), total=   0.0s\n",
      "[CV] logistic__C=0.01, logistic__penalty=l2 ..........................\n",
      "[CV]  logistic__C=0.01, logistic__penalty=l2, accuracy=(train=0.870, test=0.890), f1=(train=0.889, test=0.902), precision=(train=0.917, test=0.979), recall=(train=0.863, test=0.836), roc_auc=(train=0.908, test=0.912), total=   0.0s\n",
      "[CV] logistic__C=0.01, logistic__penalty=l2 ..........................\n",
      "[CV]  logistic__C=0.01, logistic__penalty=l2, accuracy=(train=0.878, test=0.856), f1=(train=0.897, test=0.871), precision=(train=0.927, test=0.936), recall=(train=0.868, test=0.815), roc_auc=(train=0.916, test=0.880), total=   0.0s\n",
      "[CV] logistic__C=0.01, logistic__penalty=l2 ..........................\n",
      "[CV]  logistic__C=0.01, logistic__penalty=l2, accuracy=(train=0.865, test=0.911), f1=(train=0.883, test=0.926), precision=(train=0.925, test=0.943), recall=(train=0.845, test=0.909), roc_auc=(train=0.900, test=0.943), total=   0.0s\n",
      "[CV] logistic__C=0.01, logistic__penalty=l2 ..........................\n",
      "[CV]  logistic__C=0.01, logistic__penalty=l2, accuracy=(train=0.881, test=0.844), f1=(train=0.896, test=0.875), precision=(train=0.949, test=0.860), recall=(train=0.849, test=0.891), roc_auc=(train=0.911, test=0.900), total=   0.0s\n",
      "[CV] logistic__C=0.001, logistic__penalty=l1 .........................\n",
      "[CV]  logistic__C=0.001, logistic__penalty=l1, accuracy=(train=0.393, test=0.396), f1=(train=0.000, test=0.000), precision=(train=0.000, test=0.000), recall=(train=0.000, test=0.000), roc_auc=(train=0.500, test=0.500), total=   0.0s\n",
      "[CV] logistic__C=0.001, logistic__penalty=l1 .........................\n",
      "[CV]  logistic__C=0.001, logistic__penalty=l1, accuracy=(train=0.393, test=0.396), f1=(train=0.000, test=0.000), precision=(train=0.000, test=0.000), recall=(train=0.000, test=0.000), roc_auc=(train=0.500, test=0.500), total=   0.0s\n",
      "[CV] logistic__C=0.001, logistic__penalty=l1 .........................\n",
      "[CV]  logistic__C=0.001, logistic__penalty=l1, accuracy=(train=0.392, test=0.400), f1=(train=0.000, test=0.000), precision=(train=0.000, test=0.000), recall=(train=0.000, test=0.000), roc_auc=(train=0.500, test=0.500), total=   0.0s\n",
      "[CV] logistic__C=0.001, logistic__penalty=l1 .........................\n",
      "[CV]  logistic__C=0.001, logistic__penalty=l1, accuracy=(train=0.395, test=0.389), f1=(train=0.000, test=0.000), precision=(train=0.000, test=0.000), recall=(train=0.000, test=0.000), roc_auc=(train=0.500, test=0.500), total=   0.0s\n",
      "[CV] logistic__C=0.001, logistic__penalty=l1 .........................\n",
      "[CV]  logistic__C=0.001, logistic__penalty=l1, accuracy=(train=0.395, test=0.389), f1=(train=0.000, test=0.000), precision=(train=0.000, test=0.000), recall=(train=0.000, test=0.000), roc_auc=(train=0.500, test=0.500), total=   0.0s\n",
      "[CV] logistic__C=0.001, logistic__penalty=l2 .........................\n",
      "[CV]  logistic__C=0.001, logistic__penalty=l2, accuracy=(train=0.875, test=0.868), f1=(train=0.894, test=0.885), precision=(train=0.926, test=0.939), recall=(train=0.863, test=0.836), roc_auc=(train=0.912, test=0.892), total=   0.0s\n",
      "[CV] logistic__C=0.001, logistic__penalty=l2 .........................\n"
     ]
    },
    {
     "name": "stderr",
     "output_type": "stream",
     "text": [
      "C:\\Users\\USER\\anaconda3\\envs\\bm-336546\\lib\\site-packages\\sklearn\\metrics\\_classification.py:1221: UndefinedMetricWarning: Precision is ill-defined and being set to 0.0 due to no predicted samples. Use `zero_division` parameter to control this behavior.\n",
      "  _warn_prf(average, modifier, msg_start, len(result))\n",
      "C:\\Users\\USER\\anaconda3\\envs\\bm-336546\\lib\\site-packages\\sklearn\\metrics\\_classification.py:1221: UndefinedMetricWarning: Precision is ill-defined and being set to 0.0 due to no predicted samples. Use `zero_division` parameter to control this behavior.\n",
      "  _warn_prf(average, modifier, msg_start, len(result))\n",
      "C:\\Users\\USER\\anaconda3\\envs\\bm-336546\\lib\\site-packages\\sklearn\\metrics\\_classification.py:1221: UndefinedMetricWarning: Precision is ill-defined and being set to 0.0 due to no predicted samples. Use `zero_division` parameter to control this behavior.\n",
      "  _warn_prf(average, modifier, msg_start, len(result))\n",
      "C:\\Users\\USER\\anaconda3\\envs\\bm-336546\\lib\\site-packages\\sklearn\\metrics\\_classification.py:1221: UndefinedMetricWarning: Precision is ill-defined and being set to 0.0 due to no predicted samples. Use `zero_division` parameter to control this behavior.\n",
      "  _warn_prf(average, modifier, msg_start, len(result))\n",
      "C:\\Users\\USER\\anaconda3\\envs\\bm-336546\\lib\\site-packages\\sklearn\\metrics\\_classification.py:1221: UndefinedMetricWarning: Precision is ill-defined and being set to 0.0 due to no predicted samples. Use `zero_division` parameter to control this behavior.\n",
      "  _warn_prf(average, modifier, msg_start, len(result))\n",
      "C:\\Users\\USER\\anaconda3\\envs\\bm-336546\\lib\\site-packages\\sklearn\\metrics\\_classification.py:1221: UndefinedMetricWarning: Precision is ill-defined and being set to 0.0 due to no predicted samples. Use `zero_division` parameter to control this behavior.\n",
      "  _warn_prf(average, modifier, msg_start, len(result))\n",
      "C:\\Users\\USER\\anaconda3\\envs\\bm-336546\\lib\\site-packages\\sklearn\\metrics\\_classification.py:1221: UndefinedMetricWarning: Precision is ill-defined and being set to 0.0 due to no predicted samples. Use `zero_division` parameter to control this behavior.\n",
      "  _warn_prf(average, modifier, msg_start, len(result))\n",
      "C:\\Users\\USER\\anaconda3\\envs\\bm-336546\\lib\\site-packages\\sklearn\\metrics\\_classification.py:1221: UndefinedMetricWarning: Precision is ill-defined and being set to 0.0 due to no predicted samples. Use `zero_division` parameter to control this behavior.\n",
      "  _warn_prf(average, modifier, msg_start, len(result))\n",
      "C:\\Users\\USER\\anaconda3\\envs\\bm-336546\\lib\\site-packages\\sklearn\\metrics\\_classification.py:1221: UndefinedMetricWarning: Precision is ill-defined and being set to 0.0 due to no predicted samples. Use `zero_division` parameter to control this behavior.\n",
      "  _warn_prf(average, modifier, msg_start, len(result))\n",
      "C:\\Users\\USER\\anaconda3\\envs\\bm-336546\\lib\\site-packages\\sklearn\\metrics\\_classification.py:1221: UndefinedMetricWarning: Precision is ill-defined and being set to 0.0 due to no predicted samples. Use `zero_division` parameter to control this behavior.\n",
      "  _warn_prf(average, modifier, msg_start, len(result))\n"
     ]
    },
    {
     "name": "stdout",
     "output_type": "stream",
     "text": [
      "[CV]  logistic__C=0.001, logistic__penalty=l2, accuracy=(train=0.870, test=0.890), f1=(train=0.889, test=0.902), precision=(train=0.917, test=0.979), recall=(train=0.863, test=0.836), roc_auc=(train=0.908, test=0.912), total=   0.0s\n",
      "[CV] logistic__C=0.001, logistic__penalty=l2 .........................\n",
      "[CV]  logistic__C=0.001, logistic__penalty=l2, accuracy=(train=0.878, test=0.856), f1=(train=0.897, test=0.871), precision=(train=0.927, test=0.936), recall=(train=0.868, test=0.815), roc_auc=(train=0.916, test=0.880), total=   0.0s\n",
      "[CV] logistic__C=0.001, logistic__penalty=l2 .........................\n",
      "[CV]  logistic__C=0.001, logistic__penalty=l2, accuracy=(train=0.865, test=0.911), f1=(train=0.883, test=0.926), precision=(train=0.925, test=0.943), recall=(train=0.845, test=0.909), roc_auc=(train=0.900, test=0.943), total=   0.0s\n",
      "[CV] logistic__C=0.001, logistic__penalty=l2 .........................\n",
      "[CV]  logistic__C=0.001, logistic__penalty=l2, accuracy=(train=0.881, test=0.844), f1=(train=0.896, test=0.875), precision=(train=0.949, test=0.860), recall=(train=0.849, test=0.891), roc_auc=(train=0.911, test=0.900), total=   0.0s\n",
      "Train loss is 0.33\n",
      "Test loss is 0.38\n",
      "Test Sensitivity is 0.84 \n",
      "Test Specificity is 0.86 \n",
      "Test PPV is 0.91 \n",
      "Test NPV is 0.78 \n",
      "Test Accuracy is 0.85 \n",
      "Test F1 is 0.87 \n",
      "Test AUROC is 0.89\n",
      "Train Sensitivity is 0.86 \n",
      "Train Specificity is 0.90 \n",
      "Train PPV is 0.93 \n",
      "Train NPV is 0.80 \n",
      "Train Accuracy is 0.87 \n",
      "Train F1 is 0.89 \n",
      "Train AUROC is 0.91\n"
     ]
    },
    {
     "name": "stderr",
     "output_type": "stream",
     "text": [
      "[Parallel(n_jobs=1)]: Done  60 out of  60 | elapsed:    1.5s finished\n"
     ]
    }
   ],
   "source": [
    "#linear with 2 best features:\n",
    "clf.fit(X_train_2feat, np.ravel(encoded_y_train))\n",
    "calc_evalmetrics(X_test_2feat,X_train_2feat,encoded_y_test,encoded_y_train,clf)"
   ]
  },
  {
   "cell_type": "code",
   "execution_count": 25,
   "metadata": {},
   "outputs": [
    {
     "name": "stdout",
     "output_type": "stream",
     "text": [
      "Fitting 5 folds for each of 16 candidates, totalling 80 fits\n",
      "[CV] svm__C=0.1, svm__degree=3, svm__gamma=auto, svm__kernel=rbf .....\n",
      "[CV]  svm__C=0.1, svm__degree=3, svm__gamma=auto, svm__kernel=rbf, accuracy=(train=0.875, test=0.868), f1=(train=0.894, test=0.885), precision=(train=0.926, test=0.939), recall=(train=0.863, test=0.836), roc_auc=(train=0.877, test=0.852), total=   0.0s\n",
      "[CV] svm__C=0.1, svm__degree=3, svm__gamma=auto, svm__kernel=rbf .....\n",
      "[CV]  svm__C=0.1, svm__degree=3, svm__gamma=auto, svm__kernel=rbf, accuracy=(train=0.870, test=0.890), f1=(train=0.889, test=0.902), precision=(train=0.917, test=0.979), recall=(train=0.863, test=0.836), roc_auc=(train=0.908, test=0.912), total=   0.0s"
     ]
    },
    {
     "name": "stderr",
     "output_type": "stream",
     "text": [
      "[Parallel(n_jobs=1)]: Using backend SequentialBackend with 1 concurrent workers.\n",
      "[Parallel(n_jobs=1)]: Done   1 out of   1 | elapsed:    0.0s remaining:    0.0s\n",
      "[Parallel(n_jobs=1)]: Done   2 out of   2 | elapsed:    0.0s remaining:    0.0s\n"
     ]
    },
    {
     "name": "stdout",
     "output_type": "stream",
     "text": [
      "\n",
      "[CV] svm__C=0.1, svm__degree=3, svm__gamma=auto, svm__kernel=rbf .....\n",
      "[CV]  svm__C=0.1, svm__degree=3, svm__gamma=auto, svm__kernel=rbf, accuracy=(train=0.878, test=0.856), f1=(train=0.897, test=0.871), precision=(train=0.927, test=0.936), recall=(train=0.868, test=0.815), roc_auc=(train=0.912, test=0.897), total=   0.0s\n",
      "[CV] svm__C=0.1, svm__degree=3, svm__gamma=auto, svm__kernel=rbf .....\n",
      "[CV]  svm__C=0.1, svm__degree=3, svm__gamma=auto, svm__kernel=rbf, accuracy=(train=0.865, test=0.911), f1=(train=0.883, test=0.926), precision=(train=0.925, test=0.943), recall=(train=0.845, test=0.909), roc_auc=(train=0.900, test=0.943), total=   0.0s\n",
      "[CV] svm__C=0.1, svm__degree=3, svm__gamma=auto, svm__kernel=rbf .....\n",
      "[CV]  svm__C=0.1, svm__degree=3, svm__gamma=auto, svm__kernel=rbf, accuracy=(train=0.881, test=0.844), f1=(train=0.896, test=0.875), precision=(train=0.949, test=0.860), recall=(train=0.849, test=0.891), roc_auc=(train=0.889, test=0.874), total=   0.0s\n",
      "[CV] svm__C=0.1, svm__degree=3, svm__gamma=auto, svm__kernel=poly ....\n",
      "[CV]  svm__C=0.1, svm__degree=3, svm__gamma=auto, svm__kernel=poly, accuracy=(train=0.875, test=0.868), f1=(train=0.894, test=0.885), precision=(train=0.926, test=0.939), recall=(train=0.863, test=0.836), roc_auc=(train=0.911, test=0.902), total=   0.0s\n",
      "[CV] svm__C=0.1, svm__degree=3, svm__gamma=auto, svm__kernel=poly ....\n",
      "[CV]  svm__C=0.1, svm__degree=3, svm__gamma=auto, svm__kernel=poly, accuracy=(train=0.870, test=0.890), f1=(train=0.889, test=0.902), precision=(train=0.917, test=0.979), recall=(train=0.863, test=0.836), roc_auc=(train=0.906, test=0.915), total=   0.0s\n",
      "[CV] svm__C=0.1, svm__degree=3, svm__gamma=auto, svm__kernel=poly ....\n",
      "[CV]  svm__C=0.1, svm__degree=3, svm__gamma=auto, svm__kernel=poly, accuracy=(train=0.878, test=0.856), f1=(train=0.897, test=0.871), precision=(train=0.927, test=0.936), recall=(train=0.868, test=0.815), roc_auc=(train=0.912, test=0.897), total=   0.0s\n",
      "[CV] svm__C=0.1, svm__degree=3, svm__gamma=auto, svm__kernel=poly ....\n",
      "[CV]  svm__C=0.1, svm__degree=3, svm__gamma=auto, svm__kernel=poly, accuracy=(train=0.865, test=0.911), f1=(train=0.883, test=0.926), precision=(train=0.925, test=0.943), recall=(train=0.845, test=0.909), roc_auc=(train=0.901, test=0.938), total=   0.0s\n",
      "[CV] svm__C=0.1, svm__degree=3, svm__gamma=auto, svm__kernel=poly ....\n",
      "[CV]  svm__C=0.1, svm__degree=3, svm__gamma=auto, svm__kernel=poly, accuracy=(train=0.881, test=0.844), f1=(train=0.896, test=0.875), precision=(train=0.949, test=0.860), recall=(train=0.849, test=0.891), roc_auc=(train=0.911, test=0.900), total=   0.0s\n",
      "[CV] svm__C=0.1, svm__degree=3, svm__gamma=scale, svm__kernel=rbf ....\n",
      "[CV]  svm__C=0.1, svm__degree=3, svm__gamma=scale, svm__kernel=rbf, accuracy=(train=0.875, test=0.868), f1=(train=0.894, test=0.885), precision=(train=0.926, test=0.939), recall=(train=0.863, test=0.836), roc_auc=(train=0.877, test=0.852), total=   0.0s\n",
      "[CV] svm__C=0.1, svm__degree=3, svm__gamma=scale, svm__kernel=rbf ....\n",
      "[CV]  svm__C=0.1, svm__degree=3, svm__gamma=scale, svm__kernel=rbf, accuracy=(train=0.870, test=0.890), f1=(train=0.889, test=0.902), precision=(train=0.917, test=0.979), recall=(train=0.863, test=0.836), roc_auc=(train=0.908, test=0.912), total=   0.0s\n",
      "[CV] svm__C=0.1, svm__degree=3, svm__gamma=scale, svm__kernel=rbf ....\n",
      "[CV]  svm__C=0.1, svm__degree=3, svm__gamma=scale, svm__kernel=rbf, accuracy=(train=0.878, test=0.856), f1=(train=0.897, test=0.871), precision=(train=0.927, test=0.936), recall=(train=0.868, test=0.815), roc_auc=(train=0.912, test=0.897), total=   0.0s\n",
      "[CV] svm__C=0.1, svm__degree=3, svm__gamma=scale, svm__kernel=rbf ....\n",
      "[CV]  svm__C=0.1, svm__degree=3, svm__gamma=scale, svm__kernel=rbf, accuracy=(train=0.865, test=0.911), f1=(train=0.883, test=0.926), precision=(train=0.925, test=0.943), recall=(train=0.845, test=0.909), roc_auc=(train=0.900, test=0.943), total=   0.0s\n",
      "[CV] svm__C=0.1, svm__degree=3, svm__gamma=scale, svm__kernel=rbf ....\n",
      "[CV]  svm__C=0.1, svm__degree=3, svm__gamma=scale, svm__kernel=rbf, accuracy=(train=0.881, test=0.844), f1=(train=0.896, test=0.875), precision=(train=0.949, test=0.860), recall=(train=0.849, test=0.891), roc_auc=(train=0.889, test=0.874), total=   0.0s\n",
      "[CV] svm__C=0.1, svm__degree=3, svm__gamma=scale, svm__kernel=poly ...\n",
      "[CV]  svm__C=0.1, svm__degree=3, svm__gamma=scale, svm__kernel=poly, accuracy=(train=0.875, test=0.868), f1=(train=0.894, test=0.885), precision=(train=0.926, test=0.939), recall=(train=0.863, test=0.836), roc_auc=(train=0.911, test=0.902), total=   0.0s\n",
      "[CV] svm__C=0.1, svm__degree=3, svm__gamma=scale, svm__kernel=poly ...\n",
      "[CV]  svm__C=0.1, svm__degree=3, svm__gamma=scale, svm__kernel=poly, accuracy=(train=0.870, test=0.890), f1=(train=0.889, test=0.902), precision=(train=0.917, test=0.979), recall=(train=0.863, test=0.836), roc_auc=(train=0.906, test=0.915), total=   0.0s\n",
      "[CV] svm__C=0.1, svm__degree=3, svm__gamma=scale, svm__kernel=poly ...\n",
      "[CV]  svm__C=0.1, svm__degree=3, svm__gamma=scale, svm__kernel=poly, accuracy=(train=0.878, test=0.856), f1=(train=0.897, test=0.871), precision=(train=0.927, test=0.936), recall=(train=0.868, test=0.815), roc_auc=(train=0.912, test=0.897), total=   0.0s\n",
      "[CV] svm__C=0.1, svm__degree=3, svm__gamma=scale, svm__kernel=poly ...\n",
      "[CV]  svm__C=0.1, svm__degree=3, svm__gamma=scale, svm__kernel=poly, accuracy=(train=0.865, test=0.911), f1=(train=0.883, test=0.926), precision=(train=0.925, test=0.943), recall=(train=0.845, test=0.909), roc_auc=(train=0.901, test=0.938), total=   0.0s\n",
      "[CV] svm__C=0.1, svm__degree=3, svm__gamma=scale, svm__kernel=poly ...\n",
      "[CV]  svm__C=0.1, svm__degree=3, svm__gamma=scale, svm__kernel=poly, accuracy=(train=0.881, test=0.844), f1=(train=0.896, test=0.875), precision=(train=0.949, test=0.860), recall=(train=0.849, test=0.891), roc_auc=(train=0.911, test=0.900), total=   0.0s\n",
      "[CV] svm__C=1.0, svm__degree=3, svm__gamma=auto, svm__kernel=rbf .....\n",
      "[CV]  svm__C=1.0, svm__degree=3, svm__gamma=auto, svm__kernel=rbf, accuracy=(train=0.875, test=0.868), f1=(train=0.894, test=0.885), precision=(train=0.926, test=0.939), recall=(train=0.863, test=0.836), roc_auc=(train=0.911, test=0.902), total=   0.0s\n",
      "[CV] svm__C=1.0, svm__degree=3, svm__gamma=auto, svm__kernel=rbf .....\n",
      "[CV]  svm__C=1.0, svm__degree=3, svm__gamma=auto, svm__kernel=rbf, accuracy=(train=0.870, test=0.890), f1=(train=0.889, test=0.902), precision=(train=0.917, test=0.979), recall=(train=0.863, test=0.836), roc_auc=(train=0.906, test=0.915), total=   0.0s\n",
      "[CV] svm__C=1.0, svm__degree=3, svm__gamma=auto, svm__kernel=rbf .....\n",
      "[CV]  svm__C=1.0, svm__degree=3, svm__gamma=auto, svm__kernel=rbf, accuracy=(train=0.878, test=0.856), f1=(train=0.897, test=0.871), precision=(train=0.927, test=0.936), recall=(train=0.868, test=0.815), roc_auc=(train=0.851, test=0.835), total=   0.0s\n",
      "[CV] svm__C=1.0, svm__degree=3, svm__gamma=auto, svm__kernel=rbf .....\n",
      "[CV]  svm__C=1.0, svm__degree=3, svm__gamma=auto, svm__kernel=rbf, accuracy=(train=0.865, test=0.911), f1=(train=0.883, test=0.926), precision=(train=0.925, test=0.943), recall=(train=0.845, test=0.909), roc_auc=(train=0.859, test=0.923), total=   0.0s\n",
      "[CV] svm__C=1.0, svm__degree=3, svm__gamma=auto, svm__kernel=rbf .....\n",
      "[CV]  svm__C=1.0, svm__degree=3, svm__gamma=auto, svm__kernel=rbf, accuracy=(train=0.881, test=0.844), f1=(train=0.896, test=0.875), precision=(train=0.949, test=0.860), recall=(train=0.849, test=0.891), roc_auc=(train=0.891, test=0.788), total=   0.0s\n",
      "[CV] svm__C=1.0, svm__degree=3, svm__gamma=auto, svm__kernel=poly ....\n",
      "[CV]  svm__C=1.0, svm__degree=3, svm__gamma=auto, svm__kernel=poly, accuracy=(train=0.875, test=0.868), f1=(train=0.894, test=0.885), precision=(train=0.926, test=0.939), recall=(train=0.863, test=0.836), roc_auc=(train=0.912, test=0.892), total=   0.0s\n",
      "[CV] svm__C=1.0, svm__degree=3, svm__gamma=auto, svm__kernel=poly ....\n",
      "[CV]  svm__C=1.0, svm__degree=3, svm__gamma=auto, svm__kernel=poly, accuracy=(train=0.870, test=0.890), f1=(train=0.889, test=0.902), precision=(train=0.917, test=0.979), recall=(train=0.863, test=0.836), roc_auc=(train=0.906, test=0.915), total=   0.0s\n",
      "[CV] svm__C=1.0, svm__degree=3, svm__gamma=auto, svm__kernel=poly ....\n",
      "[CV]  svm__C=1.0, svm__degree=3, svm__gamma=auto, svm__kernel=poly, accuracy=(train=0.878, test=0.856), f1=(train=0.897, test=0.871), precision=(train=0.927, test=0.936), recall=(train=0.868, test=0.815), roc_auc=(train=0.912, test=0.897), total=   0.0s\n",
      "[CV] svm__C=1.0, svm__degree=3, svm__gamma=auto, svm__kernel=poly ....\n",
      "[CV]  svm__C=1.0, svm__degree=3, svm__gamma=auto, svm__kernel=poly, accuracy=(train=0.865, test=0.911), f1=(train=0.883, test=0.926), precision=(train=0.925, test=0.943), recall=(train=0.845, test=0.909), roc_auc=(train=0.901, test=0.938), total=   0.0s\n",
      "[CV] svm__C=1.0, svm__degree=3, svm__gamma=auto, svm__kernel=poly ....\n",
      "[CV]  svm__C=1.0, svm__degree=3, svm__gamma=auto, svm__kernel=poly, accuracy=(train=0.881, test=0.844), f1=(train=0.896, test=0.875), precision=(train=0.949, test=0.860), recall=(train=0.849, test=0.891), roc_auc=(train=0.911, test=0.900), total=   0.0s\n",
      "[CV] svm__C=1.0, svm__degree=3, svm__gamma=scale, svm__kernel=rbf ....\n",
      "[CV]  svm__C=1.0, svm__degree=3, svm__gamma=scale, svm__kernel=rbf, accuracy=(train=0.875, test=0.868), f1=(train=0.894, test=0.885), precision=(train=0.926, test=0.939), recall=(train=0.863, test=0.836), roc_auc=(train=0.911, test=0.902), total=   0.0s\n",
      "[CV] svm__C=1.0, svm__degree=3, svm__gamma=scale, svm__kernel=rbf ....\n",
      "[CV]  svm__C=1.0, svm__degree=3, svm__gamma=scale, svm__kernel=rbf, accuracy=(train=0.870, test=0.890), f1=(train=0.889, test=0.902), precision=(train=0.917, test=0.979), recall=(train=0.863, test=0.836), roc_auc=(train=0.906, test=0.915), total=   0.0s\n",
      "[CV] svm__C=1.0, svm__degree=3, svm__gamma=scale, svm__kernel=rbf ....\n",
      "[CV]  svm__C=1.0, svm__degree=3, svm__gamma=scale, svm__kernel=rbf, accuracy=(train=0.878, test=0.856), f1=(train=0.897, test=0.871), precision=(train=0.927, test=0.936), recall=(train=0.868, test=0.815), roc_auc=(train=0.851, test=0.835), total=   0.0s\n",
      "[CV] svm__C=1.0, svm__degree=3, svm__gamma=scale, svm__kernel=rbf ....\n",
      "[CV]  svm__C=1.0, svm__degree=3, svm__gamma=scale, svm__kernel=rbf, accuracy=(train=0.865, test=0.911), f1=(train=0.883, test=0.926), precision=(train=0.925, test=0.943), recall=(train=0.845, test=0.909), roc_auc=(train=0.859, test=0.923), total=   0.0s\n",
      "[CV] svm__C=1.0, svm__degree=3, svm__gamma=scale, svm__kernel=rbf ....\n",
      "[CV]  svm__C=1.0, svm__degree=3, svm__gamma=scale, svm__kernel=rbf, accuracy=(train=0.881, test=0.844), f1=(train=0.896, test=0.875), precision=(train=0.949, test=0.860), recall=(train=0.849, test=0.891), roc_auc=(train=0.891, test=0.788), total=   0.0s\n",
      "[CV] svm__C=1.0, svm__degree=3, svm__gamma=scale, svm__kernel=poly ...\n",
      "[CV]  svm__C=1.0, svm__degree=3, svm__gamma=scale, svm__kernel=poly, accuracy=(train=0.875, test=0.868), f1=(train=0.894, test=0.885), precision=(train=0.926, test=0.939), recall=(train=0.863, test=0.836), roc_auc=(train=0.912, test=0.892), total=   0.0s\n",
      "[CV] svm__C=1.0, svm__degree=3, svm__gamma=scale, svm__kernel=poly ...\n",
      "[CV]  svm__C=1.0, svm__degree=3, svm__gamma=scale, svm__kernel=poly, accuracy=(train=0.870, test=0.890), f1=(train=0.889, test=0.902), precision=(train=0.917, test=0.979), recall=(train=0.863, test=0.836), roc_auc=(train=0.906, test=0.915), total=   0.0s\n",
      "[CV] svm__C=1.0, svm__degree=3, svm__gamma=scale, svm__kernel=poly ...\n",
      "[CV]  svm__C=1.0, svm__degree=3, svm__gamma=scale, svm__kernel=poly, accuracy=(train=0.878, test=0.856), f1=(train=0.897, test=0.871), precision=(train=0.927, test=0.936), recall=(train=0.868, test=0.815), roc_auc=(train=0.912, test=0.897), total=   0.0s\n",
      "[CV] svm__C=1.0, svm__degree=3, svm__gamma=scale, svm__kernel=poly ...\n",
      "[CV]  svm__C=1.0, svm__degree=3, svm__gamma=scale, svm__kernel=poly, accuracy=(train=0.865, test=0.911), f1=(train=0.883, test=0.926), precision=(train=0.925, test=0.943), recall=(train=0.845, test=0.909), roc_auc=(train=0.901, test=0.938), total=   0.0s\n",
      "[CV] svm__C=1.0, svm__degree=3, svm__gamma=scale, svm__kernel=poly ...\n",
      "[CV]  svm__C=1.0, svm__degree=3, svm__gamma=scale, svm__kernel=poly, accuracy=(train=0.881, test=0.844), f1=(train=0.896, test=0.875), precision=(train=0.949, test=0.860), recall=(train=0.849, test=0.891), roc_auc=(train=0.911, test=0.900), total=   0.0s\n",
      "[CV] svm__C=100.0, svm__degree=3, svm__gamma=auto, svm__kernel=rbf ...\n",
      "[CV]  svm__C=100.0, svm__degree=3, svm__gamma=auto, svm__kernel=rbf, accuracy=(train=0.875, test=0.868), f1=(train=0.894, test=0.885), precision=(train=0.926, test=0.939), recall=(train=0.863, test=0.836), roc_auc=(train=0.880, test=0.902), total=   0.0s\n",
      "[CV] svm__C=100.0, svm__degree=3, svm__gamma=auto, svm__kernel=rbf ...\n",
      "[CV]  svm__C=100.0, svm__degree=3, svm__gamma=auto, svm__kernel=rbf, accuracy=(train=0.870, test=0.890), f1=(train=0.889, test=0.902), precision=(train=0.917, test=0.979), recall=(train=0.863, test=0.836), roc_auc=(train=0.877, test=0.915), total=   0.0s\n",
      "[CV] svm__C=100.0, svm__degree=3, svm__gamma=auto, svm__kernel=rbf ...\n",
      "[CV]  svm__C=100.0, svm__degree=3, svm__gamma=auto, svm__kernel=rbf, accuracy=(train=0.878, test=0.856), f1=(train=0.897, test=0.871), precision=(train=0.927, test=0.936), recall=(train=0.868, test=0.815), roc_auc=(train=0.851, test=0.835), total=   0.0s\n",
      "[CV] svm__C=100.0, svm__degree=3, svm__gamma=auto, svm__kernel=rbf ...\n",
      "[CV]  svm__C=100.0, svm__degree=3, svm__gamma=auto, svm__kernel=rbf, accuracy=(train=0.865, test=0.911), f1=(train=0.883, test=0.926), precision=(train=0.925, test=0.943), recall=(train=0.845, test=0.909), roc_auc=(train=0.859, test=0.923), total=   0.0s\n",
      "[CV] svm__C=100.0, svm__degree=3, svm__gamma=auto, svm__kernel=rbf ...\n",
      "[CV]  svm__C=100.0, svm__degree=3, svm__gamma=auto, svm__kernel=rbf, accuracy=(train=0.881, test=0.844), f1=(train=0.896, test=0.875), precision=(train=0.949, test=0.860), recall=(train=0.849, test=0.891), roc_auc=(train=0.870, test=0.751), total=   0.0s\n",
      "[CV] svm__C=100.0, svm__degree=3, svm__gamma=auto, svm__kernel=poly ..\n",
      "[CV]  svm__C=100.0, svm__degree=3, svm__gamma=auto, svm__kernel=poly, accuracy=(train=0.875, test=0.868), f1=(train=0.894, test=0.885), precision=(train=0.926, test=0.939), recall=(train=0.863, test=0.836), roc_auc=(train=0.911, test=0.902), total=   0.0s\n",
      "[CV] svm__C=100.0, svm__degree=3, svm__gamma=auto, svm__kernel=poly ..\n",
      "[CV]  svm__C=100.0, svm__degree=3, svm__gamma=auto, svm__kernel=poly, accuracy=(train=0.870, test=0.890), f1=(train=0.889, test=0.902), precision=(train=0.917, test=0.979), recall=(train=0.863, test=0.836), roc_auc=(train=0.906, test=0.915), total=   0.0s\n",
      "[CV] svm__C=100.0, svm__degree=3, svm__gamma=auto, svm__kernel=poly ..\n",
      "[CV]  svm__C=100.0, svm__degree=3, svm__gamma=auto, svm__kernel=poly, accuracy=(train=0.878, test=0.856), f1=(train=0.897, test=0.871), precision=(train=0.927, test=0.936), recall=(train=0.868, test=0.815), roc_auc=(train=0.916, test=0.880), total=   0.0s\n",
      "[CV] svm__C=100.0, svm__degree=3, svm__gamma=auto, svm__kernel=poly ..\n",
      "[CV]  svm__C=100.0, svm__degree=3, svm__gamma=auto, svm__kernel=poly, accuracy=(train=0.865, test=0.911), f1=(train=0.883, test=0.926), precision=(train=0.925, test=0.943), recall=(train=0.845, test=0.909), roc_auc=(train=0.900, test=0.943), total=   0.0s\n",
      "[CV] svm__C=100.0, svm__degree=3, svm__gamma=auto, svm__kernel=poly ..\n",
      "[CV]  svm__C=100.0, svm__degree=3, svm__gamma=auto, svm__kernel=poly, accuracy=(train=0.881, test=0.844), f1=(train=0.896, test=0.875), precision=(train=0.949, test=0.860), recall=(train=0.849, test=0.891), roc_auc=(train=0.909, test=0.912), total=   0.0s\n",
      "[CV] svm__C=100.0, svm__degree=3, svm__gamma=scale, svm__kernel=rbf ..\n",
      "[CV]  svm__C=100.0, svm__degree=3, svm__gamma=scale, svm__kernel=rbf, accuracy=(train=0.875, test=0.868), f1=(train=0.894, test=0.885), precision=(train=0.926, test=0.939), recall=(train=0.863, test=0.836), roc_auc=(train=0.880, test=0.902), total=   0.0s\n",
      "[CV] svm__C=100.0, svm__degree=3, svm__gamma=scale, svm__kernel=rbf ..\n",
      "[CV]  svm__C=100.0, svm__degree=3, svm__gamma=scale, svm__kernel=rbf, accuracy=(train=0.870, test=0.890), f1=(train=0.889, test=0.902), precision=(train=0.917, test=0.979), recall=(train=0.863, test=0.836), roc_auc=(train=0.877, test=0.915), total=   0.0s\n",
      "[CV] svm__C=100.0, svm__degree=3, svm__gamma=scale, svm__kernel=rbf ..\n",
      "[CV]  svm__C=100.0, svm__degree=3, svm__gamma=scale, svm__kernel=rbf, accuracy=(train=0.878, test=0.856), f1=(train=0.897, test=0.871), precision=(train=0.927, test=0.936), recall=(train=0.868, test=0.815), roc_auc=(train=0.851, test=0.835), total=   0.0s\n",
      "[CV] svm__C=100.0, svm__degree=3, svm__gamma=scale, svm__kernel=rbf ..\n",
      "[CV]  svm__C=100.0, svm__degree=3, svm__gamma=scale, svm__kernel=rbf, accuracy=(train=0.865, test=0.911), f1=(train=0.883, test=0.926), precision=(train=0.925, test=0.943), recall=(train=0.845, test=0.909), roc_auc=(train=0.859, test=0.923), total=   0.0s\n",
      "[CV] svm__C=100.0, svm__degree=3, svm__gamma=scale, svm__kernel=rbf ..\n",
      "[CV]  svm__C=100.0, svm__degree=3, svm__gamma=scale, svm__kernel=rbf, accuracy=(train=0.881, test=0.844), f1=(train=0.896, test=0.875), precision=(train=0.949, test=0.860), recall=(train=0.849, test=0.891), roc_auc=(train=0.870, test=0.751), total=   0.0s\n",
      "[CV] svm__C=100.0, svm__degree=3, svm__gamma=scale, svm__kernel=poly .\n",
      "[CV]  svm__C=100.0, svm__degree=3, svm__gamma=scale, svm__kernel=poly, accuracy=(train=0.875, test=0.868), f1=(train=0.894, test=0.885), precision=(train=0.926, test=0.939), recall=(train=0.863, test=0.836), roc_auc=(train=0.911, test=0.902), total=   0.0s\n",
      "[CV] svm__C=100.0, svm__degree=3, svm__gamma=scale, svm__kernel=poly .\n",
      "[CV]  svm__C=100.0, svm__degree=3, svm__gamma=scale, svm__kernel=poly, accuracy=(train=0.870, test=0.890), f1=(train=0.889, test=0.902), precision=(train=0.917, test=0.979), recall=(train=0.863, test=0.836), roc_auc=(train=0.906, test=0.915), total=   0.0s\n",
      "[CV] svm__C=100.0, svm__degree=3, svm__gamma=scale, svm__kernel=poly .\n",
      "[CV]  svm__C=100.0, svm__degree=3, svm__gamma=scale, svm__kernel=poly, accuracy=(train=0.878, test=0.856), f1=(train=0.897, test=0.871), precision=(train=0.927, test=0.936), recall=(train=0.868, test=0.815), roc_auc=(train=0.916, test=0.880), total=   0.0s\n",
      "[CV] svm__C=100.0, svm__degree=3, svm__gamma=scale, svm__kernel=poly .\n",
      "[CV]  svm__C=100.0, svm__degree=3, svm__gamma=scale, svm__kernel=poly, accuracy=(train=0.865, test=0.911), f1=(train=0.883, test=0.926), precision=(train=0.925, test=0.943), recall=(train=0.845, test=0.909), roc_auc=(train=0.900, test=0.943), total=   0.0s\n",
      "[CV] svm__C=100.0, svm__degree=3, svm__gamma=scale, svm__kernel=poly .\n",
      "[CV]  svm__C=100.0, svm__degree=3, svm__gamma=scale, svm__kernel=poly, accuracy=(train=0.881, test=0.844), f1=(train=0.896, test=0.875), precision=(train=0.949, test=0.860), recall=(train=0.849, test=0.891), roc_auc=(train=0.909, test=0.912), total=   0.0s\n",
      "[CV] svm__C=1000.0, svm__degree=3, svm__gamma=auto, svm__kernel=rbf ..\n",
      "[CV]  svm__C=1000.0, svm__degree=3, svm__gamma=auto, svm__kernel=rbf, accuracy=(train=0.875, test=0.868), f1=(train=0.894, test=0.885), precision=(train=0.926, test=0.939), recall=(train=0.863, test=0.836), roc_auc=(train=0.880, test=0.902), total=   0.0s\n",
      "[CV] svm__C=1000.0, svm__degree=3, svm__gamma=auto, svm__kernel=rbf ..\n",
      "[CV]  svm__C=1000.0, svm__degree=3, svm__gamma=auto, svm__kernel=rbf, accuracy=(train=0.870, test=0.890), f1=(train=0.889, test=0.902), precision=(train=0.917, test=0.979), recall=(train=0.863, test=0.836), roc_auc=(train=0.906, test=0.915), total=   0.0s\n",
      "[CV] svm__C=1000.0, svm__degree=3, svm__gamma=auto, svm__kernel=rbf ..\n",
      "[CV]  svm__C=1000.0, svm__degree=3, svm__gamma=auto, svm__kernel=rbf, accuracy=(train=0.878, test=0.856), f1=(train=0.897, test=0.871), precision=(train=0.927, test=0.936), recall=(train=0.868, test=0.815), roc_auc=(train=0.851, test=0.835), total=   0.0s\n",
      "[CV] svm__C=1000.0, svm__degree=3, svm__gamma=auto, svm__kernel=rbf ..\n",
      "[CV]  svm__C=1000.0, svm__degree=3, svm__gamma=auto, svm__kernel=rbf, accuracy=(train=0.865, test=0.911), f1=(train=0.883, test=0.926), precision=(train=0.925, test=0.943), recall=(train=0.845, test=0.909), roc_auc=(train=0.859, test=0.923), total=   0.0s\n",
      "[CV] svm__C=1000.0, svm__degree=3, svm__gamma=auto, svm__kernel=rbf ..\n",
      "[CV]  svm__C=1000.0, svm__degree=3, svm__gamma=auto, svm__kernel=rbf, accuracy=(train=0.881, test=0.844), f1=(train=0.896, test=0.875), precision=(train=0.949, test=0.860), recall=(train=0.849, test=0.891), roc_auc=(train=0.889, test=0.874), total=   0.0s\n",
      "[CV] svm__C=1000.0, svm__degree=3, svm__gamma=auto, svm__kernel=poly .\n",
      "[CV]  svm__C=1000.0, svm__degree=3, svm__gamma=auto, svm__kernel=poly, accuracy=(train=0.875, test=0.868), f1=(train=0.894, test=0.885), precision=(train=0.926, test=0.939), recall=(train=0.863, test=0.836), roc_auc=(train=0.911, test=0.902), total=   0.0s\n",
      "[CV] svm__C=1000.0, svm__degree=3, svm__gamma=auto, svm__kernel=poly .\n",
      "[CV]  svm__C=1000.0, svm__degree=3, svm__gamma=auto, svm__kernel=poly, accuracy=(train=0.870, test=0.890), f1=(train=0.889, test=0.902), precision=(train=0.917, test=0.979), recall=(train=0.863, test=0.836), roc_auc=(train=0.906, test=0.915), total=   0.0s\n",
      "[CV] svm__C=1000.0, svm__degree=3, svm__gamma=auto, svm__kernel=poly .\n",
      "[CV]  svm__C=1000.0, svm__degree=3, svm__gamma=auto, svm__kernel=poly, accuracy=(train=0.878, test=0.856), f1=(train=0.897, test=0.871), precision=(train=0.927, test=0.936), recall=(train=0.868, test=0.815), roc_auc=(train=0.916, test=0.880), total=   0.0s\n",
      "[CV] svm__C=1000.0, svm__degree=3, svm__gamma=auto, svm__kernel=poly .\n",
      "[CV]  svm__C=1000.0, svm__degree=3, svm__gamma=auto, svm__kernel=poly, accuracy=(train=0.865, test=0.911), f1=(train=0.883, test=0.926), precision=(train=0.925, test=0.943), recall=(train=0.845, test=0.909), roc_auc=(train=0.900, test=0.943), total=   0.0s\n",
      "[CV] svm__C=1000.0, svm__degree=3, svm__gamma=auto, svm__kernel=poly .\n",
      "[CV]  svm__C=1000.0, svm__degree=3, svm__gamma=auto, svm__kernel=poly, accuracy=(train=0.881, test=0.844), f1=(train=0.896, test=0.875), precision=(train=0.949, test=0.860), recall=(train=0.849, test=0.891), roc_auc=(train=0.909, test=0.912), total=   0.0s\n",
      "[CV] svm__C=1000.0, svm__degree=3, svm__gamma=scale, svm__kernel=rbf .\n",
      "[CV]  svm__C=1000.0, svm__degree=3, svm__gamma=scale, svm__kernel=rbf, accuracy=(train=0.875, test=0.868), f1=(train=0.894, test=0.885), precision=(train=0.926, test=0.939), recall=(train=0.863, test=0.836), roc_auc=(train=0.880, test=0.902), total=   0.0s\n",
      "[CV] svm__C=1000.0, svm__degree=3, svm__gamma=scale, svm__kernel=rbf .\n",
      "[CV]  svm__C=1000.0, svm__degree=3, svm__gamma=scale, svm__kernel=rbf, accuracy=(train=0.870, test=0.890), f1=(train=0.889, test=0.902), precision=(train=0.917, test=0.979), recall=(train=0.863, test=0.836), roc_auc=(train=0.906, test=0.915), total=   0.0s\n",
      "[CV] svm__C=1000.0, svm__degree=3, svm__gamma=scale, svm__kernel=rbf .\n",
      "[CV]  svm__C=1000.0, svm__degree=3, svm__gamma=scale, svm__kernel=rbf, accuracy=(train=0.878, test=0.856), f1=(train=0.897, test=0.871), precision=(train=0.927, test=0.936), recall=(train=0.868, test=0.815), roc_auc=(train=0.851, test=0.835), total=   0.0s\n",
      "[CV] svm__C=1000.0, svm__degree=3, svm__gamma=scale, svm__kernel=rbf .\n",
      "[CV]  svm__C=1000.0, svm__degree=3, svm__gamma=scale, svm__kernel=rbf, accuracy=(train=0.865, test=0.911), f1=(train=0.883, test=0.926), precision=(train=0.925, test=0.943), recall=(train=0.845, test=0.909), roc_auc=(train=0.859, test=0.923), total=   0.0s\n",
      "[CV] svm__C=1000.0, svm__degree=3, svm__gamma=scale, svm__kernel=rbf .\n",
      "[CV]  svm__C=1000.0, svm__degree=3, svm__gamma=scale, svm__kernel=rbf, accuracy=(train=0.881, test=0.844), f1=(train=0.896, test=0.875), precision=(train=0.949, test=0.860), recall=(train=0.849, test=0.891), roc_auc=(train=0.889, test=0.874), total=   0.0s\n",
      "[CV] svm__C=1000.0, svm__degree=3, svm__gamma=scale, svm__kernel=poly \n",
      "[CV]  svm__C=1000.0, svm__degree=3, svm__gamma=scale, svm__kernel=poly, accuracy=(train=0.875, test=0.868), f1=(train=0.894, test=0.885), precision=(train=0.926, test=0.939), recall=(train=0.863, test=0.836), roc_auc=(train=0.911, test=0.902), total=   0.0s\n",
      "[CV] svm__C=1000.0, svm__degree=3, svm__gamma=scale, svm__kernel=poly \n",
      "[CV]  svm__C=1000.0, svm__degree=3, svm__gamma=scale, svm__kernel=poly, accuracy=(train=0.870, test=0.890), f1=(train=0.889, test=0.902), precision=(train=0.917, test=0.979), recall=(train=0.863, test=0.836), roc_auc=(train=0.906, test=0.915), total=   0.0s\n",
      "[CV] svm__C=1000.0, svm__degree=3, svm__gamma=scale, svm__kernel=poly \n",
      "[CV]  svm__C=1000.0, svm__degree=3, svm__gamma=scale, svm__kernel=poly, accuracy=(train=0.878, test=0.856), f1=(train=0.897, test=0.871), precision=(train=0.927, test=0.936), recall=(train=0.868, test=0.815), roc_auc=(train=0.916, test=0.880), total=   0.0s\n",
      "[CV] svm__C=1000.0, svm__degree=3, svm__gamma=scale, svm__kernel=poly \n",
      "[CV]  svm__C=1000.0, svm__degree=3, svm__gamma=scale, svm__kernel=poly, accuracy=(train=0.865, test=0.911), f1=(train=0.883, test=0.926), precision=(train=0.925, test=0.943), recall=(train=0.845, test=0.909), roc_auc=(train=0.900, test=0.943), total=   0.0s\n",
      "[CV] svm__C=1000.0, svm__degree=3, svm__gamma=scale, svm__kernel=poly \n",
      "[CV]  svm__C=1000.0, svm__degree=3, svm__gamma=scale, svm__kernel=poly, accuracy=(train=0.881, test=0.844), f1=(train=0.896, test=0.875), precision=(train=0.949, test=0.860), recall=(train=0.849, test=0.891), roc_auc=(train=0.909, test=0.912), total=   0.0s\n",
      "Train loss is 0.32\n",
      "Test loss is 0.37\n",
      "Test Sensitivity is 0.84 \n",
      "Test Specificity is 0.86 \n",
      "Test PPV is 0.91 \n",
      "Test NPV is 0.78 \n",
      "Test Accuracy is 0.85 \n",
      "Test F1 is 0.87 \n",
      "Test AUROC is 0.89\n",
      "Train Sensitivity is 0.86 \n",
      "Train Specificity is 0.90 \n",
      "Train PPV is 0.93 \n",
      "Train NPV is 0.80 \n",
      "Train Accuracy is 0.87 \n",
      "Train F1 is 0.89 \n",
      "Train AUROC is 0.91\n"
     ]
    },
    {
     "name": "stderr",
     "output_type": "stream",
     "text": [
      "[Parallel(n_jobs=1)]: Done  80 out of  80 | elapsed:    2.6s finished\n"
     ]
    }
   ],
   "source": [
    "#nonlinear with 2 best features:\n",
    "svm_nonlin.fit(X_train_2feat,np.ravel(encoded_y_train))\n",
    "calc_evalmetrics(X_test_2feat,X_train_2feat,encoded_y_test,encoded_y_train,svm_nonlin)"
   ]
  },
  {
   "cell_type": "markdown",
   "metadata": {},
   "source": [
    "Which way is better?\n",
    "The test Auroc for the dimensionality reduction is better than that of the best 2 features for both the linear and the nonlinear models. The sensitivity is the best in the nonlinear dimension reduced model. The specificity is better in the chosen best 2 features.\n",
    "We think that in this case it is better to use dimensionality reduction - because as we saw earlier in the feature contribution analysis - the two best features combined could explain less than 40% of the total feature importance, therefore it is reasonable to assume that we will need to consider some more features aswell to better explain the prediction - which is what is achieved using PCA."
   ]
  }
 ],
 "metadata": {
  "kernelspec": {
   "display_name": "Python 3",
   "language": "python",
   "name": "python3"
  },
  "language_info": {
   "codemirror_mode": {
    "name": "ipython",
    "version": 3
   },
   "file_extension": ".py",
   "mimetype": "text/x-python",
   "name": "python",
   "nbconvert_exporter": "python",
   "pygments_lexer": "ipython3",
   "version": "3.7.9"
  }
 },
 "nbformat": 4,
 "nbformat_minor": 4
}
